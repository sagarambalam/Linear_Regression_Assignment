{
 "cells": [
  {
   "cell_type": "markdown",
   "id": "b955ea44",
   "metadata": {},
   "source": [
    "### Imports"
   ]
  },
  {
   "cell_type": "code",
   "execution_count": 2,
   "id": "b9039c5c",
   "metadata": {},
   "outputs": [],
   "source": [
    "import pandas as pd\n",
    "import numpy as np\n",
    "import matplotlib.pyplot as plt\n",
    "import seaborn as sns"
   ]
  },
  {
   "cell_type": "markdown",
   "id": "ac037cff",
   "metadata": {},
   "source": [
    "### Reading the dataset"
   ]
  },
  {
   "cell_type": "code",
   "execution_count": 3,
   "id": "f21d11e2",
   "metadata": {},
   "outputs": [],
   "source": [
    "df = pd.read_csv('day.csv')"
   ]
  },
  {
   "cell_type": "code",
   "execution_count": 4,
   "id": "a3c0f766",
   "metadata": {},
   "outputs": [
    {
     "name": "stdout",
     "output_type": "stream",
     "text": [
      "<class 'pandas.core.frame.DataFrame'>\n",
      "RangeIndex: 730 entries, 0 to 729\n",
      "Data columns (total 16 columns):\n",
      " #   Column      Non-Null Count  Dtype  \n",
      "---  ------      --------------  -----  \n",
      " 0   instant     730 non-null    int64  \n",
      " 1   dteday      730 non-null    object \n",
      " 2   season      730 non-null    int64  \n",
      " 3   yr          730 non-null    int64  \n",
      " 4   mnth        730 non-null    int64  \n",
      " 5   holiday     730 non-null    int64  \n",
      " 6   weekday     730 non-null    int64  \n",
      " 7   workingday  730 non-null    int64  \n",
      " 8   weathersit  730 non-null    int64  \n",
      " 9   temp        730 non-null    float64\n",
      " 10  atemp       730 non-null    float64\n",
      " 11  hum         730 non-null    float64\n",
      " 12  windspeed   730 non-null    float64\n",
      " 13  casual      730 non-null    int64  \n",
      " 14  registered  730 non-null    int64  \n",
      " 15  cnt         730 non-null    int64  \n",
      "dtypes: float64(4), int64(11), object(1)\n",
      "memory usage: 91.4+ KB\n"
     ]
    }
   ],
   "source": [
    "df.info()"
   ]
  },
  {
   "cell_type": "markdown",
   "id": "70db9261",
   "metadata": {},
   "source": [
    "### Inference\n",
    "- The dataset has no Null Values"
   ]
  },
  {
   "cell_type": "code",
   "execution_count": 6,
   "id": "f2b314c6",
   "metadata": {},
   "outputs": [
    {
     "data": {
      "text/html": [
       "<div>\n",
       "<style scoped>\n",
       "    .dataframe tbody tr th:only-of-type {\n",
       "        vertical-align: middle;\n",
       "    }\n",
       "\n",
       "    .dataframe tbody tr th {\n",
       "        vertical-align: top;\n",
       "    }\n",
       "\n",
       "    .dataframe thead th {\n",
       "        text-align: right;\n",
       "    }\n",
       "</style>\n",
       "<table border=\"1\" class=\"dataframe\">\n",
       "  <thead>\n",
       "    <tr style=\"text-align: right;\">\n",
       "      <th></th>\n",
       "      <th>instant</th>\n",
       "      <th>dteday</th>\n",
       "      <th>season</th>\n",
       "      <th>yr</th>\n",
       "      <th>mnth</th>\n",
       "      <th>holiday</th>\n",
       "      <th>weekday</th>\n",
       "      <th>workingday</th>\n",
       "      <th>weathersit</th>\n",
       "      <th>temp</th>\n",
       "      <th>atemp</th>\n",
       "      <th>hum</th>\n",
       "      <th>windspeed</th>\n",
       "      <th>casual</th>\n",
       "      <th>registered</th>\n",
       "      <th>cnt</th>\n",
       "    </tr>\n",
       "  </thead>\n",
       "  <tbody>\n",
       "    <tr>\n",
       "      <th>0</th>\n",
       "      <td>1</td>\n",
       "      <td>01-01-2018</td>\n",
       "      <td>1</td>\n",
       "      <td>0</td>\n",
       "      <td>1</td>\n",
       "      <td>0</td>\n",
       "      <td>6</td>\n",
       "      <td>0</td>\n",
       "      <td>2</td>\n",
       "      <td>14.110847</td>\n",
       "      <td>18.18125</td>\n",
       "      <td>80.5833</td>\n",
       "      <td>10.749882</td>\n",
       "      <td>331</td>\n",
       "      <td>654</td>\n",
       "      <td>985</td>\n",
       "    </tr>\n",
       "    <tr>\n",
       "      <th>1</th>\n",
       "      <td>2</td>\n",
       "      <td>02-01-2018</td>\n",
       "      <td>1</td>\n",
       "      <td>0</td>\n",
       "      <td>1</td>\n",
       "      <td>0</td>\n",
       "      <td>0</td>\n",
       "      <td>0</td>\n",
       "      <td>2</td>\n",
       "      <td>14.902598</td>\n",
       "      <td>17.68695</td>\n",
       "      <td>69.6087</td>\n",
       "      <td>16.652113</td>\n",
       "      <td>131</td>\n",
       "      <td>670</td>\n",
       "      <td>801</td>\n",
       "    </tr>\n",
       "    <tr>\n",
       "      <th>2</th>\n",
       "      <td>3</td>\n",
       "      <td>03-01-2018</td>\n",
       "      <td>1</td>\n",
       "      <td>0</td>\n",
       "      <td>1</td>\n",
       "      <td>0</td>\n",
       "      <td>1</td>\n",
       "      <td>1</td>\n",
       "      <td>1</td>\n",
       "      <td>8.050924</td>\n",
       "      <td>9.47025</td>\n",
       "      <td>43.7273</td>\n",
       "      <td>16.636703</td>\n",
       "      <td>120</td>\n",
       "      <td>1229</td>\n",
       "      <td>1349</td>\n",
       "    </tr>\n",
       "    <tr>\n",
       "      <th>3</th>\n",
       "      <td>4</td>\n",
       "      <td>04-01-2018</td>\n",
       "      <td>1</td>\n",
       "      <td>0</td>\n",
       "      <td>1</td>\n",
       "      <td>0</td>\n",
       "      <td>2</td>\n",
       "      <td>1</td>\n",
       "      <td>1</td>\n",
       "      <td>8.200000</td>\n",
       "      <td>10.60610</td>\n",
       "      <td>59.0435</td>\n",
       "      <td>10.739832</td>\n",
       "      <td>108</td>\n",
       "      <td>1454</td>\n",
       "      <td>1562</td>\n",
       "    </tr>\n",
       "    <tr>\n",
       "      <th>4</th>\n",
       "      <td>5</td>\n",
       "      <td>05-01-2018</td>\n",
       "      <td>1</td>\n",
       "      <td>0</td>\n",
       "      <td>1</td>\n",
       "      <td>0</td>\n",
       "      <td>3</td>\n",
       "      <td>1</td>\n",
       "      <td>1</td>\n",
       "      <td>9.305237</td>\n",
       "      <td>11.46350</td>\n",
       "      <td>43.6957</td>\n",
       "      <td>12.522300</td>\n",
       "      <td>82</td>\n",
       "      <td>1518</td>\n",
       "      <td>1600</td>\n",
       "    </tr>\n",
       "  </tbody>\n",
       "</table>\n",
       "</div>"
      ],
      "text/plain": [
       "   instant      dteday  season  yr  mnth  holiday  weekday  workingday  \\\n",
       "0        1  01-01-2018       1   0     1        0        6           0   \n",
       "1        2  02-01-2018       1   0     1        0        0           0   \n",
       "2        3  03-01-2018       1   0     1        0        1           1   \n",
       "3        4  04-01-2018       1   0     1        0        2           1   \n",
       "4        5  05-01-2018       1   0     1        0        3           1   \n",
       "\n",
       "   weathersit       temp     atemp      hum  windspeed  casual  registered  \\\n",
       "0           2  14.110847  18.18125  80.5833  10.749882     331         654   \n",
       "1           2  14.902598  17.68695  69.6087  16.652113     131         670   \n",
       "2           1   8.050924   9.47025  43.7273  16.636703     120        1229   \n",
       "3           1   8.200000  10.60610  59.0435  10.739832     108        1454   \n",
       "4           1   9.305237  11.46350  43.6957  12.522300      82        1518   \n",
       "\n",
       "    cnt  \n",
       "0   985  \n",
       "1   801  \n",
       "2  1349  \n",
       "3  1562  \n",
       "4  1600  "
      ]
     },
     "execution_count": 6,
     "metadata": {},
     "output_type": "execute_result"
    }
   ],
   "source": [
    "df.head()"
   ]
  },
  {
   "cell_type": "markdown",
   "id": "f9027411",
   "metadata": {},
   "source": [
    "### Checking the unique values of select columns"
   ]
  },
  {
   "cell_type": "code",
   "execution_count": 7,
   "id": "a2d9f44b",
   "metadata": {},
   "outputs": [
    {
     "name": "stdout",
     "output_type": "stream",
     "text": [
      "Unique values of seasons are [1 2 3 4]\n",
      "Unique values of yr are [0 1]\n",
      "Unique values of mnth are [ 1  2  3  4  5  6  7  8  9 10 11 12]\n",
      "Unique values of weekday are [6 0 1 2 3 4 5]\n",
      "Unique values of workingday are [0 1]\n",
      "Unique values of holiday are [0 1]\n",
      "Unique values of weathersit are [2 1 3]\n"
     ]
    }
   ],
   "source": [
    "print('Unique values of seasons are {}'.format(df.season.unique()))\n",
    "print('Unique values of yr are {}'.format(df.yr.unique()))\n",
    "print('Unique values of mnth are {}'.format(df.mnth.unique()))\n",
    "print('Unique values of weekday are {}'.format(df.weekday.unique()))\n",
    "print('Unique values of workingday are {}'.format(df.workingday.unique()))\n",
    "print('Unique values of holiday are {}'.format(df.holiday.unique()))\n",
    "print('Unique values of weathersit are {}'.format(df.weathersit.unique()))"
   ]
  },
  {
   "cell_type": "markdown",
   "id": "f3eaf916",
   "metadata": {},
   "source": [
    "### Inference\n",
    "- From the data dictionary, we already know that the above variables are categorical variables.\n",
    "- We need to replace the numbers with the categories of\n",
    "    - season\n",
    "    - weekday\n",
    "    - month\n",
    "    - weathersit"
   ]
  },
  {
   "cell_type": "markdown",
   "id": "844c170e",
   "metadata": {},
   "source": [
    "### We will use the mapping based on the data dictionary provided"
   ]
  },
  {
   "cell_type": "code",
   "execution_count": 9,
   "id": "bdc50dee",
   "metadata": {},
   "outputs": [],
   "source": [
    "df['season'] = df.season.map({1:'spring', 2:'summer', 3:'fall',4:'winter'})\n",
    "df['weekday'] = df.weekday.map({0:'sunday',1:'monday',2:'tuesday',3:'wednesday',4:'thursday',5:'friday',6:'saturday'}) \n",
    "df['mnth'] = df.mnth.map({1:'jan',2:'feb',3:'mar',4:'apr',5:'may',6:'june',7:'july',8:'aug',9:\"sept\",10:'oct',11:'nov',12:'dec'})\n",
    "df['yr'] = df.yr.map({0:'2018',1:'2019'})\n",
    "df['weathersit'] = df.weathersit.map({1:'partly_cloudy', 2:'mist',3:'light_rain_or_snow',4:'heavy_rain'})"
   ]
  },
  {
   "cell_type": "markdown",
   "id": "247b7346",
   "metadata": {},
   "source": [
    "### Removing redundant columns\n",
    "1. dteday - As all the required information from date field has been extracted, we can remove this column\n",
    "2. casual - This is a classification of the total users, its wont be useful for predicion and hence is being removed.\n",
    "3. registered - This is a classification of the total users, it wont be useful for prediction and hence is being removed.\n",
    "4. instant - This variable is an index for the dataset, hence can be dropped`"
   ]
  },
  {
   "cell_type": "code",
   "execution_count": 10,
   "id": "ab00b258",
   "metadata": {},
   "outputs": [],
   "source": [
    "df.drop(['instant','dteday', 'casual', 'registered'], inplace=True, axis=1)"
   ]
  },
  {
   "cell_type": "code",
   "execution_count": 11,
   "id": "8a54ff9f",
   "metadata": {},
   "outputs": [
    {
     "data": {
      "text/html": [
       "<div>\n",
       "<style scoped>\n",
       "    .dataframe tbody tr th:only-of-type {\n",
       "        vertical-align: middle;\n",
       "    }\n",
       "\n",
       "    .dataframe tbody tr th {\n",
       "        vertical-align: top;\n",
       "    }\n",
       "\n",
       "    .dataframe thead th {\n",
       "        text-align: right;\n",
       "    }\n",
       "</style>\n",
       "<table border=\"1\" class=\"dataframe\">\n",
       "  <thead>\n",
       "    <tr style=\"text-align: right;\">\n",
       "      <th></th>\n",
       "      <th>season</th>\n",
       "      <th>yr</th>\n",
       "      <th>mnth</th>\n",
       "      <th>holiday</th>\n",
       "      <th>weekday</th>\n",
       "      <th>workingday</th>\n",
       "      <th>weathersit</th>\n",
       "      <th>temp</th>\n",
       "      <th>atemp</th>\n",
       "      <th>hum</th>\n",
       "      <th>windspeed</th>\n",
       "      <th>cnt</th>\n",
       "    </tr>\n",
       "  </thead>\n",
       "  <tbody>\n",
       "    <tr>\n",
       "      <th>0</th>\n",
       "      <td>spring</td>\n",
       "      <td>2018</td>\n",
       "      <td>jan</td>\n",
       "      <td>0</td>\n",
       "      <td>saturday</td>\n",
       "      <td>0</td>\n",
       "      <td>mist</td>\n",
       "      <td>14.110847</td>\n",
       "      <td>18.18125</td>\n",
       "      <td>80.5833</td>\n",
       "      <td>10.749882</td>\n",
       "      <td>985</td>\n",
       "    </tr>\n",
       "    <tr>\n",
       "      <th>1</th>\n",
       "      <td>spring</td>\n",
       "      <td>2018</td>\n",
       "      <td>jan</td>\n",
       "      <td>0</td>\n",
       "      <td>sunday</td>\n",
       "      <td>0</td>\n",
       "      <td>mist</td>\n",
       "      <td>14.902598</td>\n",
       "      <td>17.68695</td>\n",
       "      <td>69.6087</td>\n",
       "      <td>16.652113</td>\n",
       "      <td>801</td>\n",
       "    </tr>\n",
       "    <tr>\n",
       "      <th>2</th>\n",
       "      <td>spring</td>\n",
       "      <td>2018</td>\n",
       "      <td>jan</td>\n",
       "      <td>0</td>\n",
       "      <td>monday</td>\n",
       "      <td>1</td>\n",
       "      <td>partly_cloudy</td>\n",
       "      <td>8.050924</td>\n",
       "      <td>9.47025</td>\n",
       "      <td>43.7273</td>\n",
       "      <td>16.636703</td>\n",
       "      <td>1349</td>\n",
       "    </tr>\n",
       "    <tr>\n",
       "      <th>3</th>\n",
       "      <td>spring</td>\n",
       "      <td>2018</td>\n",
       "      <td>jan</td>\n",
       "      <td>0</td>\n",
       "      <td>tuesday</td>\n",
       "      <td>1</td>\n",
       "      <td>partly_cloudy</td>\n",
       "      <td>8.200000</td>\n",
       "      <td>10.60610</td>\n",
       "      <td>59.0435</td>\n",
       "      <td>10.739832</td>\n",
       "      <td>1562</td>\n",
       "    </tr>\n",
       "    <tr>\n",
       "      <th>4</th>\n",
       "      <td>spring</td>\n",
       "      <td>2018</td>\n",
       "      <td>jan</td>\n",
       "      <td>0</td>\n",
       "      <td>wednesday</td>\n",
       "      <td>1</td>\n",
       "      <td>partly_cloudy</td>\n",
       "      <td>9.305237</td>\n",
       "      <td>11.46350</td>\n",
       "      <td>43.6957</td>\n",
       "      <td>12.522300</td>\n",
       "      <td>1600</td>\n",
       "    </tr>\n",
       "  </tbody>\n",
       "</table>\n",
       "</div>"
      ],
      "text/plain": [
       "   season    yr mnth  holiday    weekday  workingday     weathersit  \\\n",
       "0  spring  2018  jan        0   saturday           0           mist   \n",
       "1  spring  2018  jan        0     sunday           0           mist   \n",
       "2  spring  2018  jan        0     monday           1  partly_cloudy   \n",
       "3  spring  2018  jan        0    tuesday           1  partly_cloudy   \n",
       "4  spring  2018  jan        0  wednesday           1  partly_cloudy   \n",
       "\n",
       "        temp     atemp      hum  windspeed   cnt  \n",
       "0  14.110847  18.18125  80.5833  10.749882   985  \n",
       "1  14.902598  17.68695  69.6087  16.652113   801  \n",
       "2   8.050924   9.47025  43.7273  16.636703  1349  \n",
       "3   8.200000  10.60610  59.0435  10.739832  1562  \n",
       "4   9.305237  11.46350  43.6957  12.522300  1600  "
      ]
     },
     "execution_count": 11,
     "metadata": {},
     "output_type": "execute_result"
    }
   ],
   "source": [
    "df.head()"
   ]
  },
  {
   "cell_type": "markdown",
   "id": "b0352f48",
   "metadata": {},
   "source": [
    "### Exploratory Data Analysis"
   ]
  },
  {
   "cell_type": "code",
   "execution_count": 12,
   "id": "42dc65d6",
   "metadata": {},
   "outputs": [
    {
     "data": {
      "text/plain": [
       "<AxesSubplot:>"
      ]
     },
     "execution_count": 12,
     "metadata": {},
     "output_type": "execute_result"
    },
    {
     "data": {
      "image/png": "[encoded data removed]",
      "text/plain": [
       "<Figure size 432x288 with 1 Axes>"
      ]
     },
     "metadata": {
      "needs_background": "light"
     },
     "output_type": "display_data"
    }
   ],
   "source": [
    "df.season.value_counts().plot(kind='bar', rot=0)"
   ]
  },
  {
   "cell_type": "code",
   "execution_count": 13,
   "id": "ea086209",
   "metadata": {},
   "outputs": [
    {
     "data": {
      "text/plain": [
       "<AxesSubplot:>"
      ]
     },
     "execution_count": 13,
     "metadata": {},
     "output_type": "execute_result"
    },
    {
     "data": {
      "image/png": "[encoded data removed]",
      "text/plain": [
       "<Figure size 432x288 with 1 Axes>"
      ]
     },
     "metadata": {
      "needs_background": "light"
     },
     "output_type": "display_data"
    }
   ],
   "source": [
    "df.yr.value_counts().plot(kind='bar', rot=0)"
   ]
  },
  {
   "cell_type": "code",
   "execution_count": 14,
   "id": "1f496e6a",
   "metadata": {},
   "outputs": [
    {
     "data": {
      "text/plain": [
       "<AxesSubplot:>"
      ]
     },
     "execution_count": 14,
     "metadata": {},
     "output_type": "execute_result"
    },
    {
     "data": {
      "image/png": "[encoded data removed]",
      "text/plain": [
       "<Figure size 432x288 with 1 Axes>"
      ]
     },
     "metadata": {
      "needs_background": "light"
     },
     "output_type": "display_data"
    }
   ],
   "source": [
    "df.holiday.value_counts().plot(kind='bar', rot=0)"
   ]
  },
  {
   "cell_type": "code",
   "execution_count": 15,
   "id": "73d7639f",
   "metadata": {},
   "outputs": [
    {
     "data": {
      "text/plain": [
       "<AxesSubplot:xlabel='yr,holiday'>"
      ]
     },
     "execution_count": 15,
     "metadata": {},
     "output_type": "execute_result"
    },
    {
     "data": {
      "image/png": "[encoded data removed]",
      "text/plain": [
       "<Figure size 432x288 with 1 Axes>"
      ]
     },
     "metadata": {
      "needs_background": "light"
     },
     "output_type": "display_data"
    }
   ],
   "source": [
    "df[['yr','holiday']].value_counts().plot(kind='bar', rot=0)"
   ]
  },
  {
   "cell_type": "code",
   "execution_count": 16,
   "id": "ce70f975",
   "metadata": {},
   "outputs": [
    {
     "data": {
      "text/plain": [
       "<AxesSubplot:>"
      ]
     },
     "execution_count": 16,
     "metadata": {},
     "output_type": "execute_result"
    },
    {
     "data": {
      "image/png": "[encoded data removed]",
      "text/plain": [
       "<Figure size 432x288 with 1 Axes>"
      ]
     },
     "metadata": {
      "needs_background": "light"
     },
     "output_type": "display_data"
    }
   ],
   "source": [
    "df.workingday.value_counts().plot(kind='bar', rot=0)"
   ]
  },
  {
   "cell_type": "code",
   "execution_count": 18,
   "id": "9d049712",
   "metadata": {},
   "outputs": [
    {
     "data": {
      "text/plain": [
       "<AxesSubplot:xlabel='yr,workingday'>"
      ]
     },
     "execution_count": 18,
     "metadata": {},
     "output_type": "execute_result"
    },
    {
     "data": {
      "image/png": "[encoded data removed]",
      "text/plain": [
       "<Figure size 432x288 with 1 Axes>"
      ]
     },
     "metadata": {
      "needs_background": "light"
     },
     "output_type": "display_data"
    }
   ],
   "source": [
    "df[['yr','workingday']].value_counts().plot(kind='bar', rot=0)"
   ]
  },
  {
   "cell_type": "markdown",
   "id": "dcc7d03e",
   "metadata": {},
   "source": [
    "### Inference\n",
    "1. There are 10 holidays in both years.\n",
    "2. There are 115 Non-working days.\n",
    "3. Based on the info provided in the data dictionary, weekends are have 0 in working day but are not marked as holiday."
   ]
  },
  {
   "cell_type": "code",
   "execution_count": 19,
   "id": "d1de442d",
   "metadata": {},
   "outputs": [
    {
     "data": {
      "text/plain": [
       "holiday  workingday\n",
       "0        1             499\n",
       "         0             210\n",
       "1        0              21\n",
       "dtype: int64"
      ]
     },
     "execution_count": 19,
     "metadata": {},
     "output_type": "execute_result"
    }
   ],
   "source": [
    "df[['holiday', 'workingday']].value_counts()"
   ]
  },
  {
   "cell_type": "markdown",
   "id": "384e52ec",
   "metadata": {},
   "source": [
    "### Checking for outliers"
   ]
  },
  {
   "cell_type": "code",
   "execution_count": 20,
   "id": "68365ccc",
   "metadata": {},
   "outputs": [
    {
     "data": {
      "text/plain": [
       "<AxesSubplot:>"
      ]
     },
     "execution_count": 20,
     "metadata": {},
     "output_type": "execute_result"
    },
    {
     "data": {
      "image/png": "[encoded data removed]",
      "text/plain": [
       "<Figure size 432x288 with 1 Axes>"
      ]
     },
     "metadata": {
      "needs_background": "light"
     },
     "output_type": "display_data"
    }
   ],
   "source": [
    "df['temp'].plot(kind='box')"
   ]
  },
  {
   "cell_type": "code",
   "execution_count": 21,
   "id": "ff2514ac",
   "metadata": {},
   "outputs": [
    {
     "data": {
      "text/plain": [
       "<AxesSubplot:>"
      ]
     },
     "execution_count": 21,
     "metadata": {},
     "output_type": "execute_result"
    },
    {
     "data": {
      "image/png": "[encoded data removed]",
      "text/plain": [
       "<Figure size 432x288 with 1 Axes>"
      ]
     },
     "metadata": {
      "needs_background": "light"
     },
     "output_type": "display_data"
    }
   ],
   "source": [
    "df['atemp'].plot(kind='box')"
   ]
  },
  {
   "cell_type": "code",
   "execution_count": 22,
   "id": "b8ae9767",
   "metadata": {},
   "outputs": [
    {
     "data": {
      "text/html": [
       "<div>\n",
       "<style scoped>\n",
       "    .dataframe tbody tr th:only-of-type {\n",
       "        vertical-align: middle;\n",
       "    }\n",
       "\n",
       "    .dataframe tbody tr th {\n",
       "        vertical-align: top;\n",
       "    }\n",
       "\n",
       "    .dataframe thead th {\n",
       "        text-align: right;\n",
       "    }\n",
       "</style>\n",
       "<table border=\"1\" class=\"dataframe\">\n",
       "  <thead>\n",
       "    <tr style=\"text-align: right;\">\n",
       "      <th></th>\n",
       "      <th>season</th>\n",
       "      <th>yr</th>\n",
       "      <th>mnth</th>\n",
       "      <th>holiday</th>\n",
       "      <th>weekday</th>\n",
       "      <th>workingday</th>\n",
       "      <th>weathersit</th>\n",
       "      <th>temp</th>\n",
       "      <th>atemp</th>\n",
       "      <th>hum</th>\n",
       "      <th>windspeed</th>\n",
       "      <th>cnt</th>\n",
       "    </tr>\n",
       "  </thead>\n",
       "  <tbody>\n",
       "    <tr>\n",
       "      <th>49</th>\n",
       "      <td>spring</td>\n",
       "      <td>2018</td>\n",
       "      <td>feb</td>\n",
       "      <td>0</td>\n",
       "      <td>saturday</td>\n",
       "      <td>0</td>\n",
       "      <td>partly_cloudy</td>\n",
       "      <td>16.365847</td>\n",
       "      <td>19.5702</td>\n",
       "      <td>18.7917</td>\n",
       "      <td>34.000021</td>\n",
       "      <td>1635</td>\n",
       "    </tr>\n",
       "    <tr>\n",
       "      <th>68</th>\n",
       "      <td>spring</td>\n",
       "      <td>2018</td>\n",
       "      <td>mar</td>\n",
       "      <td>0</td>\n",
       "      <td>thursday</td>\n",
       "      <td>1</td>\n",
       "      <td>light_rain_or_snow</td>\n",
       "      <td>15.952731</td>\n",
       "      <td>19.2834</td>\n",
       "      <td>0.0000</td>\n",
       "      <td>17.545759</td>\n",
       "      <td>623</td>\n",
       "    </tr>\n",
       "  </tbody>\n",
       "</table>\n",
       "</div>"
      ],
      "text/plain": [
       "    season    yr mnth  holiday   weekday  workingday          weathersit  \\\n",
       "49  spring  2018  feb        0  saturday           0       partly_cloudy   \n",
       "68  spring  2018  mar        0  thursday           1  light_rain_or_snow   \n",
       "\n",
       "         temp    atemp      hum  windspeed   cnt  \n",
       "49  16.365847  19.5702  18.7917  34.000021  1635  \n",
       "68  15.952731  19.2834   0.0000  17.545759   623  "
      ]
     },
     "execution_count": 22,
     "metadata": {},
     "output_type": "execute_result"
    }
   ],
   "source": [
    "df[df.hum<20]"
   ]
  },
  {
   "cell_type": "code",
   "execution_count": 23,
   "id": "aff9c9b6",
   "metadata": {},
   "outputs": [
    {
     "name": "stderr",
     "output_type": "stream",
     "text": [
      "C:\\Users\\sagar.ambalam\\Anaconda3\\lib\\site-packages\\seaborn\\_decorators.py:36: FutureWarning: Pass the following variables as keyword args: x, y. From version 0.12, the only valid positional argument will be `data`, and passing other arguments without an explicit keyword will result in an error or misinterpretation.\n",
      "  warnings.warn(\n"
     ]
    },
    {
     "data": {
      "text/plain": [
       "<AxesSubplot:xlabel='hum', ylabel='cnt'>"
      ]
     },
     "execution_count": 23,
     "metadata": {},
     "output_type": "execute_result"
    },
    {
     "data": {
      "image/png": "[encoded data removed]",
      "text/plain": [
       "<Figure size 432x288 with 1 Axes>"
      ]
     },
     "metadata": {
      "needs_background": "light"
     },
     "output_type": "display_data"
    }
   ],
   "source": [
    "sns.regplot(df.hum, df.cnt)"
   ]
  },
  {
   "cell_type": "code",
   "execution_count": 24,
   "id": "13907450",
   "metadata": {},
   "outputs": [],
   "source": [
    "df = df[df.hum>20]"
   ]
  },
  {
   "cell_type": "code",
   "execution_count": 25,
   "id": "fa3bfe96",
   "metadata": {},
   "outputs": [
    {
     "data": {
      "text/plain": [
       "<AxesSubplot:>"
      ]
     },
     "execution_count": 25,
     "metadata": {},
     "output_type": "execute_result"
    },
    {
     "data": {
      "image/png": "[encoded data removed]",
      "text/plain": [
       "<Figure size 432x288 with 1 Axes>"
      ]
     },
     "metadata": {
      "needs_background": "light"
     },
     "output_type": "display_data"
    }
   ],
   "source": [
    "df['windspeed'].plot(kind='box')"
   ]
  },
  {
   "cell_type": "code",
   "execution_count": 26,
   "id": "639bfc82",
   "metadata": {},
   "outputs": [
    {
     "data": {
      "text/html": [
       "<div>\n",
       "<style scoped>\n",
       "    .dataframe tbody tr th:only-of-type {\n",
       "        vertical-align: middle;\n",
       "    }\n",
       "\n",
       "    .dataframe tbody tr th {\n",
       "        vertical-align: top;\n",
       "    }\n",
       "\n",
       "    .dataframe thead th {\n",
       "        text-align: right;\n",
       "    }\n",
       "</style>\n",
       "<table border=\"1\" class=\"dataframe\">\n",
       "  <thead>\n",
       "    <tr style=\"text-align: right;\">\n",
       "      <th></th>\n",
       "      <th>season</th>\n",
       "      <th>yr</th>\n",
       "      <th>mnth</th>\n",
       "      <th>holiday</th>\n",
       "      <th>weekday</th>\n",
       "      <th>workingday</th>\n",
       "      <th>weathersit</th>\n",
       "      <th>temp</th>\n",
       "      <th>atemp</th>\n",
       "      <th>hum</th>\n",
       "      <th>windspeed</th>\n",
       "      <th>cnt</th>\n",
       "    </tr>\n",
       "  </thead>\n",
       "  <tbody>\n",
       "    <tr>\n",
       "      <th>44</th>\n",
       "      <td>spring</td>\n",
       "      <td>2018</td>\n",
       "      <td>feb</td>\n",
       "      <td>0</td>\n",
       "      <td>monday</td>\n",
       "      <td>1</td>\n",
       "      <td>partly_cloudy</td>\n",
       "      <td>17.015000</td>\n",
       "      <td>19.91750</td>\n",
       "      <td>37.5833</td>\n",
       "      <td>27.999836</td>\n",
       "      <td>1913</td>\n",
       "    </tr>\n",
       "    <tr>\n",
       "      <th>93</th>\n",
       "      <td>summer</td>\n",
       "      <td>2018</td>\n",
       "      <td>apr</td>\n",
       "      <td>0</td>\n",
       "      <td>monday</td>\n",
       "      <td>1</td>\n",
       "      <td>partly_cloudy</td>\n",
       "      <td>23.506653</td>\n",
       "      <td>27.14645</td>\n",
       "      <td>42.6250</td>\n",
       "      <td>25.833257</td>\n",
       "      <td>3115</td>\n",
       "    </tr>\n",
       "    <tr>\n",
       "      <th>94</th>\n",
       "      <td>summer</td>\n",
       "      <td>2018</td>\n",
       "      <td>apr</td>\n",
       "      <td>0</td>\n",
       "      <td>tuesday</td>\n",
       "      <td>1</td>\n",
       "      <td>mist</td>\n",
       "      <td>16.980847</td>\n",
       "      <td>19.91750</td>\n",
       "      <td>64.2083</td>\n",
       "      <td>26.000489</td>\n",
       "      <td>1795</td>\n",
       "    </tr>\n",
       "    <tr>\n",
       "      <th>238</th>\n",
       "      <td>fall</td>\n",
       "      <td>2018</td>\n",
       "      <td>aug</td>\n",
       "      <td>0</td>\n",
       "      <td>saturday</td>\n",
       "      <td>0</td>\n",
       "      <td>mist</td>\n",
       "      <td>27.880000</td>\n",
       "      <td>31.77780</td>\n",
       "      <td>85.0000</td>\n",
       "      <td>25.166339</td>\n",
       "      <td>1115</td>\n",
       "    </tr>\n",
       "    <tr>\n",
       "      <th>292</th>\n",
       "      <td>winter</td>\n",
       "      <td>2018</td>\n",
       "      <td>oct</td>\n",
       "      <td>0</td>\n",
       "      <td>thursday</td>\n",
       "      <td>1</td>\n",
       "      <td>partly_cloudy</td>\n",
       "      <td>19.509153</td>\n",
       "      <td>23.32625</td>\n",
       "      <td>63.6250</td>\n",
       "      <td>28.292425</td>\n",
       "      <td>4195</td>\n",
       "    </tr>\n",
       "    <tr>\n",
       "      <th>377</th>\n",
       "      <td>spring</td>\n",
       "      <td>2019</td>\n",
       "      <td>jan</td>\n",
       "      <td>0</td>\n",
       "      <td>friday</td>\n",
       "      <td>1</td>\n",
       "      <td>partly_cloudy</td>\n",
       "      <td>11.240847</td>\n",
       "      <td>12.46810</td>\n",
       "      <td>50.7500</td>\n",
       "      <td>25.333236</td>\n",
       "      <td>3214</td>\n",
       "    </tr>\n",
       "    <tr>\n",
       "      <th>382</th>\n",
       "      <td>spring</td>\n",
       "      <td>2019</td>\n",
       "      <td>jan</td>\n",
       "      <td>0</td>\n",
       "      <td>wednesday</td>\n",
       "      <td>1</td>\n",
       "      <td>partly_cloudy</td>\n",
       "      <td>12.436653</td>\n",
       "      <td>13.76270</td>\n",
       "      <td>44.3333</td>\n",
       "      <td>27.833743</td>\n",
       "      <td>3376</td>\n",
       "    </tr>\n",
       "    <tr>\n",
       "      <th>407</th>\n",
       "      <td>spring</td>\n",
       "      <td>2019</td>\n",
       "      <td>feb</td>\n",
       "      <td>0</td>\n",
       "      <td>sunday</td>\n",
       "      <td>0</td>\n",
       "      <td>partly_cloudy</td>\n",
       "      <td>5.227500</td>\n",
       "      <td>5.08290</td>\n",
       "      <td>46.4583</td>\n",
       "      <td>27.417204</td>\n",
       "      <td>1529</td>\n",
       "    </tr>\n",
       "    <tr>\n",
       "      <th>420</th>\n",
       "      <td>spring</td>\n",
       "      <td>2019</td>\n",
       "      <td>feb</td>\n",
       "      <td>0</td>\n",
       "      <td>saturday</td>\n",
       "      <td>0</td>\n",
       "      <td>partly_cloudy</td>\n",
       "      <td>11.924153</td>\n",
       "      <td>12.78375</td>\n",
       "      <td>39.5833</td>\n",
       "      <td>28.250014</td>\n",
       "      <td>2732</td>\n",
       "    </tr>\n",
       "    <tr>\n",
       "      <th>431</th>\n",
       "      <td>spring</td>\n",
       "      <td>2019</td>\n",
       "      <td>mar</td>\n",
       "      <td>0</td>\n",
       "      <td>thursday</td>\n",
       "      <td>1</td>\n",
       "      <td>partly_cloudy</td>\n",
       "      <td>21.627500</td>\n",
       "      <td>26.23020</td>\n",
       "      <td>56.7500</td>\n",
       "      <td>29.584721</td>\n",
       "      <td>5382</td>\n",
       "    </tr>\n",
       "    <tr>\n",
       "      <th>432</th>\n",
       "      <td>spring</td>\n",
       "      <td>2019</td>\n",
       "      <td>mar</td>\n",
       "      <td>0</td>\n",
       "      <td>friday</td>\n",
       "      <td>1</td>\n",
       "      <td>mist</td>\n",
       "      <td>16.844153</td>\n",
       "      <td>19.85415</td>\n",
       "      <td>40.7083</td>\n",
       "      <td>27.791600</td>\n",
       "      <td>4569</td>\n",
       "    </tr>\n",
       "    <tr>\n",
       "      <th>449</th>\n",
       "      <td>summer</td>\n",
       "      <td>2019</td>\n",
       "      <td>mar</td>\n",
       "      <td>0</td>\n",
       "      <td>monday</td>\n",
       "      <td>1</td>\n",
       "      <td>partly_cloudy</td>\n",
       "      <td>18.279153</td>\n",
       "      <td>21.93750</td>\n",
       "      <td>47.7917</td>\n",
       "      <td>25.917007</td>\n",
       "      <td>5558</td>\n",
       "    </tr>\n",
       "    <tr>\n",
       "      <th>665</th>\n",
       "      <td>winter</td>\n",
       "      <td>2019</td>\n",
       "      <td>oct</td>\n",
       "      <td>0</td>\n",
       "      <td>sunday</td>\n",
       "      <td>0</td>\n",
       "      <td>mist</td>\n",
       "      <td>19.577500</td>\n",
       "      <td>23.38855</td>\n",
       "      <td>69.4583</td>\n",
       "      <td>26.666536</td>\n",
       "      <td>4459</td>\n",
       "    </tr>\n",
       "    <tr>\n",
       "      <th>692</th>\n",
       "      <td>winter</td>\n",
       "      <td>2019</td>\n",
       "      <td>nov</td>\n",
       "      <td>0</td>\n",
       "      <td>saturday</td>\n",
       "      <td>0</td>\n",
       "      <td>partly_cloudy</td>\n",
       "      <td>11.411653</td>\n",
       "      <td>12.43710</td>\n",
       "      <td>40.4583</td>\n",
       "      <td>25.250357</td>\n",
       "      <td>2277</td>\n",
       "    </tr>\n",
       "    <tr>\n",
       "      <th>719</th>\n",
       "      <td>spring</td>\n",
       "      <td>2019</td>\n",
       "      <td>dec</td>\n",
       "      <td>0</td>\n",
       "      <td>friday</td>\n",
       "      <td>1</td>\n",
       "      <td>mist</td>\n",
       "      <td>13.393347</td>\n",
       "      <td>15.08835</td>\n",
       "      <td>55.6667</td>\n",
       "      <td>25.083661</td>\n",
       "      <td>3623</td>\n",
       "    </tr>\n",
       "    <tr>\n",
       "      <th>720</th>\n",
       "      <td>spring</td>\n",
       "      <td>2019</td>\n",
       "      <td>dec</td>\n",
       "      <td>0</td>\n",
       "      <td>saturday</td>\n",
       "      <td>0</td>\n",
       "      <td>partly_cloudy</td>\n",
       "      <td>10.899153</td>\n",
       "      <td>11.80565</td>\n",
       "      <td>44.1250</td>\n",
       "      <td>27.292182</td>\n",
       "      <td>1749</td>\n",
       "    </tr>\n",
       "  </tbody>\n",
       "</table>\n",
       "</div>"
      ],
      "text/plain": [
       "     season    yr mnth  holiday    weekday  workingday     weathersit  \\\n",
       "44   spring  2018  feb        0     monday           1  partly_cloudy   \n",
       "93   summer  2018  apr        0     monday           1  partly_cloudy   \n",
       "94   summer  2018  apr        0    tuesday           1           mist   \n",
       "238    fall  2018  aug        0   saturday           0           mist   \n",
       "292  winter  2018  oct        0   thursday           1  partly_cloudy   \n",
       "377  spring  2019  jan        0     friday           1  partly_cloudy   \n",
       "382  spring  2019  jan        0  wednesday           1  partly_cloudy   \n",
       "407  spring  2019  feb        0     sunday           0  partly_cloudy   \n",
       "420  spring  2019  feb        0   saturday           0  partly_cloudy   \n",
       "431  spring  2019  mar        0   thursday           1  partly_cloudy   \n",
       "432  spring  2019  mar        0     friday           1           mist   \n",
       "449  summer  2019  mar        0     monday           1  partly_cloudy   \n",
       "665  winter  2019  oct        0     sunday           0           mist   \n",
       "692  winter  2019  nov        0   saturday           0  partly_cloudy   \n",
       "719  spring  2019  dec        0     friday           1           mist   \n",
       "720  spring  2019  dec        0   saturday           0  partly_cloudy   \n",
       "\n",
       "          temp     atemp      hum  windspeed   cnt  \n",
       "44   17.015000  19.91750  37.5833  27.999836  1913  \n",
       "93   23.506653  27.14645  42.6250  25.833257  3115  \n",
       "94   16.980847  19.91750  64.2083  26.000489  1795  \n",
       "238  27.880000  31.77780  85.0000  25.166339  1115  \n",
       "292  19.509153  23.32625  63.6250  28.292425  4195  \n",
       "377  11.240847  12.46810  50.7500  25.333236  3214  \n",
       "382  12.436653  13.76270  44.3333  27.833743  3376  \n",
       "407   5.227500   5.08290  46.4583  27.417204  1529  \n",
       "420  11.924153  12.78375  39.5833  28.250014  2732  \n",
       "431  21.627500  26.23020  56.7500  29.584721  5382  \n",
       "432  16.844153  19.85415  40.7083  27.791600  4569  \n",
       "449  18.279153  21.93750  47.7917  25.917007  5558  \n",
       "665  19.577500  23.38855  69.4583  26.666536  4459  \n",
       "692  11.411653  12.43710  40.4583  25.250357  2277  \n",
       "719  13.393347  15.08835  55.6667  25.083661  3623  \n",
       "720  10.899153  11.80565  44.1250  27.292182  1749  "
      ]
     },
     "execution_count": 26,
     "metadata": {},
     "output_type": "execute_result"
    }
   ],
   "source": [
    "df[df.windspeed>25]"
   ]
  },
  {
   "cell_type": "markdown",
   "id": "f56728c3",
   "metadata": {},
   "source": [
    "- As there are many data points that are outliers to the data, we cannot remove them. These need to be treated. Hence we will be imputing them with the max value of inter quartile range\n"
   ]
  },
  {
   "cell_type": "code",
   "execution_count": 28,
   "id": "53641a28",
   "metadata": {},
   "outputs": [
    {
     "name": "stdout",
     "output_type": "stream",
     "text": [
      "minimum value of windspeed:  -0.8584374999999991\n",
      "maximum value of windspeed:  25.514638499999997\n"
     ]
    }
   ],
   "source": [
    "lower_quartile = df.windspeed.quantile(0.25)\n",
    "upper_quartile = df.windspeed.quantile(0.75)\n",
    "iqr = upper_quartile-lower_quartile\n",
    "min_windspeed_val = lower_quartile-iqr*1.5\n",
    "max_windspeed_val = upper_quartile+iqr*1.5\n",
    "print(\"minimum value of windspeed: \",min_windspeed_val)\n",
    "print(\"maximum value of windspeed: \", max_windspeed_val)"
   ]
  },
  {
   "cell_type": "code",
   "execution_count": 29,
   "id": "813759c4",
   "metadata": {},
   "outputs": [
    {
     "name": "stderr",
     "output_type": "stream",
     "text": [
      "C:\\Users\\sagar.ambalam\\Anaconda3\\lib\\site-packages\\seaborn\\_decorators.py:36: FutureWarning: Pass the following variables as keyword args: x, y. From version 0.12, the only valid positional argument will be `data`, and passing other arguments without an explicit keyword will result in an error or misinterpretation.\n",
      "  warnings.warn(\n"
     ]
    },
    {
     "data": {
      "text/plain": [
       "<AxesSubplot:xlabel='windspeed', ylabel='cnt'>"
      ]
     },
     "execution_count": 29,
     "metadata": {},
     "output_type": "execute_result"
    },
    {
     "data": {
      "image/png": "[encoded data removed]",
      "text/plain": [
       "<Figure size 432x288 with 1 Axes>"
      ]
     },
     "metadata": {
      "needs_background": "light"
     },
     "output_type": "display_data"
    }
   ],
   "source": [
    "sns.regplot(df.windspeed, df.cnt)"
   ]
  },
  {
   "cell_type": "code",
   "execution_count": 30,
   "id": "7e35bbc5",
   "metadata": {},
   "outputs": [],
   "source": [
    "df.loc[df.windspeed>max_windspeed_val, 'windspeed'] = max_windspeed_val"
   ]
  },
  {
   "cell_type": "code",
   "execution_count": 31,
   "id": "5759df91",
   "metadata": {},
   "outputs": [
    {
     "name": "stderr",
     "output_type": "stream",
     "text": [
      "C:\\Users\\sagar.ambalam\\Anaconda3\\lib\\site-packages\\seaborn\\_decorators.py:36: FutureWarning: Pass the following variables as keyword args: x, y. From version 0.12, the only valid positional argument will be `data`, and passing other arguments without an explicit keyword will result in an error or misinterpretation.\n",
      "  warnings.warn(\n"
     ]
    },
    {
     "data": {
      "text/plain": [
       "<AxesSubplot:xlabel='windspeed', ylabel='cnt'>"
      ]
     },
     "execution_count": 31,
     "metadata": {},
     "output_type": "execute_result"
    },
    {
     "data": {
      "image/png": "[encoded data removed]",
      "text/plain": [
       "<Figure size 432x288 with 1 Axes>"
      ]
     },
     "metadata": {
      "needs_background": "light"
     },
     "output_type": "display_data"
    }
   ],
   "source": [
    "sns.regplot(df.windspeed, df.cnt)"
   ]
  },
  {
   "cell_type": "markdown",
   "id": "e67c4fe6",
   "metadata": {},
   "source": [
    "- Based on the imputation results and regression plots, we can say that imputation did not lead to high change in the relationship with the target variable."
   ]
  },
  {
   "cell_type": "markdown",
   "id": "7e143073",
   "metadata": {},
   "source": [
    "### Bivariate Analysis"
   ]
  },
  {
   "cell_type": "code",
   "execution_count": 32,
   "id": "fa2e4a13",
   "metadata": {},
   "outputs": [
    {
     "data": {
      "text/plain": [
       "<AxesSubplot:xlabel='mnth', ylabel='cnt'>"
      ]
     },
     "execution_count": 32,
     "metadata": {},
     "output_type": "execute_result"
    },
    {
     "data": {
      "image/png": "[encoded data removed]",
      "text/plain": [
       "<Figure size 720x360 with 1 Axes>"
      ]
     },
     "metadata": {
      "needs_background": "light"
     },
     "output_type": "display_data"
    }
   ],
   "source": [
    "plt.figure(figsize=(10,5))\n",
    "sns.barplot(x='mnth', y='cnt',hue='yr', data = df)"
   ]
  },
  {
   "cell_type": "markdown",
   "id": "73e6863e",
   "metadata": {},
   "source": [
    "- Based on the mapping, we can clearly say that the demand rises as the year progresses from jan to july, and again falls by the end of the year i.e, in Nov and dec.\n",
    "- Also, we can clearly see that the demand has increased from 2018 to 2019\n",
    "- At the same time seasonality of demand can also be seen in the above chart."
   ]
  },
  {
   "cell_type": "code",
   "execution_count": 33,
   "id": "60c906e8",
   "metadata": {},
   "outputs": [
    {
     "data": {
      "text/plain": [
       "<AxesSubplot:xlabel='season', ylabel='cnt'>"
      ]
     },
     "execution_count": 33,
     "metadata": {},
     "output_type": "execute_result"
    },
    {
     "data": {
      "image/png": "[encoded data removed]",
      "text/plain": [
       "<Figure size 432x288 with 1 Axes>"
      ]
     },
     "metadata": {
      "needs_background": "light"
     },
     "output_type": "display_data"
    }
   ],
   "source": [
    "sns.barplot(x='season', y='cnt',hue='yr', data = df)"
   ]
  },
  {
   "cell_type": "markdown",
   "id": "f763650b",
   "metadata": {},
   "source": [
    "- Based on the above graph, we can say that the demand rises in summer and fall season while the demand is low in spring season.\n",
    "- Also, similar to previous chart, we can see the seasonal nature of the demand as the pattern is similar for both the years."
   ]
  },
  {
   "cell_type": "code",
   "execution_count": 34,
   "id": "37644e11",
   "metadata": {},
   "outputs": [
    {
     "data": {
      "text/plain": [
       "<AxesSubplot:xlabel='cnt', ylabel='season'>"
      ]
     },
     "execution_count": 34,
     "metadata": {},
     "output_type": "execute_result"
    },
    {
     "data": {
      "image/png": "[encoded data removed]",
      "text/plain": [
       "<Figure size 1440x360 with 1 Axes>"
      ]
     },
     "metadata": {
      "needs_background": "light"
     },
     "output_type": "display_data"
    }
   ],
   "source": [
    "plt.figure(figsize=(20,5))\n",
    "sns.scatterplot(x='cnt', y='season', hue='yr',data=df)"
   ]
  },
  {
   "cell_type": "markdown",
   "id": "814a11d8",
   "metadata": {},
   "source": [
    "- This scatter plot shows the distribution of data points across seasons. We can see here that there are a few data points which have unusual numbers like the demand in wither for one of the data point is 0. We need to validate such data points."
   ]
  },
  {
   "cell_type": "code",
   "execution_count": 35,
   "id": "a11cda69",
   "metadata": {},
   "outputs": [
    {
     "data": {
      "text/plain": [
       "<AxesSubplot:xlabel='cnt', ylabel='weathersit'>"
      ]
     },
     "execution_count": 35,
     "metadata": {},
     "output_type": "execute_result"
    },
    {
     "data": {
      "image/png": "[encoded data removed]",
      "text/plain": [
       "<Figure size 1440x576 with 1 Axes>"
      ]
     },
     "metadata": {
      "needs_background": "light"
     },
     "output_type": "display_data"
    }
   ],
   "source": [
    "plt.figure(figsize=(20,8))\n",
    "sns.scatterplot(x='cnt', y='weathersit', hue='yr',data=df)"
   ]
  },
  {
   "cell_type": "markdown",
   "id": "2355ed2f",
   "metadata": {},
   "source": [
    "- The number of datapoints in light_rain_or_snow category of weathersit is less as compared to the other 2 categories."
   ]
  },
  {
   "cell_type": "markdown",
   "id": "d9511119",
   "metadata": {},
   "source": [
    "## Building model"
   ]
  },
  {
   "cell_type": "markdown",
   "id": "4515ae45",
   "metadata": {},
   "source": [
    "#### One Hot Encoding for Categorical variables"
   ]
  },
  {
   "cell_type": "code",
   "execution_count": 39,
   "id": "b669693f",
   "metadata": {},
   "outputs": [],
   "source": [
    "df_ohe = pd.get_dummies(df)"
   ]
  },
  {
   "cell_type": "code",
   "execution_count": 40,
   "id": "819eddbe",
   "metadata": {},
   "outputs": [
    {
     "data": {
      "text/plain": [
       "Index(['holiday', 'workingday', 'temp', 'atemp', 'hum', 'windspeed', 'cnt',\n",
       "       'season_fall', 'season_spring', 'season_summer', 'season_winter',\n",
       "       'yr_2018', 'yr_2019', 'mnth_apr', 'mnth_aug', 'mnth_dec', 'mnth_feb',\n",
       "       'mnth_jan', 'mnth_july', 'mnth_june', 'mnth_mar', 'mnth_may',\n",
       "       'mnth_nov', 'mnth_oct', 'mnth_sept', 'weekday_friday', 'weekday_monday',\n",
       "       'weekday_saturday', 'weekday_sunday', 'weekday_thursday',\n",
       "       'weekday_tuesday', 'weekday_wednesday', 'weathersit_light_rain_or_snow',\n",
       "       'weathersit_mist', 'weathersit_partly_cloudy'],\n",
       "      dtype='object')"
      ]
     },
     "execution_count": 40,
     "metadata": {},
     "output_type": "execute_result"
    }
   ],
   "source": [
    "df_ohe.columns"
   ]
  },
  {
   "cell_type": "code",
   "execution_count": 41,
   "id": "e7ff21ad",
   "metadata": {},
   "outputs": [
    {
     "data": {
      "text/html": [
       "<div>\n",
       "<style scoped>\n",
       "    .dataframe tbody tr th:only-of-type {\n",
       "        vertical-align: middle;\n",
       "    }\n",
       "\n",
       "    .dataframe tbody tr th {\n",
       "        vertical-align: top;\n",
       "    }\n",
       "\n",
       "    .dataframe thead th {\n",
       "        text-align: right;\n",
       "    }\n",
       "</style>\n",
       "<table border=\"1\" class=\"dataframe\">\n",
       "  <thead>\n",
       "    <tr style=\"text-align: right;\">\n",
       "      <th></th>\n",
       "      <th>holiday</th>\n",
       "      <th>workingday</th>\n",
       "      <th>temp</th>\n",
       "      <th>atemp</th>\n",
       "      <th>hum</th>\n",
       "      <th>windspeed</th>\n",
       "      <th>cnt</th>\n",
       "      <th>season_fall</th>\n",
       "      <th>season_spring</th>\n",
       "      <th>season_summer</th>\n",
       "      <th>...</th>\n",
       "      <th>weekday_friday</th>\n",
       "      <th>weekday_monday</th>\n",
       "      <th>weekday_saturday</th>\n",
       "      <th>weekday_sunday</th>\n",
       "      <th>weekday_thursday</th>\n",
       "      <th>weekday_tuesday</th>\n",
       "      <th>weekday_wednesday</th>\n",
       "      <th>weathersit_light_rain_or_snow</th>\n",
       "      <th>weathersit_mist</th>\n",
       "      <th>weathersit_partly_cloudy</th>\n",
       "    </tr>\n",
       "  </thead>\n",
       "  <tbody>\n",
       "    <tr>\n",
       "      <th>0</th>\n",
       "      <td>0</td>\n",
       "      <td>0</td>\n",
       "      <td>14.110847</td>\n",
       "      <td>18.18125</td>\n",
       "      <td>80.5833</td>\n",
       "      <td>10.749882</td>\n",
       "      <td>985</td>\n",
       "      <td>0</td>\n",
       "      <td>1</td>\n",
       "      <td>0</td>\n",
       "      <td>...</td>\n",
       "      <td>0</td>\n",
       "      <td>0</td>\n",
       "      <td>1</td>\n",
       "      <td>0</td>\n",
       "      <td>0</td>\n",
       "      <td>0</td>\n",
       "      <td>0</td>\n",
       "      <td>0</td>\n",
       "      <td>1</td>\n",
       "      <td>0</td>\n",
       "    </tr>\n",
       "    <tr>\n",
       "      <th>1</th>\n",
       "      <td>0</td>\n",
       "      <td>0</td>\n",
       "      <td>14.902598</td>\n",
       "      <td>17.68695</td>\n",
       "      <td>69.6087</td>\n",
       "      <td>16.652113</td>\n",
       "      <td>801</td>\n",
       "      <td>0</td>\n",
       "      <td>1</td>\n",
       "      <td>0</td>\n",
       "      <td>...</td>\n",
       "      <td>0</td>\n",
       "      <td>0</td>\n",
       "      <td>0</td>\n",
       "      <td>1</td>\n",
       "      <td>0</td>\n",
       "      <td>0</td>\n",
       "      <td>0</td>\n",
       "      <td>0</td>\n",
       "      <td>1</td>\n",
       "      <td>0</td>\n",
       "    </tr>\n",
       "    <tr>\n",
       "      <th>2</th>\n",
       "      <td>0</td>\n",
       "      <td>1</td>\n",
       "      <td>8.050924</td>\n",
       "      <td>9.47025</td>\n",
       "      <td>43.7273</td>\n",
       "      <td>16.636703</td>\n",
       "      <td>1349</td>\n",
       "      <td>0</td>\n",
       "      <td>1</td>\n",
       "      <td>0</td>\n",
       "      <td>...</td>\n",
       "      <td>0</td>\n",
       "      <td>1</td>\n",
       "      <td>0</td>\n",
       "      <td>0</td>\n",
       "      <td>0</td>\n",
       "      <td>0</td>\n",
       "      <td>0</td>\n",
       "      <td>0</td>\n",
       "      <td>0</td>\n",
       "      <td>1</td>\n",
       "    </tr>\n",
       "    <tr>\n",
       "      <th>3</th>\n",
       "      <td>0</td>\n",
       "      <td>1</td>\n",
       "      <td>8.200000</td>\n",
       "      <td>10.60610</td>\n",
       "      <td>59.0435</td>\n",
       "      <td>10.739832</td>\n",
       "      <td>1562</td>\n",
       "      <td>0</td>\n",
       "      <td>1</td>\n",
       "      <td>0</td>\n",
       "      <td>...</td>\n",
       "      <td>0</td>\n",
       "      <td>0</td>\n",
       "      <td>0</td>\n",
       "      <td>0</td>\n",
       "      <td>0</td>\n",
       "      <td>1</td>\n",
       "      <td>0</td>\n",
       "      <td>0</td>\n",
       "      <td>0</td>\n",
       "      <td>1</td>\n",
       "    </tr>\n",
       "    <tr>\n",
       "      <th>4</th>\n",
       "      <td>0</td>\n",
       "      <td>1</td>\n",
       "      <td>9.305237</td>\n",
       "      <td>11.46350</td>\n",
       "      <td>43.6957</td>\n",
       "      <td>12.522300</td>\n",
       "      <td>1600</td>\n",
       "      <td>0</td>\n",
       "      <td>1</td>\n",
       "      <td>0</td>\n",
       "      <td>...</td>\n",
       "      <td>0</td>\n",
       "      <td>0</td>\n",
       "      <td>0</td>\n",
       "      <td>0</td>\n",
       "      <td>0</td>\n",
       "      <td>0</td>\n",
       "      <td>1</td>\n",
       "      <td>0</td>\n",
       "      <td>0</td>\n",
       "      <td>1</td>\n",
       "    </tr>\n",
       "  </tbody>\n",
       "</table>\n",
       "<p>5 rows × 35 columns</p>\n",
       "</div>"
      ],
      "text/plain": [
       "   holiday  workingday       temp     atemp      hum  windspeed   cnt  \\\n",
       "0        0           0  14.110847  18.18125  80.5833  10.749882   985   \n",
       "1        0           0  14.902598  17.68695  69.6087  16.652113   801   \n",
       "2        0           1   8.050924   9.47025  43.7273  16.636703  1349   \n",
       "3        0           1   8.200000  10.60610  59.0435  10.739832  1562   \n",
       "4        0           1   9.305237  11.46350  43.6957  12.522300  1600   \n",
       "\n",
       "   season_fall  season_spring  season_summer  ...  weekday_friday  \\\n",
       "0            0              1              0  ...               0   \n",
       "1            0              1              0  ...               0   \n",
       "2            0              1              0  ...               0   \n",
       "3            0              1              0  ...               0   \n",
       "4            0              1              0  ...               0   \n",
       "\n",
       "   weekday_monday  weekday_saturday  weekday_sunday  weekday_thursday  \\\n",
       "0               0                 1               0                 0   \n",
       "1               0                 0               1                 0   \n",
       "2               1                 0               0                 0   \n",
       "3               0                 0               0                 0   \n",
       "4               0                 0               0                 0   \n",
       "\n",
       "   weekday_tuesday  weekday_wednesday  weathersit_light_rain_or_snow  \\\n",
       "0                0                  0                              0   \n",
       "1                0                  0                              0   \n",
       "2                0                  0                              0   \n",
       "3                1                  0                              0   \n",
       "4                0                  1                              0   \n",
       "\n",
       "   weathersit_mist  weathersit_partly_cloudy  \n",
       "0                1                         0  \n",
       "1                1                         0  \n",
       "2                0                         1  \n",
       "3                0                         1  \n",
       "4                0                         1  \n",
       "\n",
       "[5 rows x 35 columns]"
      ]
     },
     "execution_count": 41,
     "metadata": {},
     "output_type": "execute_result"
    }
   ],
   "source": [
    "df_ohe.head()"
   ]
  },
  {
   "cell_type": "code",
   "execution_count": 42,
   "id": "371de89a",
   "metadata": {},
   "outputs": [],
   "source": [
    "### Checking for variables with multi-collinearity\n",
    "m = ~(df_ohe.corr().mask(np.eye(len(df_ohe.corr()), dtype=bool)).abs() > 0.75).any()\n",
    "raw = df_ohe.corr().loc[m, m]"
   ]
  },
  {
   "cell_type": "code",
   "execution_count": 43,
   "id": "302b0d23",
   "metadata": {},
   "outputs": [],
   "source": [
    "multicollinear_vars = list(filter(lambda i: i not in list(raw.index),list(df_ohe.corr().index)))\n",
    "multicollinear_vars.append('cnt')"
   ]
  },
  {
   "cell_type": "code",
   "execution_count": 44,
   "id": "da799122",
   "metadata": {},
   "outputs": [
    {
     "data": {
      "text/plain": [
       "['temp',\n",
       " 'atemp',\n",
       " 'yr_2018',\n",
       " 'yr_2019',\n",
       " 'weathersit_mist',\n",
       " 'weathersit_partly_cloudy',\n",
       " 'cnt']"
      ]
     },
     "execution_count": 44,
     "metadata": {},
     "output_type": "execute_result"
    }
   ],
   "source": [
    "multicollinear_vars"
   ]
  },
  {
   "cell_type": "code",
   "execution_count": 45,
   "id": "71ec42c2",
   "metadata": {},
   "outputs": [],
   "source": [
    "df_for_heatmap = df_ohe.corr().loc[multicollinear_vars,multicollinear_vars]"
   ]
  },
  {
   "cell_type": "code",
   "execution_count": 46,
   "id": "b352278b",
   "metadata": {},
   "outputs": [
    {
     "data": {
      "text/plain": [
       "<AxesSubplot:>"
      ]
     },
     "execution_count": 46,
     "metadata": {},
     "output_type": "execute_result"
    },
    {
     "data": {
      "image/png": "[encoded data removed]",
      "text/plain": [
       "<Figure size 720x576 with 2 Axes>"
      ]
     },
     "metadata": {
      "needs_background": "light"
     },
     "output_type": "display_data"
    }
   ],
   "source": [
    "fig, ax = plt.subplots(figsize= (10, 8))\n",
    "sns.heatmap(df_for_heatmap, annot=True)"
   ]
  },
  {
   "cell_type": "markdown",
   "id": "2268122e",
   "metadata": {},
   "source": [
    "## Dropping high correlation variables\n",
    "- As we can see that (temp, atemp), (yr_2018,yr_2019), ('weather_mist', weather_partly_cloudy) are the pairs that are highly correlated. We can drop one of these variables to reduce multicollinearity.\n",
    "- Hence we will be dropping temp, yr_2018, weather_mist because we intend to keep the variables with better correlation with the target variable"
   ]
  },
  {
   "cell_type": "code",
   "execution_count": 47,
   "id": "9fc10fd2",
   "metadata": {},
   "outputs": [],
   "source": [
    "df_ohe.drop(['temp', 'yr_2018', 'weathersit_mist'], axis=1,inplace=True)"
   ]
  },
  {
   "cell_type": "code",
   "execution_count": 48,
   "id": "a420e72d",
   "metadata": {},
   "outputs": [
    {
     "data": {
      "text/html": [
       "<div>\n",
       "<style scoped>\n",
       "    .dataframe tbody tr th:only-of-type {\n",
       "        vertical-align: middle;\n",
       "    }\n",
       "\n",
       "    .dataframe tbody tr th {\n",
       "        vertical-align: top;\n",
       "    }\n",
       "\n",
       "    .dataframe thead th {\n",
       "        text-align: right;\n",
       "    }\n",
       "</style>\n",
       "<table border=\"1\" class=\"dataframe\">\n",
       "  <thead>\n",
       "    <tr style=\"text-align: right;\">\n",
       "      <th></th>\n",
       "      <th>holiday</th>\n",
       "      <th>workingday</th>\n",
       "      <th>atemp</th>\n",
       "      <th>hum</th>\n",
       "      <th>windspeed</th>\n",
       "      <th>cnt</th>\n",
       "      <th>season_fall</th>\n",
       "      <th>season_spring</th>\n",
       "      <th>season_summer</th>\n",
       "      <th>season_winter</th>\n",
       "      <th>...</th>\n",
       "      <th>mnth_sept</th>\n",
       "      <th>weekday_friday</th>\n",
       "      <th>weekday_monday</th>\n",
       "      <th>weekday_saturday</th>\n",
       "      <th>weekday_sunday</th>\n",
       "      <th>weekday_thursday</th>\n",
       "      <th>weekday_tuesday</th>\n",
       "      <th>weekday_wednesday</th>\n",
       "      <th>weathersit_light_rain_or_snow</th>\n",
       "      <th>weathersit_partly_cloudy</th>\n",
       "    </tr>\n",
       "  </thead>\n",
       "  <tbody>\n",
       "    <tr>\n",
       "      <th>0</th>\n",
       "      <td>0</td>\n",
       "      <td>0</td>\n",
       "      <td>18.18125</td>\n",
       "      <td>80.5833</td>\n",
       "      <td>10.749882</td>\n",
       "      <td>985</td>\n",
       "      <td>0</td>\n",
       "      <td>1</td>\n",
       "      <td>0</td>\n",
       "      <td>0</td>\n",
       "      <td>...</td>\n",
       "      <td>0</td>\n",
       "      <td>0</td>\n",
       "      <td>0</td>\n",
       "      <td>1</td>\n",
       "      <td>0</td>\n",
       "      <td>0</td>\n",
       "      <td>0</td>\n",
       "      <td>0</td>\n",
       "      <td>0</td>\n",
       "      <td>0</td>\n",
       "    </tr>\n",
       "    <tr>\n",
       "      <th>1</th>\n",
       "      <td>0</td>\n",
       "      <td>0</td>\n",
       "      <td>17.68695</td>\n",
       "      <td>69.6087</td>\n",
       "      <td>16.652113</td>\n",
       "      <td>801</td>\n",
       "      <td>0</td>\n",
       "      <td>1</td>\n",
       "      <td>0</td>\n",
       "      <td>0</td>\n",
       "      <td>...</td>\n",
       "      <td>0</td>\n",
       "      <td>0</td>\n",
       "      <td>0</td>\n",
       "      <td>0</td>\n",
       "      <td>1</td>\n",
       "      <td>0</td>\n",
       "      <td>0</td>\n",
       "      <td>0</td>\n",
       "      <td>0</td>\n",
       "      <td>0</td>\n",
       "    </tr>\n",
       "    <tr>\n",
       "      <th>2</th>\n",
       "      <td>0</td>\n",
       "      <td>1</td>\n",
       "      <td>9.47025</td>\n",
       "      <td>43.7273</td>\n",
       "      <td>16.636703</td>\n",
       "      <td>1349</td>\n",
       "      <td>0</td>\n",
       "      <td>1</td>\n",
       "      <td>0</td>\n",
       "      <td>0</td>\n",
       "      <td>...</td>\n",
       "      <td>0</td>\n",
       "      <td>0</td>\n",
       "      <td>1</td>\n",
       "      <td>0</td>\n",
       "      <td>0</td>\n",
       "      <td>0</td>\n",
       "      <td>0</td>\n",
       "      <td>0</td>\n",
       "      <td>0</td>\n",
       "      <td>1</td>\n",
       "    </tr>\n",
       "    <tr>\n",
       "      <th>3</th>\n",
       "      <td>0</td>\n",
       "      <td>1</td>\n",
       "      <td>10.60610</td>\n",
       "      <td>59.0435</td>\n",
       "      <td>10.739832</td>\n",
       "      <td>1562</td>\n",
       "      <td>0</td>\n",
       "      <td>1</td>\n",
       "      <td>0</td>\n",
       "      <td>0</td>\n",
       "      <td>...</td>\n",
       "      <td>0</td>\n",
       "      <td>0</td>\n",
       "      <td>0</td>\n",
       "      <td>0</td>\n",
       "      <td>0</td>\n",
       "      <td>0</td>\n",
       "      <td>1</td>\n",
       "      <td>0</td>\n",
       "      <td>0</td>\n",
       "      <td>1</td>\n",
       "    </tr>\n",
       "    <tr>\n",
       "      <th>4</th>\n",
       "      <td>0</td>\n",
       "      <td>1</td>\n",
       "      <td>11.46350</td>\n",
       "      <td>43.6957</td>\n",
       "      <td>12.522300</td>\n",
       "      <td>1600</td>\n",
       "      <td>0</td>\n",
       "      <td>1</td>\n",
       "      <td>0</td>\n",
       "      <td>0</td>\n",
       "      <td>...</td>\n",
       "      <td>0</td>\n",
       "      <td>0</td>\n",
       "      <td>0</td>\n",
       "      <td>0</td>\n",
       "      <td>0</td>\n",
       "      <td>0</td>\n",
       "      <td>0</td>\n",
       "      <td>1</td>\n",
       "      <td>0</td>\n",
       "      <td>1</td>\n",
       "    </tr>\n",
       "  </tbody>\n",
       "</table>\n",
       "<p>5 rows × 32 columns</p>\n",
       "</div>"
      ],
      "text/plain": [
       "   holiday  workingday     atemp      hum  windspeed   cnt  season_fall  \\\n",
       "0        0           0  18.18125  80.5833  10.749882   985            0   \n",
       "1        0           0  17.68695  69.6087  16.652113   801            0   \n",
       "2        0           1   9.47025  43.7273  16.636703  1349            0   \n",
       "3        0           1  10.60610  59.0435  10.739832  1562            0   \n",
       "4        0           1  11.46350  43.6957  12.522300  1600            0   \n",
       "\n",
       "   season_spring  season_summer  season_winter  ...  mnth_sept  \\\n",
       "0              1              0              0  ...          0   \n",
       "1              1              0              0  ...          0   \n",
       "2              1              0              0  ...          0   \n",
       "3              1              0              0  ...          0   \n",
       "4              1              0              0  ...          0   \n",
       "\n",
       "   weekday_friday  weekday_monday  weekday_saturday  weekday_sunday  \\\n",
       "0               0               0                 1               0   \n",
       "1               0               0                 0               1   \n",
       "2               0               1                 0               0   \n",
       "3               0               0                 0               0   \n",
       "4               0               0                 0               0   \n",
       "\n",
       "   weekday_thursday  weekday_tuesday  weekday_wednesday  \\\n",
       "0                 0                0                  0   \n",
       "1                 0                0                  0   \n",
       "2                 0                0                  0   \n",
       "3                 0                1                  0   \n",
       "4                 0                0                  1   \n",
       "\n",
       "   weathersit_light_rain_or_snow  weathersit_partly_cloudy  \n",
       "0                              0                         0  \n",
       "1                              0                         0  \n",
       "2                              0                         1  \n",
       "3                              0                         1  \n",
       "4                              0                         1  \n",
       "\n",
       "[5 rows x 32 columns]"
      ]
     },
     "execution_count": 48,
     "metadata": {},
     "output_type": "execute_result"
    }
   ],
   "source": [
    "df_ohe.head()"
   ]
  },
  {
   "cell_type": "markdown",
   "id": "041e5aa2",
   "metadata": {},
   "source": [
    "#### imports for model building"
   ]
  },
  {
   "cell_type": "code",
   "execution_count": 49,
   "id": "66e1b6fb",
   "metadata": {},
   "outputs": [],
   "source": [
    "from sklearn.model_selection import train_test_split\n",
    "from sklearn.preprocessing import StandardScaler, MinMaxScaler\n",
    "\n",
    "from sklearn.feature_selection import RFE\n",
    "from sklearn.linear_model import LinearRegression\n",
    "from sklearn.metrics import mean_squared_error\n",
    "from sklearn.metrics import r2_score\n",
    "\n",
    "import statsmodels.api as sm\n",
    "from statsmodels.stats.outliers_influence import variance_inflation_factor"
   ]
  },
  {
   "cell_type": "code",
   "execution_count": 50,
   "id": "a0fd463f",
   "metadata": {},
   "outputs": [],
   "source": [
    "df_temp = df_ohe.copy()"
   ]
  },
  {
   "cell_type": "code",
   "execution_count": 51,
   "id": "de073854",
   "metadata": {},
   "outputs": [],
   "source": [
    "def split_data(data):\n",
    "    target = data[['cnt']]\n",
    "    data.drop('cnt', axis=1, inplace=True)\n",
    "    train_data = data\n",
    "\n",
    "    X_train, X_test, y_train, y_test = train_test_split(train_data, target, test_size=0.2, random_state=23)\n",
    "    return X_train, X_test, y_train, y_test"
   ]
  },
  {
   "cell_type": "code",
   "execution_count": 52,
   "id": "c70182a4",
   "metadata": {},
   "outputs": [],
   "source": [
    "### Spliting the dataset into training and testing\n",
    "X_train, X_test, y_train, y_test = split_data(df_temp)"
   ]
  },
  {
   "cell_type": "code",
   "execution_count": 53,
   "id": "d9e5cbf0",
   "metadata": {},
   "outputs": [
    {
     "name": "stderr",
     "output_type": "stream",
     "text": [
      "C:\\Users\\sagar.ambalam\\Anaconda3\\lib\\site-packages\\pandas\\core\\frame.py:3678: SettingWithCopyWarning: \n",
      "A value is trying to be set on a copy of a slice from a DataFrame.\n",
      "Try using .loc[row_indexer,col_indexer] = value instead\n",
      "\n",
      "See the caveats in the documentation: https://pandas.pydata.org/pandas-docs/stable/user_guide/indexing.html#returning-a-view-versus-a-copy\n",
      "  self[col] = igetitem(value, i)\n"
     ]
    }
   ],
   "source": [
    "### Normalising the colums\n",
    "\n",
    "scaler = MinMaxScaler()\n",
    "\n",
    "var_list = ['atemp', 'hum', 'windspeed']\n",
    "\n",
    "X_train[var_list] = scaler.fit_transform(X_train[var_list])"
   ]
  },
  {
   "cell_type": "code",
   "execution_count": 54,
   "id": "cb809149",
   "metadata": {},
   "outputs": [
    {
     "name": "stderr",
     "output_type": "stream",
     "text": [
      "C:\\Users\\sagar.ambalam\\Anaconda3\\lib\\site-packages\\statsmodels\\tsa\\tsatools.py:142: FutureWarning: In a future version of pandas all arguments of concat except for the argument 'objs' will be keyword-only\n",
      "  x = pd.concat(x[::order], 1)\n"
     ]
    }
   ],
   "source": [
    "X_train = sm.add_constant(X_train)"
   ]
  },
  {
   "cell_type": "markdown",
   "id": "3fd832c7",
   "metadata": {},
   "source": [
    "### Feature selection\n",
    "- By checking the p-values of the model, we have recursively dropped the variables one by one whose p-value was greater than 0.05"
   ]
  },
  {
   "cell_type": "code",
   "execution_count": 55,
   "id": "ae1b1347",
   "metadata": {},
   "outputs": [],
   "source": [
    "def check_vif(train_data):\n",
    "    X_train_new = train_data.drop(['const'],axis=1)\n",
    "    vif = pd.DataFrame()\n",
    "    X = X_train_new\n",
    "    vif[\"features\"] = X.columns\n",
    "    vif['VIF'] = [variance_inflation_factor(X.values, i) for i in range(X.shape[1])]\n",
    "    vif['VIF'] = round(vif['VIF'],2)\n",
    "    \n",
    "    return vif.sort_values(by='VIF', ascending=False)"
   ]
  },
  {
   "cell_type": "code",
   "execution_count": 56,
   "id": "5efecd17",
   "metadata": {},
   "outputs": [],
   "source": [
    "def drop_column_and_rebuild(train_data, column_name_list):\n",
    "    X_train = train_data.drop(column_name_list, axis=1)\n",
    "    lm = sm.OLS(y_train, X_train).fit()\n",
    "\n",
    "    return lm.summary(), X_train, lm"
   ]
  },
  {
   "cell_type": "code",
   "execution_count": 57,
   "id": "e6827378",
   "metadata": {},
   "outputs": [
    {
     "data": {
      "text/html": [
       "<table class=\"simpletable\">\n",
       "<caption>OLS Regression Results</caption>\n",
       "<tr>\n",
       "  <th>Dep. Variable:</th>           <td>cnt</td>       <th>  R-squared:         </th> <td>   0.849</td> \n",
       "</tr>\n",
       "<tr>\n",
       "  <th>Model:</th>                   <td>OLS</td>       <th>  Adj. R-squared:    </th> <td>   0.842</td> \n",
       "</tr>\n",
       "<tr>\n",
       "  <th>Method:</th>             <td>Least Squares</td>  <th>  F-statistic:       </th> <td>   115.8</td> \n",
       "</tr>\n",
       "<tr>\n",
       "  <th>Date:</th>             <td>Wed, 13 Jul 2022</td> <th>  Prob (F-statistic):</th> <td>5.90e-208</td>\n",
       "</tr>\n",
       "<tr>\n",
       "  <th>Time:</th>                 <td>21:35:11</td>     <th>  Log-Likelihood:    </th> <td> -4681.4</td> \n",
       "</tr>\n",
       "<tr>\n",
       "  <th>No. Observations:</th>      <td>   582</td>      <th>  AIC:               </th> <td>   9419.</td> \n",
       "</tr>\n",
       "<tr>\n",
       "  <th>Df Residuals:</th>          <td>   554</td>      <th>  BIC:               </th> <td>   9541.</td> \n",
       "</tr>\n",
       "<tr>\n",
       "  <th>Df Model:</th>              <td>    27</td>      <th>                     </th>     <td> </td>    \n",
       "</tr>\n",
       "<tr>\n",
       "  <th>Covariance Type:</th>      <td>nonrobust</td>    <th>                     </th>     <td> </td>    \n",
       "</tr>\n",
       "</table>\n",
       "<table class=\"simpletable\">\n",
       "<tr>\n",
       "                <td></td>                   <th>coef</th>     <th>std err</th>      <th>t</th>      <th>P>|t|</th>  <th>[0.025</th>    <th>0.975]</th>  \n",
       "</tr>\n",
       "<tr>\n",
       "  <th>const</th>                         <td> 1424.1776</td> <td>  149.921</td> <td>    9.500</td> <td> 0.000</td> <td> 1129.695</td> <td> 1718.660</td>\n",
       "</tr>\n",
       "<tr>\n",
       "  <th>holiday</th>                       <td>   42.3577</td> <td>  145.589</td> <td>    0.291</td> <td> 0.771</td> <td> -243.616</td> <td>  328.331</td>\n",
       "</tr>\n",
       "<tr>\n",
       "  <th>workingday</th>                    <td>  470.0733</td> <td>   69.136</td> <td>    6.799</td> <td> 0.000</td> <td>  334.273</td> <td>  605.874</td>\n",
       "</tr>\n",
       "<tr>\n",
       "  <th>atemp</th>                         <td> 3497.1874</td> <td>  358.302</td> <td>    9.760</td> <td> 0.000</td> <td> 2793.390</td> <td> 4200.984</td>\n",
       "</tr>\n",
       "<tr>\n",
       "  <th>hum</th>                           <td> -922.8081</td> <td>  249.074</td> <td>   -3.705</td> <td> 0.000</td> <td>-1412.053</td> <td> -433.563</td>\n",
       "</tr>\n",
       "<tr>\n",
       "  <th>windspeed</th>                     <td> -989.5749</td> <td>  167.458</td> <td>   -5.909</td> <td> 0.000</td> <td>-1318.506</td> <td> -660.644</td>\n",
       "</tr>\n",
       "<tr>\n",
       "  <th>season_fall</th>                   <td>  347.4454</td> <td>  147.961</td> <td>    2.348</td> <td> 0.019</td> <td>   56.812</td> <td>  638.079</td>\n",
       "</tr>\n",
       "<tr>\n",
       "  <th>season_spring</th>                 <td> -526.3232</td> <td>  132.104</td> <td>   -3.984</td> <td> 0.000</td> <td> -785.809</td> <td> -266.837</td>\n",
       "</tr>\n",
       "<tr>\n",
       "  <th>season_summer</th>                 <td>  371.7700</td> <td>  135.278</td> <td>    2.748</td> <td> 0.006</td> <td>  106.049</td> <td>  637.491</td>\n",
       "</tr>\n",
       "<tr>\n",
       "  <th>season_winter</th>                 <td> 1231.2853</td> <td>  141.466</td> <td>    8.704</td> <td> 0.000</td> <td>  953.409</td> <td> 1509.161</td>\n",
       "</tr>\n",
       "<tr>\n",
       "  <th>yr_2019</th>                       <td> 2021.5727</td> <td>   66.063</td> <td>   30.600</td> <td> 0.000</td> <td> 1891.807</td> <td> 2151.338</td>\n",
       "</tr>\n",
       "<tr>\n",
       "  <th>mnth_apr</th>                      <td>  264.5114</td> <td>  169.810</td> <td>    1.558</td> <td> 0.120</td> <td>  -69.039</td> <td>  598.062</td>\n",
       "</tr>\n",
       "<tr>\n",
       "  <th>mnth_aug</th>                      <td>  283.3936</td> <td>  189.294</td> <td>    1.497</td> <td> 0.135</td> <td>  -88.428</td> <td>  655.215</td>\n",
       "</tr>\n",
       "<tr>\n",
       "  <th>mnth_dec</th>                      <td> -438.2628</td> <td>  154.684</td> <td>   -2.833</td> <td> 0.005</td> <td> -742.101</td> <td> -134.424</td>\n",
       "</tr>\n",
       "<tr>\n",
       "  <th>mnth_feb</th>                      <td>  -52.4961</td> <td>  179.986</td> <td>   -0.292</td> <td> 0.771</td> <td> -406.034</td> <td>  301.042</td>\n",
       "</tr>\n",
       "<tr>\n",
       "  <th>mnth_jan</th>                      <td> -221.0984</td> <td>  192.561</td> <td>   -1.148</td> <td> 0.251</td> <td> -599.337</td> <td>  157.141</td>\n",
       "</tr>\n",
       "<tr>\n",
       "  <th>mnth_july</th>                     <td> -175.4783</td> <td>  201.537</td> <td>   -0.871</td> <td> 0.384</td> <td> -571.348</td> <td>  220.391</td>\n",
       "</tr>\n",
       "<tr>\n",
       "  <th>mnth_june</th>                     <td>  364.2921</td> <td>  168.940</td> <td>    2.156</td> <td> 0.031</td> <td>   32.450</td> <td>  696.134</td>\n",
       "</tr>\n",
       "<tr>\n",
       "  <th>mnth_mar</th>                      <td>  400.9179</td> <td>  137.878</td> <td>    2.908</td> <td> 0.004</td> <td>  130.091</td> <td>  671.745</td>\n",
       "</tr>\n",
       "<tr>\n",
       "  <th>mnth_may</th>                      <td>  572.7260</td> <td>  177.704</td> <td>    3.223</td> <td> 0.001</td> <td>  223.669</td> <td>  921.783</td>\n",
       "</tr>\n",
       "<tr>\n",
       "  <th>mnth_nov</th>                      <td> -491.9914</td> <td>  182.496</td> <td>   -2.696</td> <td> 0.007</td> <td> -850.460</td> <td> -133.523</td>\n",
       "</tr>\n",
       "<tr>\n",
       "  <th>mnth_oct</th>                      <td>  120.7830</td> <td>  172.544</td> <td>    0.700</td> <td> 0.484</td> <td> -218.137</td> <td>  459.703</td>\n",
       "</tr>\n",
       "<tr>\n",
       "  <th>mnth_sept</th>                     <td>  796.8804</td> <td>  154.673</td> <td>    5.152</td> <td> 0.000</td> <td>  493.062</td> <td> 1100.699</td>\n",
       "</tr>\n",
       "<tr>\n",
       "  <th>weekday_friday</th>                <td>  221.2923</td> <td>   79.067</td> <td>    2.799</td> <td> 0.005</td> <td>   65.984</td> <td>  376.601</td>\n",
       "</tr>\n",
       "<tr>\n",
       "  <th>weekday_monday</th>                <td>  -82.3870</td> <td>   78.842</td> <td>   -1.045</td> <td> 0.296</td> <td> -237.252</td> <td>   72.478</td>\n",
       "</tr>\n",
       "<tr>\n",
       "  <th>weekday_saturday</th>              <td>  671.3054</td> <td>   85.639</td> <td>    7.839</td> <td> 0.000</td> <td>  503.088</td> <td>  839.523</td>\n",
       "</tr>\n",
       "<tr>\n",
       "  <th>weekday_sunday</th>                <td>  240.4411</td> <td>   86.749</td> <td>    2.772</td> <td> 0.006</td> <td>   70.043</td> <td>  410.839</td>\n",
       "</tr>\n",
       "<tr>\n",
       "  <th>weekday_thursday</th>              <td>  153.2302</td> <td>   80.800</td> <td>    1.896</td> <td> 0.058</td> <td>   -5.481</td> <td>  311.942</td>\n",
       "</tr>\n",
       "<tr>\n",
       "  <th>weekday_tuesday</th>               <td>  102.6711</td> <td>   81.133</td> <td>    1.265</td> <td> 0.206</td> <td>  -56.695</td> <td>  262.037</td>\n",
       "</tr>\n",
       "<tr>\n",
       "  <th>weekday_wednesday</th>             <td>  117.6244</td> <td>   84.275</td> <td>    1.396</td> <td> 0.163</td> <td>  -47.913</td> <td>  283.162</td>\n",
       "</tr>\n",
       "<tr>\n",
       "  <th>weathersit_light_rain_or_snow</th> <td>-1634.6862</td> <td>  224.129</td> <td>   -7.293</td> <td> 0.000</td> <td>-2074.933</td> <td>-1194.439</td>\n",
       "</tr>\n",
       "<tr>\n",
       "  <th>weathersit_partly_cloudy</th>      <td>  481.5693</td> <td>   88.470</td> <td>    5.443</td> <td> 0.000</td> <td>  307.791</td> <td>  655.347</td>\n",
       "</tr>\n",
       "</table>\n",
       "<table class=\"simpletable\">\n",
       "<tr>\n",
       "  <th>Omnibus:</th>       <td>106.115</td> <th>  Durbin-Watson:     </th> <td>   2.067</td>\n",
       "</tr>\n",
       "<tr>\n",
       "  <th>Prob(Omnibus):</th> <td> 0.000</td>  <th>  Jarque-Bera (JB):  </th> <td> 333.165</td>\n",
       "</tr>\n",
       "<tr>\n",
       "  <th>Skew:</th>          <td>-0.854</td>  <th>  Prob(JB):          </th> <td>4.51e-73</td>\n",
       "</tr>\n",
       "<tr>\n",
       "  <th>Kurtosis:</th>      <td> 6.289</td>  <th>  Cond. No.          </th> <td>1.21e+16</td>\n",
       "</tr>\n",
       "</table><br/><br/>Notes:<br/>[1] Standard Errors assume that the covariance matrix of the errors is correctly specified.<br/>[2] The smallest eigenvalue is 1.37e-29. This might indicate that there are<br/>strong multicollinearity problems or that the design matrix is singular."
      ],
      "text/plain": [
       "<class 'statsmodels.iolib.summary.Summary'>\n",
       "\"\"\"\n",
       "                            OLS Regression Results                            \n",
       "==============================================================================\n",
       "Dep. Variable:                    cnt   R-squared:                       0.849\n",
       "Model:                            OLS   Adj. R-squared:                  0.842\n",
       "Method:                 Least Squares   F-statistic:                     115.8\n",
       "Date:                Wed, 13 Jul 2022   Prob (F-statistic):          5.90e-208\n",
       "Time:                        21:35:11   Log-Likelihood:                -4681.4\n",
       "No. Observations:                 582   AIC:                             9419.\n",
       "Df Residuals:                     554   BIC:                             9541.\n",
       "Df Model:                          27                                         \n",
       "Covariance Type:            nonrobust                                         \n",
       "=================================================================================================\n",
       "                                    coef    std err          t      P>|t|      [0.025      0.975]\n",
       "-------------------------------------------------------------------------------------------------\n",
       "const                          1424.1776    149.921      9.500      0.000    1129.695    1718.660\n",
       "holiday                          42.3577    145.589      0.291      0.771    -243.616     328.331\n",
       "workingday                      470.0733     69.136      6.799      0.000     334.273     605.874\n",
       "atemp                          3497.1874    358.302      9.760      0.000    2793.390    4200.984\n",
       "hum                            -922.8081    249.074     -3.705      0.000   -1412.053    -433.563\n",
       "windspeed                      -989.5749    167.458     -5.909      0.000   -1318.506    -660.644\n",
       "season_fall                     347.4454    147.961      2.348      0.019      56.812     638.079\n",
       "season_spring                  -526.3232    132.104     -3.984      0.000    -785.809    -266.837\n",
       "season_summer                   371.7700    135.278      2.748      0.006     106.049     637.491\n",
       "season_winter                  1231.2853    141.466      8.704      0.000     953.409    1509.161\n",
       "yr_2019                        2021.5727     66.063     30.600      0.000    1891.807    2151.338\n",
       "mnth_apr                        264.5114    169.810      1.558      0.120     -69.039     598.062\n",
       "mnth_aug                        283.3936    189.294      1.497      0.135     -88.428     655.215\n",
       "mnth_dec                       -438.2628    154.684     -2.833      0.005    -742.101    -134.424\n",
       "mnth_feb                        -52.4961    179.986     -0.292      0.771    -406.034     301.042\n",
       "mnth_jan                       -221.0984    192.561     -1.148      0.251    -599.337     157.141\n",
       "mnth_july                      -175.4783    201.537     -0.871      0.384    -571.348     220.391\n",
       "mnth_june                       364.2921    168.940      2.156      0.031      32.450     696.134\n",
       "mnth_mar                        400.9179    137.878      2.908      0.004     130.091     671.745\n",
       "mnth_may                        572.7260    177.704      3.223      0.001     223.669     921.783\n",
       "mnth_nov                       -491.9914    182.496     -2.696      0.007    -850.460    -133.523\n",
       "mnth_oct                        120.7830    172.544      0.700      0.484    -218.137     459.703\n",
       "mnth_sept                       796.8804    154.673      5.152      0.000     493.062    1100.699\n",
       "weekday_friday                  221.2923     79.067      2.799      0.005      65.984     376.601\n",
       "weekday_monday                  -82.3870     78.842     -1.045      0.296    -237.252      72.478\n",
       "weekday_saturday                671.3054     85.639      7.839      0.000     503.088     839.523\n",
       "weekday_sunday                  240.4411     86.749      2.772      0.006      70.043     410.839\n",
       "weekday_thursday                153.2302     80.800      1.896      0.058      -5.481     311.942\n",
       "weekday_tuesday                 102.6711     81.133      1.265      0.206     -56.695     262.037\n",
       "weekday_wednesday               117.6244     84.275      1.396      0.163     -47.913     283.162\n",
       "weathersit_light_rain_or_snow -1634.6862    224.129     -7.293      0.000   -2074.933   -1194.439\n",
       "weathersit_partly_cloudy        481.5693     88.470      5.443      0.000     307.791     655.347\n",
       "==============================================================================\n",
       "Omnibus:                      106.115   Durbin-Watson:                   2.067\n",
       "Prob(Omnibus):                  0.000   Jarque-Bera (JB):              333.165\n",
       "Skew:                          -0.854   Prob(JB):                     4.51e-73\n",
       "Kurtosis:                       6.289   Cond. No.                     1.21e+16\n",
       "==============================================================================\n",
       "\n",
       "Notes:\n",
       "[1] Standard Errors assume that the covariance matrix of the errors is correctly specified.\n",
       "[2] The smallest eigenvalue is 1.37e-29. This might indicate that there are\n",
       "strong multicollinearity problems or that the design matrix is singular.\n",
       "\"\"\""
      ]
     },
     "execution_count": 57,
     "metadata": {},
     "output_type": "execute_result"
    }
   ],
   "source": [
    "lm = sm.OLS(y_train, X_train).fit()\n",
    "\n",
    "lm.summary()"
   ]
  },
  {
   "cell_type": "code",
   "execution_count": 58,
   "id": "ccad5a1a",
   "metadata": {},
   "outputs": [
    {
     "name": "stderr",
     "output_type": "stream",
     "text": [
      "C:\\Users\\sagar.ambalam\\Anaconda3\\lib\\site-packages\\statsmodels\\stats\\outliers_influence.py:193: RuntimeWarning: divide by zero encountered in double_scalars\n",
      "  vif = 1. / (1. - r_squared_i)\n"
     ]
    },
    {
     "data": {
      "text/html": [
       "<div>\n",
       "<style scoped>\n",
       "    .dataframe tbody tr th:only-of-type {\n",
       "        vertical-align: middle;\n",
       "    }\n",
       "\n",
       "    .dataframe tbody tr th {\n",
       "        vertical-align: top;\n",
       "    }\n",
       "\n",
       "    .dataframe thead th {\n",
       "        text-align: right;\n",
       "    }\n",
       "</style>\n",
       "<table border=\"1\" class=\"dataframe\">\n",
       "  <thead>\n",
       "    <tr style=\"text-align: right;\">\n",
       "      <th></th>\n",
       "      <th>features</th>\n",
       "      <th>VIF</th>\n",
       "    </tr>\n",
       "  </thead>\n",
       "  <tbody>\n",
       "    <tr>\n",
       "      <th>0</th>\n",
       "      <td>holiday</td>\n",
       "      <td>inf</td>\n",
       "    </tr>\n",
       "    <tr>\n",
       "      <th>1</th>\n",
       "      <td>workingday</td>\n",
       "      <td>inf</td>\n",
       "    </tr>\n",
       "    <tr>\n",
       "      <th>28</th>\n",
       "      <td>weekday_wednesday</td>\n",
       "      <td>inf</td>\n",
       "    </tr>\n",
       "    <tr>\n",
       "      <th>27</th>\n",
       "      <td>weekday_tuesday</td>\n",
       "      <td>inf</td>\n",
       "    </tr>\n",
       "    <tr>\n",
       "      <th>26</th>\n",
       "      <td>weekday_thursday</td>\n",
       "      <td>inf</td>\n",
       "    </tr>\n",
       "    <tr>\n",
       "      <th>25</th>\n",
       "      <td>weekday_sunday</td>\n",
       "      <td>inf</td>\n",
       "    </tr>\n",
       "    <tr>\n",
       "      <th>24</th>\n",
       "      <td>weekday_saturday</td>\n",
       "      <td>inf</td>\n",
       "    </tr>\n",
       "    <tr>\n",
       "      <th>23</th>\n",
       "      <td>weekday_monday</td>\n",
       "      <td>inf</td>\n",
       "    </tr>\n",
       "    <tr>\n",
       "      <th>22</th>\n",
       "      <td>weekday_friday</td>\n",
       "      <td>inf</td>\n",
       "    </tr>\n",
       "    <tr>\n",
       "      <th>21</th>\n",
       "      <td>mnth_sept</td>\n",
       "      <td>inf</td>\n",
       "    </tr>\n",
       "    <tr>\n",
       "      <th>20</th>\n",
       "      <td>mnth_oct</td>\n",
       "      <td>inf</td>\n",
       "    </tr>\n",
       "    <tr>\n",
       "      <th>19</th>\n",
       "      <td>mnth_nov</td>\n",
       "      <td>inf</td>\n",
       "    </tr>\n",
       "    <tr>\n",
       "      <th>18</th>\n",
       "      <td>mnth_may</td>\n",
       "      <td>inf</td>\n",
       "    </tr>\n",
       "    <tr>\n",
       "      <th>17</th>\n",
       "      <td>mnth_mar</td>\n",
       "      <td>inf</td>\n",
       "    </tr>\n",
       "    <tr>\n",
       "      <th>16</th>\n",
       "      <td>mnth_june</td>\n",
       "      <td>inf</td>\n",
       "    </tr>\n",
       "    <tr>\n",
       "      <th>15</th>\n",
       "      <td>mnth_july</td>\n",
       "      <td>inf</td>\n",
       "    </tr>\n",
       "    <tr>\n",
       "      <th>14</th>\n",
       "      <td>mnth_jan</td>\n",
       "      <td>inf</td>\n",
       "    </tr>\n",
       "    <tr>\n",
       "      <th>13</th>\n",
       "      <td>mnth_feb</td>\n",
       "      <td>inf</td>\n",
       "    </tr>\n",
       "    <tr>\n",
       "      <th>12</th>\n",
       "      <td>mnth_dec</td>\n",
       "      <td>inf</td>\n",
       "    </tr>\n",
       "    <tr>\n",
       "      <th>11</th>\n",
       "      <td>mnth_aug</td>\n",
       "      <td>inf</td>\n",
       "    </tr>\n",
       "    <tr>\n",
       "      <th>10</th>\n",
       "      <td>mnth_apr</td>\n",
       "      <td>inf</td>\n",
       "    </tr>\n",
       "    <tr>\n",
       "      <th>8</th>\n",
       "      <td>season_winter</td>\n",
       "      <td>inf</td>\n",
       "    </tr>\n",
       "    <tr>\n",
       "      <th>7</th>\n",
       "      <td>season_summer</td>\n",
       "      <td>inf</td>\n",
       "    </tr>\n",
       "    <tr>\n",
       "      <th>6</th>\n",
       "      <td>season_spring</td>\n",
       "      <td>inf</td>\n",
       "    </tr>\n",
       "    <tr>\n",
       "      <th>5</th>\n",
       "      <td>season_fall</td>\n",
       "      <td>inf</td>\n",
       "    </tr>\n",
       "    <tr>\n",
       "      <th>2</th>\n",
       "      <td>atemp</td>\n",
       "      <td>6.08</td>\n",
       "    </tr>\n",
       "    <tr>\n",
       "      <th>3</th>\n",
       "      <td>hum</td>\n",
       "      <td>2.25</td>\n",
       "    </tr>\n",
       "    <tr>\n",
       "      <th>30</th>\n",
       "      <td>weathersit_partly_cloudy</td>\n",
       "      <td>1.76</td>\n",
       "    </tr>\n",
       "    <tr>\n",
       "      <th>29</th>\n",
       "      <td>weathersit_light_rain_or_snow</td>\n",
       "      <td>1.23</td>\n",
       "    </tr>\n",
       "    <tr>\n",
       "      <th>4</th>\n",
       "      <td>windspeed</td>\n",
       "      <td>1.17</td>\n",
       "    </tr>\n",
       "    <tr>\n",
       "      <th>9</th>\n",
       "      <td>yr_2019</td>\n",
       "      <td>1.06</td>\n",
       "    </tr>\n",
       "  </tbody>\n",
       "</table>\n",
       "</div>"
      ],
      "text/plain": [
       "                         features   VIF\n",
       "0                         holiday   inf\n",
       "1                      workingday   inf\n",
       "28              weekday_wednesday   inf\n",
       "27                weekday_tuesday   inf\n",
       "26               weekday_thursday   inf\n",
       "25                 weekday_sunday   inf\n",
       "24               weekday_saturday   inf\n",
       "23                 weekday_monday   inf\n",
       "22                 weekday_friday   inf\n",
       "21                      mnth_sept   inf\n",
       "20                       mnth_oct   inf\n",
       "19                       mnth_nov   inf\n",
       "18                       mnth_may   inf\n",
       "17                       mnth_mar   inf\n",
       "16                      mnth_june   inf\n",
       "15                      mnth_july   inf\n",
       "14                       mnth_jan   inf\n",
       "13                       mnth_feb   inf\n",
       "12                       mnth_dec   inf\n",
       "11                       mnth_aug   inf\n",
       "10                       mnth_apr   inf\n",
       "8                   season_winter   inf\n",
       "7                   season_summer   inf\n",
       "6                   season_spring   inf\n",
       "5                     season_fall   inf\n",
       "2                           atemp  6.08\n",
       "3                             hum  2.25\n",
       "30       weathersit_partly_cloudy  1.76\n",
       "29  weathersit_light_rain_or_snow  1.23\n",
       "4                       windspeed  1.17\n",
       "9                         yr_2019  1.06"
      ]
     },
     "execution_count": 58,
     "metadata": {},
     "output_type": "execute_result"
    }
   ],
   "source": [
    "check_vif(X_train)"
   ]
  },
  {
   "cell_type": "markdown",
   "id": "62ac2fec",
   "metadata": {},
   "source": [
    "### Steps for feature selection"
   ]
  },
  {
   "cell_type": "markdown",
   "id": "0ccefdf5",
   "metadata": {},
   "source": [
    "- The summary gives coefficients and p-values for each of the variable\n",
    "- We calculate VIF for the the variables, to see if there is higher correlation i.e., if 1 variable is able to explain more variance compared to other variables.\n",
    "- We remove variables with p-value greater than 0.05\n",
    "- We remove variables with VIF greater than 5.\n",
    "\n",
    "#### This is carried out in the following manner.\n",
    "- We check if the p-value and vif both are above the threshold and remove these variables first.\n",
    "- We run the re-build the model after removing each variable. This changes the value of VIF as well as p-values.\n",
    "- We check if we have high vif and high p-value variables are remove them. \n",
    "    - if not, then we look for variables with high p-value even if the VIF is low. We remove these variables next.\n",
    "    - Repeating the above steps till those category variables are exahusted.\n",
    "    - Now we remove variables with Low p-value but High VIF, and check if there is any improvement in the model metrics.\n",
    "- We repeat these steps recursively for every variable. Till we arrive at a satisfactory solution."
   ]
  },
  {
   "cell_type": "markdown",
   "id": "ccc02e0b",
   "metadata": {},
   "source": [
    "- The below list has been prepared by carrying out the above process of feature selection"
   ]
  },
  {
   "cell_type": "code",
   "execution_count": 60,
   "id": "01b3d742",
   "metadata": {},
   "outputs": [
    {
     "data": {
      "text/html": [
       "<table class=\"simpletable\">\n",
       "<caption>OLS Regression Results</caption>\n",
       "<tr>\n",
       "  <th>Dep. Variable:</th>           <td>cnt</td>       <th>  R-squared:         </th> <td>   0.846</td> \n",
       "</tr>\n",
       "<tr>\n",
       "  <th>Model:</th>                   <td>OLS</td>       <th>  Adj. R-squared:    </th> <td>   0.841</td> \n",
       "</tr>\n",
       "<tr>\n",
       "  <th>Method:</th>             <td>Least Squares</td>  <th>  F-statistic:       </th> <td>   171.4</td> \n",
       "</tr>\n",
       "<tr>\n",
       "  <th>Date:</th>             <td>Wed, 13 Jul 2022</td> <th>  Prob (F-statistic):</th> <td>9.80e-215</td>\n",
       "</tr>\n",
       "<tr>\n",
       "  <th>Time:</th>                 <td>21:43:07</td>     <th>  Log-Likelihood:    </th> <td> -4688.6</td> \n",
       "</tr>\n",
       "<tr>\n",
       "  <th>No. Observations:</th>      <td>   582</td>      <th>  AIC:               </th> <td>   9415.</td> \n",
       "</tr>\n",
       "<tr>\n",
       "  <th>Df Residuals:</th>          <td>   563</td>      <th>  BIC:               </th> <td>   9498.</td> \n",
       "</tr>\n",
       "<tr>\n",
       "  <th>Df Model:</th>              <td>    18</td>      <th>                     </th>     <td> </td>    \n",
       "</tr>\n",
       "<tr>\n",
       "  <th>Covariance Type:</th>      <td>nonrobust</td>    <th>                     </th>     <td> </td>    \n",
       "</tr>\n",
       "</table>\n",
       "<table class=\"simpletable\">\n",
       "<tr>\n",
       "                <td></td>                   <th>coef</th>     <th>std err</th>      <th>t</th>      <th>P>|t|</th>  <th>[0.025</th>    <th>0.975]</th>  \n",
       "</tr>\n",
       "<tr>\n",
       "  <th>const</th>                         <td> 1572.3857</td> <td>  192.429</td> <td>    8.171</td> <td> 0.000</td> <td> 1194.420</td> <td> 1950.351</td>\n",
       "</tr>\n",
       "<tr>\n",
       "  <th>workingday</th>                    <td>  372.4490</td> <td>   86.225</td> <td>    4.320</td> <td> 0.000</td> <td>  203.087</td> <td>  541.811</td>\n",
       "</tr>\n",
       "<tr>\n",
       "  <th>atemp</th>                         <td> 3559.9365</td> <td>  296.615</td> <td>   12.002</td> <td> 0.000</td> <td> 2977.330</td> <td> 4142.543</td>\n",
       "</tr>\n",
       "<tr>\n",
       "  <th>hum</th>                           <td> -937.7113</td> <td>  245.178</td> <td>   -3.825</td> <td> 0.000</td> <td>-1419.286</td> <td> -456.137</td>\n",
       "</tr>\n",
       "<tr>\n",
       "  <th>windspeed</th>                     <td> -966.4832</td> <td>  166.781</td> <td>   -5.795</td> <td> 0.000</td> <td>-1294.073</td> <td> -638.894</td>\n",
       "</tr>\n",
       "<tr>\n",
       "  <th>season_fall</th>                   <td>  271.9206</td> <td>  127.090</td> <td>    2.140</td> <td> 0.033</td> <td>   22.293</td> <td>  521.549</td>\n",
       "</tr>\n",
       "<tr>\n",
       "  <th>season_spring</th>                 <td> -573.4323</td> <td>   87.258</td> <td>   -6.572</td> <td> 0.000</td> <td> -744.823</td> <td> -402.042</td>\n",
       "</tr>\n",
       "<tr>\n",
       "  <th>season_summer</th>                 <td>  556.4645</td> <td>   89.655</td> <td>    6.207</td> <td> 0.000</td> <td>  380.366</td> <td>  732.563</td>\n",
       "</tr>\n",
       "<tr>\n",
       "  <th>season_winter</th>                 <td> 1317.4329</td> <td>   93.043</td> <td>   14.159</td> <td> 0.000</td> <td> 1134.680</td> <td> 1500.186</td>\n",
       "</tr>\n",
       "<tr>\n",
       "  <th>yr_2019</th>                       <td> 2015.2892</td> <td>   66.063</td> <td>   30.505</td> <td> 0.000</td> <td> 1885.528</td> <td> 2145.050</td>\n",
       "</tr>\n",
       "<tr>\n",
       "  <th>mnth_aug</th>                      <td>  372.6171</td> <td>  145.276</td> <td>    2.565</td> <td> 0.011</td> <td>   87.268</td> <td>  657.966</td>\n",
       "</tr>\n",
       "<tr>\n",
       "  <th>mnth_dec</th>                      <td> -434.4691</td> <td>  132.585</td> <td>   -3.277</td> <td> 0.001</td> <td> -694.891</td> <td> -174.048</td>\n",
       "</tr>\n",
       "<tr>\n",
       "  <th>mnth_june</th>                     <td>  302.0096</td> <td>  145.358</td> <td>    2.078</td> <td> 0.038</td> <td>   16.499</td> <td>  587.521</td>\n",
       "</tr>\n",
       "<tr>\n",
       "  <th>mnth_mar</th>                      <td>  396.6695</td> <td>  126.333</td> <td>    3.140</td> <td> 0.002</td> <td>  148.528</td> <td>  644.811</td>\n",
       "</tr>\n",
       "<tr>\n",
       "  <th>mnth_may</th>                      <td>  424.4158</td> <td>  150.587</td> <td>    2.818</td> <td> 0.005</td> <td>  128.635</td> <td>  720.197</td>\n",
       "</tr>\n",
       "<tr>\n",
       "  <th>mnth_nov</th>                      <td> -535.6404</td> <td>  150.517</td> <td>   -3.559</td> <td> 0.000</td> <td> -831.284</td> <td> -239.997</td>\n",
       "</tr>\n",
       "<tr>\n",
       "  <th>mnth_sept</th>                     <td>  849.3061</td> <td>  141.595</td> <td>    5.998</td> <td> 0.000</td> <td>  571.187</td> <td> 1127.425</td>\n",
       "</tr>\n",
       "<tr>\n",
       "  <th>weekday_saturday</th>              <td>  469.7917</td> <td>  114.795</td> <td>    4.092</td> <td> 0.000</td> <td>  244.312</td> <td>  695.271</td>\n",
       "</tr>\n",
       "<tr>\n",
       "  <th>weathersit_light_rain_or_snow</th> <td>-1626.3127</td> <td>  223.357</td> <td>   -7.281</td> <td> 0.000</td> <td>-2065.028</td> <td>-1187.598</td>\n",
       "</tr>\n",
       "<tr>\n",
       "  <th>weathersit_partly_cloudy</th>      <td>  473.9349</td> <td>   88.317</td> <td>    5.366</td> <td> 0.000</td> <td>  300.465</td> <td>  647.405</td>\n",
       "</tr>\n",
       "</table>\n",
       "<table class=\"simpletable\">\n",
       "<tr>\n",
       "  <th>Omnibus:</th>       <td>100.587</td> <th>  Durbin-Watson:     </th> <td>   2.042</td>\n",
       "</tr>\n",
       "<tr>\n",
       "  <th>Prob(Omnibus):</th> <td> 0.000</td>  <th>  Jarque-Bera (JB):  </th> <td> 304.489</td>\n",
       "</tr>\n",
       "<tr>\n",
       "  <th>Skew:</th>          <td>-0.821</td>  <th>  Prob(JB):          </th> <td>7.61e-67</td>\n",
       "</tr>\n",
       "<tr>\n",
       "  <th>Kurtosis:</th>      <td> 6.140</td>  <th>  Cond. No.          </th> <td>6.72e+15</td>\n",
       "</tr>\n",
       "</table><br/><br/>Notes:<br/>[1] Standard Errors assume that the covariance matrix of the errors is correctly specified.<br/>[2] The smallest eigenvalue is 4.22e-29. This might indicate that there are<br/>strong multicollinearity problems or that the design matrix is singular."
      ],
      "text/plain": [
       "<class 'statsmodels.iolib.summary.Summary'>\n",
       "\"\"\"\n",
       "                            OLS Regression Results                            \n",
       "==============================================================================\n",
       "Dep. Variable:                    cnt   R-squared:                       0.846\n",
       "Model:                            OLS   Adj. R-squared:                  0.841\n",
       "Method:                 Least Squares   F-statistic:                     171.4\n",
       "Date:                Wed, 13 Jul 2022   Prob (F-statistic):          9.80e-215\n",
       "Time:                        21:43:07   Log-Likelihood:                -4688.6\n",
       "No. Observations:                 582   AIC:                             9415.\n",
       "Df Residuals:                     563   BIC:                             9498.\n",
       "Df Model:                          18                                         \n",
       "Covariance Type:            nonrobust                                         \n",
       "=================================================================================================\n",
       "                                    coef    std err          t      P>|t|      [0.025      0.975]\n",
       "-------------------------------------------------------------------------------------------------\n",
       "const                          1572.3857    192.429      8.171      0.000    1194.420    1950.351\n",
       "workingday                      372.4490     86.225      4.320      0.000     203.087     541.811\n",
       "atemp                          3559.9365    296.615     12.002      0.000    2977.330    4142.543\n",
       "hum                            -937.7113    245.178     -3.825      0.000   -1419.286    -456.137\n",
       "windspeed                      -966.4832    166.781     -5.795      0.000   -1294.073    -638.894\n",
       "season_fall                     271.9206    127.090      2.140      0.033      22.293     521.549\n",
       "season_spring                  -573.4323     87.258     -6.572      0.000    -744.823    -402.042\n",
       "season_summer                   556.4645     89.655      6.207      0.000     380.366     732.563\n",
       "season_winter                  1317.4329     93.043     14.159      0.000    1134.680    1500.186\n",
       "yr_2019                        2015.2892     66.063     30.505      0.000    1885.528    2145.050\n",
       "mnth_aug                        372.6171    145.276      2.565      0.011      87.268     657.966\n",
       "mnth_dec                       -434.4691    132.585     -3.277      0.001    -694.891    -174.048\n",
       "mnth_june                       302.0096    145.358      2.078      0.038      16.499     587.521\n",
       "mnth_mar                        396.6695    126.333      3.140      0.002     148.528     644.811\n",
       "mnth_may                        424.4158    150.587      2.818      0.005     128.635     720.197\n",
       "mnth_nov                       -535.6404    150.517     -3.559      0.000    -831.284    -239.997\n",
       "mnth_sept                       849.3061    141.595      5.998      0.000     571.187    1127.425\n",
       "weekday_saturday                469.7917    114.795      4.092      0.000     244.312     695.271\n",
       "weathersit_light_rain_or_snow -1626.3127    223.357     -7.281      0.000   -2065.028   -1187.598\n",
       "weathersit_partly_cloudy        473.9349     88.317      5.366      0.000     300.465     647.405\n",
       "==============================================================================\n",
       "Omnibus:                      100.587   Durbin-Watson:                   2.042\n",
       "Prob(Omnibus):                  0.000   Jarque-Bera (JB):              304.489\n",
       "Skew:                          -0.821   Prob(JB):                     7.61e-67\n",
       "Kurtosis:                       6.140   Cond. No.                     6.72e+15\n",
       "==============================================================================\n",
       "\n",
       "Notes:\n",
       "[1] Standard Errors assume that the covariance matrix of the errors is correctly specified.\n",
       "[2] The smallest eigenvalue is 4.22e-29. This might indicate that there are\n",
       "strong multicollinearity problems or that the design matrix is singular.\n",
       "\"\"\""
      ]
     },
     "execution_count": 60,
     "metadata": {},
     "output_type": "execute_result"
    }
   ],
   "source": [
    "result, X_train, lm = drop_column_and_rebuild(X_train, ['holiday', 'mnth_feb','weekday_monday',\"mnth_july\",\"mnth_jan\",\"weekday_sunday\",\"weekday_tuesday\",'weekday_wednesday',\"weekday_thursday\",\"weekday_friday\",'mnth_oct','mnth_apr'])\n",
    "result"
   ]
  },
  {
   "cell_type": "code",
   "execution_count": 61,
   "id": "41064e14",
   "metadata": {},
   "outputs": [
    {
     "data": {
      "text/html": [
       "<div>\n",
       "<style scoped>\n",
       "    .dataframe tbody tr th:only-of-type {\n",
       "        vertical-align: middle;\n",
       "    }\n",
       "\n",
       "    .dataframe tbody tr th {\n",
       "        vertical-align: top;\n",
       "    }\n",
       "\n",
       "    .dataframe thead th {\n",
       "        text-align: right;\n",
       "    }\n",
       "</style>\n",
       "<table border=\"1\" class=\"dataframe\">\n",
       "  <thead>\n",
       "    <tr style=\"text-align: right;\">\n",
       "      <th></th>\n",
       "      <th>features</th>\n",
       "      <th>VIF</th>\n",
       "    </tr>\n",
       "  </thead>\n",
       "  <tbody>\n",
       "    <tr>\n",
       "      <th>4</th>\n",
       "      <td>season_fall</td>\n",
       "      <td>20.82</td>\n",
       "    </tr>\n",
       "    <tr>\n",
       "      <th>7</th>\n",
       "      <td>season_winter</td>\n",
       "      <td>15.80</td>\n",
       "    </tr>\n",
       "    <tr>\n",
       "      <th>6</th>\n",
       "      <td>season_summer</td>\n",
       "      <td>15.42</td>\n",
       "    </tr>\n",
       "    <tr>\n",
       "      <th>5</th>\n",
       "      <td>season_spring</td>\n",
       "      <td>11.73</td>\n",
       "    </tr>\n",
       "    <tr>\n",
       "      <th>1</th>\n",
       "      <td>atemp</td>\n",
       "      <td>4.13</td>\n",
       "    </tr>\n",
       "    <tr>\n",
       "      <th>2</th>\n",
       "      <td>hum</td>\n",
       "      <td>2.17</td>\n",
       "    </tr>\n",
       "    <tr>\n",
       "      <th>13</th>\n",
       "      <td>mnth_may</td>\n",
       "      <td>1.75</td>\n",
       "    </tr>\n",
       "    <tr>\n",
       "      <th>18</th>\n",
       "      <td>weathersit_partly_cloudy</td>\n",
       "      <td>1.74</td>\n",
       "    </tr>\n",
       "    <tr>\n",
       "      <th>14</th>\n",
       "      <td>mnth_nov</td>\n",
       "      <td>1.66</td>\n",
       "    </tr>\n",
       "    <tr>\n",
       "      <th>9</th>\n",
       "      <td>mnth_aug</td>\n",
       "      <td>1.60</td>\n",
       "    </tr>\n",
       "    <tr>\n",
       "      <th>0</th>\n",
       "      <td>workingday</td>\n",
       "      <td>1.57</td>\n",
       "    </tr>\n",
       "    <tr>\n",
       "      <th>16</th>\n",
       "      <td>weekday_saturday</td>\n",
       "      <td>1.56</td>\n",
       "    </tr>\n",
       "    <tr>\n",
       "      <th>11</th>\n",
       "      <td>mnth_june</td>\n",
       "      <td>1.43</td>\n",
       "    </tr>\n",
       "    <tr>\n",
       "      <th>15</th>\n",
       "      <td>mnth_sept</td>\n",
       "      <td>1.36</td>\n",
       "    </tr>\n",
       "    <tr>\n",
       "      <th>10</th>\n",
       "      <td>mnth_dec</td>\n",
       "      <td>1.34</td>\n",
       "    </tr>\n",
       "    <tr>\n",
       "      <th>12</th>\n",
       "      <td>mnth_mar</td>\n",
       "      <td>1.21</td>\n",
       "    </tr>\n",
       "    <tr>\n",
       "      <th>17</th>\n",
       "      <td>weathersit_light_rain_or_snow</td>\n",
       "      <td>1.21</td>\n",
       "    </tr>\n",
       "    <tr>\n",
       "      <th>3</th>\n",
       "      <td>windspeed</td>\n",
       "      <td>1.15</td>\n",
       "    </tr>\n",
       "    <tr>\n",
       "      <th>8</th>\n",
       "      <td>yr_2019</td>\n",
       "      <td>1.06</td>\n",
       "    </tr>\n",
       "  </tbody>\n",
       "</table>\n",
       "</div>"
      ],
      "text/plain": [
       "                         features    VIF\n",
       "4                     season_fall  20.82\n",
       "7                   season_winter  15.80\n",
       "6                   season_summer  15.42\n",
       "5                   season_spring  11.73\n",
       "1                           atemp   4.13\n",
       "2                             hum   2.17\n",
       "13                       mnth_may   1.75\n",
       "18       weathersit_partly_cloudy   1.74\n",
       "14                       mnth_nov   1.66\n",
       "9                        mnth_aug   1.60\n",
       "0                      workingday   1.57\n",
       "16               weekday_saturday   1.56\n",
       "11                      mnth_june   1.43\n",
       "15                      mnth_sept   1.36\n",
       "10                       mnth_dec   1.34\n",
       "12                       mnth_mar   1.21\n",
       "17  weathersit_light_rain_or_snow   1.21\n",
       "3                       windspeed   1.15\n",
       "8                         yr_2019   1.06"
      ]
     },
     "execution_count": 61,
     "metadata": {},
     "output_type": "execute_result"
    }
   ],
   "source": [
    "check_vif(X_train)"
   ]
  },
  {
   "cell_type": "code",
   "execution_count": 62,
   "id": "84ce1413",
   "metadata": {},
   "outputs": [
    {
     "data": {
      "text/html": [
       "<table class=\"simpletable\">\n",
       "<caption>OLS Regression Results</caption>\n",
       "<tr>\n",
       "  <th>Dep. Variable:</th>           <td>cnt</td>       <th>  R-squared:         </th> <td>   0.846</td> \n",
       "</tr>\n",
       "<tr>\n",
       "  <th>Model:</th>                   <td>OLS</td>       <th>  Adj. R-squared:    </th> <td>   0.841</td> \n",
       "</tr>\n",
       "<tr>\n",
       "  <th>Method:</th>             <td>Least Squares</td>  <th>  F-statistic:       </th> <td>   171.4</td> \n",
       "</tr>\n",
       "<tr>\n",
       "  <th>Date:</th>             <td>Wed, 13 Jul 2022</td> <th>  Prob (F-statistic):</th> <td>9.80e-215</td>\n",
       "</tr>\n",
       "<tr>\n",
       "  <th>Time:</th>                 <td>21:43:31</td>     <th>  Log-Likelihood:    </th> <td> -4688.6</td> \n",
       "</tr>\n",
       "<tr>\n",
       "  <th>No. Observations:</th>      <td>   582</td>      <th>  AIC:               </th> <td>   9415.</td> \n",
       "</tr>\n",
       "<tr>\n",
       "  <th>Df Residuals:</th>          <td>   563</td>      <th>  BIC:               </th> <td>   9498.</td> \n",
       "</tr>\n",
       "<tr>\n",
       "  <th>Df Model:</th>              <td>    18</td>      <th>                     </th>     <td> </td>    \n",
       "</tr>\n",
       "<tr>\n",
       "  <th>Covariance Type:</th>      <td>nonrobust</td>    <th>                     </th>     <td> </td>    \n",
       "</tr>\n",
       "</table>\n",
       "<table class=\"simpletable\">\n",
       "<tr>\n",
       "                <td></td>                   <th>coef</th>     <th>std err</th>      <th>t</th>      <th>P>|t|</th>  <th>[0.025</th>    <th>0.975]</th>  \n",
       "</tr>\n",
       "<tr>\n",
       "  <th>const</th>                         <td> 1844.3063</td> <td>  288.951</td> <td>    6.383</td> <td> 0.000</td> <td> 1276.752</td> <td> 2411.860</td>\n",
       "</tr>\n",
       "<tr>\n",
       "  <th>workingday</th>                    <td>  372.4490</td> <td>   86.225</td> <td>    4.320</td> <td> 0.000</td> <td>  203.087</td> <td>  541.811</td>\n",
       "</tr>\n",
       "<tr>\n",
       "  <th>atemp</th>                         <td> 3559.9365</td> <td>  296.615</td> <td>   12.002</td> <td> 0.000</td> <td> 2977.330</td> <td> 4142.543</td>\n",
       "</tr>\n",
       "<tr>\n",
       "  <th>hum</th>                           <td> -937.7113</td> <td>  245.178</td> <td>   -3.825</td> <td> 0.000</td> <td>-1419.286</td> <td> -456.137</td>\n",
       "</tr>\n",
       "<tr>\n",
       "  <th>windspeed</th>                     <td> -966.4832</td> <td>  166.781</td> <td>   -5.795</td> <td> 0.000</td> <td>-1294.073</td> <td> -638.894</td>\n",
       "</tr>\n",
       "<tr>\n",
       "  <th>season_spring</th>                 <td> -845.3529</td> <td>  180.868</td> <td>   -4.674</td> <td> 0.000</td> <td>-1200.612</td> <td> -490.094</td>\n",
       "</tr>\n",
       "<tr>\n",
       "  <th>season_summer</th>                 <td>  284.5439</td> <td>  145.682</td> <td>    1.953</td> <td> 0.051</td> <td>   -1.604</td> <td>  570.691</td>\n",
       "</tr>\n",
       "<tr>\n",
       "  <th>season_winter</th>                 <td> 1045.5122</td> <td>  144.288</td> <td>    7.246</td> <td> 0.000</td> <td>  762.104</td> <td> 1328.920</td>\n",
       "</tr>\n",
       "<tr>\n",
       "  <th>yr_2019</th>                       <td> 2015.2892</td> <td>   66.063</td> <td>   30.505</td> <td> 0.000</td> <td> 1885.528</td> <td> 2145.050</td>\n",
       "</tr>\n",
       "<tr>\n",
       "  <th>mnth_aug</th>                      <td>  372.6171</td> <td>  145.276</td> <td>    2.565</td> <td> 0.011</td> <td>   87.268</td> <td>  657.966</td>\n",
       "</tr>\n",
       "<tr>\n",
       "  <th>mnth_dec</th>                      <td> -434.4691</td> <td>  132.585</td> <td>   -3.277</td> <td> 0.001</td> <td> -694.891</td> <td> -174.048</td>\n",
       "</tr>\n",
       "<tr>\n",
       "  <th>mnth_june</th>                     <td>  302.0096</td> <td>  145.358</td> <td>    2.078</td> <td> 0.038</td> <td>   16.499</td> <td>  587.521</td>\n",
       "</tr>\n",
       "<tr>\n",
       "  <th>mnth_mar</th>                      <td>  396.6695</td> <td>  126.333</td> <td>    3.140</td> <td> 0.002</td> <td>  148.528</td> <td>  644.811</td>\n",
       "</tr>\n",
       "<tr>\n",
       "  <th>mnth_may</th>                      <td>  424.4158</td> <td>  150.587</td> <td>    2.818</td> <td> 0.005</td> <td>  128.635</td> <td>  720.197</td>\n",
       "</tr>\n",
       "<tr>\n",
       "  <th>mnth_nov</th>                      <td> -535.6404</td> <td>  150.517</td> <td>   -3.559</td> <td> 0.000</td> <td> -831.284</td> <td> -239.997</td>\n",
       "</tr>\n",
       "<tr>\n",
       "  <th>mnth_sept</th>                     <td>  849.3061</td> <td>  141.595</td> <td>    5.998</td> <td> 0.000</td> <td>  571.187</td> <td> 1127.425</td>\n",
       "</tr>\n",
       "<tr>\n",
       "  <th>weekday_saturday</th>              <td>  469.7917</td> <td>  114.795</td> <td>    4.092</td> <td> 0.000</td> <td>  244.312</td> <td>  695.271</td>\n",
       "</tr>\n",
       "<tr>\n",
       "  <th>weathersit_light_rain_or_snow</th> <td>-1626.3127</td> <td>  223.357</td> <td>   -7.281</td> <td> 0.000</td> <td>-2065.028</td> <td>-1187.598</td>\n",
       "</tr>\n",
       "<tr>\n",
       "  <th>weathersit_partly_cloudy</th>      <td>  473.9349</td> <td>   88.317</td> <td>    5.366</td> <td> 0.000</td> <td>  300.465</td> <td>  647.405</td>\n",
       "</tr>\n",
       "</table>\n",
       "<table class=\"simpletable\">\n",
       "<tr>\n",
       "  <th>Omnibus:</th>       <td>100.587</td> <th>  Durbin-Watson:     </th> <td>   2.042</td>\n",
       "</tr>\n",
       "<tr>\n",
       "  <th>Prob(Omnibus):</th> <td> 0.000</td>  <th>  Jarque-Bera (JB):  </th> <td> 304.489</td>\n",
       "</tr>\n",
       "<tr>\n",
       "  <th>Skew:</th>          <td>-0.821</td>  <th>  Prob(JB):          </th> <td>7.61e-67</td>\n",
       "</tr>\n",
       "<tr>\n",
       "  <th>Kurtosis:</th>      <td> 6.140</td>  <th>  Cond. No.          </th> <td>    23.9</td>\n",
       "</tr>\n",
       "</table><br/><br/>Notes:<br/>[1] Standard Errors assume that the covariance matrix of the errors is correctly specified."
      ],
      "text/plain": [
       "<class 'statsmodels.iolib.summary.Summary'>\n",
       "\"\"\"\n",
       "                            OLS Regression Results                            \n",
       "==============================================================================\n",
       "Dep. Variable:                    cnt   R-squared:                       0.846\n",
       "Model:                            OLS   Adj. R-squared:                  0.841\n",
       "Method:                 Least Squares   F-statistic:                     171.4\n",
       "Date:                Wed, 13 Jul 2022   Prob (F-statistic):          9.80e-215\n",
       "Time:                        21:43:31   Log-Likelihood:                -4688.6\n",
       "No. Observations:                 582   AIC:                             9415.\n",
       "Df Residuals:                     563   BIC:                             9498.\n",
       "Df Model:                          18                                         \n",
       "Covariance Type:            nonrobust                                         \n",
       "=================================================================================================\n",
       "                                    coef    std err          t      P>|t|      [0.025      0.975]\n",
       "-------------------------------------------------------------------------------------------------\n",
       "const                          1844.3063    288.951      6.383      0.000    1276.752    2411.860\n",
       "workingday                      372.4490     86.225      4.320      0.000     203.087     541.811\n",
       "atemp                          3559.9365    296.615     12.002      0.000    2977.330    4142.543\n",
       "hum                            -937.7113    245.178     -3.825      0.000   -1419.286    -456.137\n",
       "windspeed                      -966.4832    166.781     -5.795      0.000   -1294.073    -638.894\n",
       "season_spring                  -845.3529    180.868     -4.674      0.000   -1200.612    -490.094\n",
       "season_summer                   284.5439    145.682      1.953      0.051      -1.604     570.691\n",
       "season_winter                  1045.5122    144.288      7.246      0.000     762.104    1328.920\n",
       "yr_2019                        2015.2892     66.063     30.505      0.000    1885.528    2145.050\n",
       "mnth_aug                        372.6171    145.276      2.565      0.011      87.268     657.966\n",
       "mnth_dec                       -434.4691    132.585     -3.277      0.001    -694.891    -174.048\n",
       "mnth_june                       302.0096    145.358      2.078      0.038      16.499     587.521\n",
       "mnth_mar                        396.6695    126.333      3.140      0.002     148.528     644.811\n",
       "mnth_may                        424.4158    150.587      2.818      0.005     128.635     720.197\n",
       "mnth_nov                       -535.6404    150.517     -3.559      0.000    -831.284    -239.997\n",
       "mnth_sept                       849.3061    141.595      5.998      0.000     571.187    1127.425\n",
       "weekday_saturday                469.7917    114.795      4.092      0.000     244.312     695.271\n",
       "weathersit_light_rain_or_snow -1626.3127    223.357     -7.281      0.000   -2065.028   -1187.598\n",
       "weathersit_partly_cloudy        473.9349     88.317      5.366      0.000     300.465     647.405\n",
       "==============================================================================\n",
       "Omnibus:                      100.587   Durbin-Watson:                   2.042\n",
       "Prob(Omnibus):                  0.000   Jarque-Bera (JB):              304.489\n",
       "Skew:                          -0.821   Prob(JB):                     7.61e-67\n",
       "Kurtosis:                       6.140   Cond. No.                         23.9\n",
       "==============================================================================\n",
       "\n",
       "Notes:\n",
       "[1] Standard Errors assume that the covariance matrix of the errors is correctly specified.\n",
       "\"\"\""
      ]
     },
     "execution_count": 62,
     "metadata": {},
     "output_type": "execute_result"
    }
   ],
   "source": [
    "result, X_train, lm = drop_column_and_rebuild(X_train, ['season_fall'])\n",
    "result"
   ]
  },
  {
   "cell_type": "code",
   "execution_count": 63,
   "id": "2e1e1456",
   "metadata": {},
   "outputs": [
    {
     "data": {
      "text/html": [
       "<div>\n",
       "<style scoped>\n",
       "    .dataframe tbody tr th:only-of-type {\n",
       "        vertical-align: middle;\n",
       "    }\n",
       "\n",
       "    .dataframe tbody tr th {\n",
       "        vertical-align: top;\n",
       "    }\n",
       "\n",
       "    .dataframe thead th {\n",
       "        text-align: right;\n",
       "    }\n",
       "</style>\n",
       "<table border=\"1\" class=\"dataframe\">\n",
       "  <thead>\n",
       "    <tr style=\"text-align: right;\">\n",
       "      <th></th>\n",
       "      <th>features</th>\n",
       "      <th>VIF</th>\n",
       "    </tr>\n",
       "  </thead>\n",
       "  <tbody>\n",
       "    <tr>\n",
       "      <th>1</th>\n",
       "      <td>atemp</td>\n",
       "      <td>16.54</td>\n",
       "    </tr>\n",
       "    <tr>\n",
       "      <th>2</th>\n",
       "      <td>hum</td>\n",
       "      <td>14.60</td>\n",
       "    </tr>\n",
       "    <tr>\n",
       "      <th>3</th>\n",
       "      <td>windspeed</td>\n",
       "      <td>5.77</td>\n",
       "    </tr>\n",
       "    <tr>\n",
       "      <th>4</th>\n",
       "      <td>season_spring</td>\n",
       "      <td>4.59</td>\n",
       "    </tr>\n",
       "    <tr>\n",
       "      <th>0</th>\n",
       "      <td>workingday</td>\n",
       "      <td>4.58</td>\n",
       "    </tr>\n",
       "    <tr>\n",
       "      <th>17</th>\n",
       "      <td>weathersit_partly_cloudy</td>\n",
       "      <td>4.17</td>\n",
       "    </tr>\n",
       "    <tr>\n",
       "      <th>6</th>\n",
       "      <td>season_winter</td>\n",
       "      <td>3.93</td>\n",
       "    </tr>\n",
       "    <tr>\n",
       "      <th>5</th>\n",
       "      <td>season_summer</td>\n",
       "      <td>3.92</td>\n",
       "    </tr>\n",
       "    <tr>\n",
       "      <th>7</th>\n",
       "      <td>yr_2019</td>\n",
       "      <td>2.14</td>\n",
       "    </tr>\n",
       "    <tr>\n",
       "      <th>12</th>\n",
       "      <td>mnth_may</td>\n",
       "      <td>1.85</td>\n",
       "    </tr>\n",
       "    <tr>\n",
       "      <th>15</th>\n",
       "      <td>weekday_saturday</td>\n",
       "      <td>1.75</td>\n",
       "    </tr>\n",
       "    <tr>\n",
       "      <th>13</th>\n",
       "      <td>mnth_nov</td>\n",
       "      <td>1.73</td>\n",
       "    </tr>\n",
       "    <tr>\n",
       "      <th>8</th>\n",
       "      <td>mnth_aug</td>\n",
       "      <td>1.70</td>\n",
       "    </tr>\n",
       "    <tr>\n",
       "      <th>10</th>\n",
       "      <td>mnth_june</td>\n",
       "      <td>1.53</td>\n",
       "    </tr>\n",
       "    <tr>\n",
       "      <th>14</th>\n",
       "      <td>mnth_sept</td>\n",
       "      <td>1.43</td>\n",
       "    </tr>\n",
       "    <tr>\n",
       "      <th>9</th>\n",
       "      <td>mnth_dec</td>\n",
       "      <td>1.42</td>\n",
       "    </tr>\n",
       "    <tr>\n",
       "      <th>11</th>\n",
       "      <td>mnth_mar</td>\n",
       "      <td>1.33</td>\n",
       "    </tr>\n",
       "    <tr>\n",
       "      <th>16</th>\n",
       "      <td>weathersit_light_rain_or_snow</td>\n",
       "      <td>1.24</td>\n",
       "    </tr>\n",
       "  </tbody>\n",
       "</table>\n",
       "</div>"
      ],
      "text/plain": [
       "                         features    VIF\n",
       "1                           atemp  16.54\n",
       "2                             hum  14.60\n",
       "3                       windspeed   5.77\n",
       "4                   season_spring   4.59\n",
       "0                      workingday   4.58\n",
       "17       weathersit_partly_cloudy   4.17\n",
       "6                   season_winter   3.93\n",
       "5                   season_summer   3.92\n",
       "7                         yr_2019   2.14\n",
       "12                       mnth_may   1.85\n",
       "15               weekday_saturday   1.75\n",
       "13                       mnth_nov   1.73\n",
       "8                        mnth_aug   1.70\n",
       "10                      mnth_june   1.53\n",
       "14                      mnth_sept   1.43\n",
       "9                        mnth_dec   1.42\n",
       "11                       mnth_mar   1.33\n",
       "16  weathersit_light_rain_or_snow   1.24"
      ]
     },
     "execution_count": 63,
     "metadata": {},
     "output_type": "execute_result"
    }
   ],
   "source": [
    "check_vif(X_train)"
   ]
  },
  {
   "cell_type": "code",
   "execution_count": 64,
   "id": "16ee087d",
   "metadata": {},
   "outputs": [
    {
     "data": {
      "text/html": [
       "<table class=\"simpletable\">\n",
       "<caption>OLS Regression Results</caption>\n",
       "<tr>\n",
       "  <th>Dep. Variable:</th>           <td>cnt</td>       <th>  R-squared:         </th> <td>   0.806</td> \n",
       "</tr>\n",
       "<tr>\n",
       "  <th>Model:</th>                   <td>OLS</td>       <th>  Adj. R-squared:    </th> <td>   0.800</td> \n",
       "</tr>\n",
       "<tr>\n",
       "  <th>Method:</th>             <td>Least Squares</td>  <th>  F-statistic:       </th> <td>   138.0</td> \n",
       "</tr>\n",
       "<tr>\n",
       "  <th>Date:</th>             <td>Wed, 13 Jul 2022</td> <th>  Prob (F-statistic):</th> <td>3.98e-188</td>\n",
       "</tr>\n",
       "<tr>\n",
       "  <th>Time:</th>                 <td>21:43:50</td>     <th>  Log-Likelihood:    </th> <td> -4754.9</td> \n",
       "</tr>\n",
       "<tr>\n",
       "  <th>No. Observations:</th>      <td>   582</td>      <th>  AIC:               </th> <td>   9546.</td> \n",
       "</tr>\n",
       "<tr>\n",
       "  <th>Df Residuals:</th>          <td>   564</td>      <th>  BIC:               </th> <td>   9624.</td> \n",
       "</tr>\n",
       "<tr>\n",
       "  <th>Df Model:</th>              <td>    17</td>      <th>                     </th>     <td> </td>    \n",
       "</tr>\n",
       "<tr>\n",
       "  <th>Covariance Type:</th>      <td>nonrobust</td>    <th>                     </th>     <td> </td>    \n",
       "</tr>\n",
       "</table>\n",
       "<table class=\"simpletable\">\n",
       "<tr>\n",
       "                <td></td>                   <th>coef</th>     <th>std err</th>      <th>t</th>      <th>P>|t|</th>  <th>[0.025</th>    <th>0.975]</th>  \n",
       "</tr>\n",
       "<tr>\n",
       "  <th>const</th>                         <td> 3926.6692</td> <td>  258.709</td> <td>   15.178</td> <td> 0.000</td> <td> 3418.518</td> <td> 4434.820</td>\n",
       "</tr>\n",
       "<tr>\n",
       "  <th>workingday</th>                    <td>  395.2235</td> <td>   96.519</td> <td>    4.095</td> <td> 0.000</td> <td>  205.643</td> <td>  584.804</td>\n",
       "</tr>\n",
       "<tr>\n",
       "  <th>hum</th>                           <td> -178.7170</td> <td>  265.225</td> <td>   -0.674</td> <td> 0.501</td> <td> -699.667</td> <td>  342.233</td>\n",
       "</tr>\n",
       "<tr>\n",
       "  <th>windspeed</th>                     <td>-1049.4881</td> <td>  186.577</td> <td>   -5.625</td> <td> 0.000</td> <td>-1415.958</td> <td> -683.018</td>\n",
       "</tr>\n",
       "<tr>\n",
       "  <th>season_spring</th>                 <td>-2476.3141</td> <td>  133.642</td> <td>  -18.530</td> <td> 0.000</td> <td>-2738.810</td> <td>-2213.818</td>\n",
       "</tr>\n",
       "<tr>\n",
       "  <th>season_summer</th>                 <td> -623.6789</td> <td>  139.382</td> <td>   -4.475</td> <td> 0.000</td> <td> -897.450</td> <td> -349.908</td>\n",
       "</tr>\n",
       "<tr>\n",
       "  <th>season_winter</th>                 <td>  151.7015</td> <td>  138.370</td> <td>    1.096</td> <td> 0.273</td> <td> -120.083</td> <td>  423.486</td>\n",
       "</tr>\n",
       "<tr>\n",
       "  <th>yr_2019</th>                       <td> 2130.9290</td> <td>   73.177</td> <td>   29.120</td> <td> 0.000</td> <td> 1987.196</td> <td> 2274.662</td>\n",
       "</tr>\n",
       "<tr>\n",
       "  <th>mnth_aug</th>                      <td>  327.6596</td> <td>  162.605</td> <td>    2.015</td> <td> 0.044</td> <td>    8.275</td> <td>  647.044</td>\n",
       "</tr>\n",
       "<tr>\n",
       "  <th>mnth_dec</th>                      <td> -833.6153</td> <td>  143.703</td> <td>   -5.801</td> <td> 0.000</td> <td>-1115.874</td> <td> -551.356</td>\n",
       "</tr>\n",
       "<tr>\n",
       "  <th>mnth_june</th>                     <td>  823.8264</td> <td>  155.300</td> <td>    5.305</td> <td> 0.000</td> <td>  518.789</td> <td> 1128.864</td>\n",
       "</tr>\n",
       "<tr>\n",
       "  <th>mnth_mar</th>                      <td>  478.6894</td> <td>  141.242</td> <td>    3.389</td> <td> 0.001</td> <td>  201.264</td> <td>  756.115</td>\n",
       "</tr>\n",
       "<tr>\n",
       "  <th>mnth_may</th>                      <td>  828.7426</td> <td>  164.332</td> <td>    5.043</td> <td> 0.000</td> <td>  505.965</td> <td> 1151.520</td>\n",
       "</tr>\n",
       "<tr>\n",
       "  <th>mnth_nov</th>                      <td>-1029.2516</td> <td>  162.114</td> <td>   -6.349</td> <td> 0.000</td> <td>-1347.672</td> <td> -710.831</td>\n",
       "</tr>\n",
       "<tr>\n",
       "  <th>mnth_sept</th>                     <td>  675.2286</td> <td>  157.704</td> <td>    4.282</td> <td> 0.000</td> <td>  365.470</td> <td>  984.987</td>\n",
       "</tr>\n",
       "<tr>\n",
       "  <th>weekday_saturday</th>              <td>  470.5917</td> <td>  128.531</td> <td>    3.661</td> <td> 0.000</td> <td>  218.133</td> <td>  723.050</td>\n",
       "</tr>\n",
       "<tr>\n",
       "  <th>weathersit_light_rain_or_snow</th> <td>-1892.2940</td> <td>  248.849</td> <td>   -7.604</td> <td> 0.000</td> <td>-2381.077</td> <td>-1403.511</td>\n",
       "</tr>\n",
       "<tr>\n",
       "  <th>weathersit_partly_cloudy</th>      <td>  703.9657</td> <td>   96.527</td> <td>    7.293</td> <td> 0.000</td> <td>  514.369</td> <td>  893.563</td>\n",
       "</tr>\n",
       "</table>\n",
       "<table class=\"simpletable\">\n",
       "<tr>\n",
       "  <th>Omnibus:</th>       <td>73.216</td> <th>  Durbin-Watson:     </th> <td>   1.967</td>\n",
       "</tr>\n",
       "<tr>\n",
       "  <th>Prob(Omnibus):</th> <td> 0.000</td> <th>  Jarque-Bera (JB):  </th> <td> 241.619</td>\n",
       "</tr>\n",
       "<tr>\n",
       "  <th>Skew:</th>          <td>-0.565</td> <th>  Prob(JB):          </th> <td>3.41e-53</td>\n",
       "</tr>\n",
       "<tr>\n",
       "  <th>Kurtosis:</th>      <td> 5.947</td> <th>  Cond. No.          </th> <td>    17.9</td>\n",
       "</tr>\n",
       "</table><br/><br/>Notes:<br/>[1] Standard Errors assume that the covariance matrix of the errors is correctly specified."
      ],
      "text/plain": [
       "<class 'statsmodels.iolib.summary.Summary'>\n",
       "\"\"\"\n",
       "                            OLS Regression Results                            \n",
       "==============================================================================\n",
       "Dep. Variable:                    cnt   R-squared:                       0.806\n",
       "Model:                            OLS   Adj. R-squared:                  0.800\n",
       "Method:                 Least Squares   F-statistic:                     138.0\n",
       "Date:                Wed, 13 Jul 2022   Prob (F-statistic):          3.98e-188\n",
       "Time:                        21:43:50   Log-Likelihood:                -4754.9\n",
       "No. Observations:                 582   AIC:                             9546.\n",
       "Df Residuals:                     564   BIC:                             9624.\n",
       "Df Model:                          17                                         \n",
       "Covariance Type:            nonrobust                                         \n",
       "=================================================================================================\n",
       "                                    coef    std err          t      P>|t|      [0.025      0.975]\n",
       "-------------------------------------------------------------------------------------------------\n",
       "const                          3926.6692    258.709     15.178      0.000    3418.518    4434.820\n",
       "workingday                      395.2235     96.519      4.095      0.000     205.643     584.804\n",
       "hum                            -178.7170    265.225     -0.674      0.501    -699.667     342.233\n",
       "windspeed                     -1049.4881    186.577     -5.625      0.000   -1415.958    -683.018\n",
       "season_spring                 -2476.3141    133.642    -18.530      0.000   -2738.810   -2213.818\n",
       "season_summer                  -623.6789    139.382     -4.475      0.000    -897.450    -349.908\n",
       "season_winter                   151.7015    138.370      1.096      0.273    -120.083     423.486\n",
       "yr_2019                        2130.9290     73.177     29.120      0.000    1987.196    2274.662\n",
       "mnth_aug                        327.6596    162.605      2.015      0.044       8.275     647.044\n",
       "mnth_dec                       -833.6153    143.703     -5.801      0.000   -1115.874    -551.356\n",
       "mnth_june                       823.8264    155.300      5.305      0.000     518.789    1128.864\n",
       "mnth_mar                        478.6894    141.242      3.389      0.001     201.264     756.115\n",
       "mnth_may                        828.7426    164.332      5.043      0.000     505.965    1151.520\n",
       "mnth_nov                      -1029.2516    162.114     -6.349      0.000   -1347.672    -710.831\n",
       "mnth_sept                       675.2286    157.704      4.282      0.000     365.470     984.987\n",
       "weekday_saturday                470.5917    128.531      3.661      0.000     218.133     723.050\n",
       "weathersit_light_rain_or_snow -1892.2940    248.849     -7.604      0.000   -2381.077   -1403.511\n",
       "weathersit_partly_cloudy        703.9657     96.527      7.293      0.000     514.369     893.563\n",
       "==============================================================================\n",
       "Omnibus:                       73.216   Durbin-Watson:                   1.967\n",
       "Prob(Omnibus):                  0.000   Jarque-Bera (JB):              241.619\n",
       "Skew:                          -0.565   Prob(JB):                     3.41e-53\n",
       "Kurtosis:                       5.947   Cond. No.                         17.9\n",
       "==============================================================================\n",
       "\n",
       "Notes:\n",
       "[1] Standard Errors assume that the covariance matrix of the errors is correctly specified.\n",
       "\"\"\""
      ]
     },
     "execution_count": 64,
     "metadata": {},
     "output_type": "execute_result"
    }
   ],
   "source": [
    "result, X_train, lm = drop_column_and_rebuild(X_train, ['atemp'])\n",
    "result"
   ]
  },
  {
   "cell_type": "code",
   "execution_count": 65,
   "id": "49d2f647",
   "metadata": {},
   "outputs": [
    {
     "data": {
      "text/html": [
       "<div>\n",
       "<style scoped>\n",
       "    .dataframe tbody tr th:only-of-type {\n",
       "        vertical-align: middle;\n",
       "    }\n",
       "\n",
       "    .dataframe tbody tr th {\n",
       "        vertical-align: top;\n",
       "    }\n",
       "\n",
       "    .dataframe thead th {\n",
       "        text-align: right;\n",
       "    }\n",
       "</style>\n",
       "<table border=\"1\" class=\"dataframe\">\n",
       "  <thead>\n",
       "    <tr style=\"text-align: right;\">\n",
       "      <th></th>\n",
       "      <th>features</th>\n",
       "      <th>VIF</th>\n",
       "    </tr>\n",
       "  </thead>\n",
       "  <tbody>\n",
       "    <tr>\n",
       "      <th>1</th>\n",
       "      <td>hum</td>\n",
       "      <td>7.09</td>\n",
       "    </tr>\n",
       "    <tr>\n",
       "      <th>2</th>\n",
       "      <td>windspeed</td>\n",
       "      <td>5.32</td>\n",
       "    </tr>\n",
       "    <tr>\n",
       "      <th>0</th>\n",
       "      <td>workingday</td>\n",
       "      <td>4.35</td>\n",
       "    </tr>\n",
       "    <tr>\n",
       "      <th>4</th>\n",
       "      <td>season_summer</td>\n",
       "      <td>3.52</td>\n",
       "    </tr>\n",
       "    <tr>\n",
       "      <th>5</th>\n",
       "      <td>season_winter</td>\n",
       "      <td>3.48</td>\n",
       "    </tr>\n",
       "    <tr>\n",
       "      <th>3</th>\n",
       "      <td>season_spring</td>\n",
       "      <td>2.94</td>\n",
       "    </tr>\n",
       "    <tr>\n",
       "      <th>16</th>\n",
       "      <td>weathersit_partly_cloudy</td>\n",
       "      <td>2.71</td>\n",
       "    </tr>\n",
       "    <tr>\n",
       "      <th>6</th>\n",
       "      <td>yr_2019</td>\n",
       "      <td>2.00</td>\n",
       "    </tr>\n",
       "    <tr>\n",
       "      <th>11</th>\n",
       "      <td>mnth_may</td>\n",
       "      <td>1.81</td>\n",
       "    </tr>\n",
       "    <tr>\n",
       "      <th>14</th>\n",
       "      <td>weekday_saturday</td>\n",
       "      <td>1.71</td>\n",
       "    </tr>\n",
       "    <tr>\n",
       "      <th>7</th>\n",
       "      <td>mnth_aug</td>\n",
       "      <td>1.68</td>\n",
       "    </tr>\n",
       "    <tr>\n",
       "      <th>12</th>\n",
       "      <td>mnth_nov</td>\n",
       "      <td>1.67</td>\n",
       "    </tr>\n",
       "    <tr>\n",
       "      <th>13</th>\n",
       "      <td>mnth_sept</td>\n",
       "      <td>1.43</td>\n",
       "    </tr>\n",
       "    <tr>\n",
       "      <th>9</th>\n",
       "      <td>mnth_june</td>\n",
       "      <td>1.39</td>\n",
       "    </tr>\n",
       "    <tr>\n",
       "      <th>8</th>\n",
       "      <td>mnth_dec</td>\n",
       "      <td>1.37</td>\n",
       "    </tr>\n",
       "    <tr>\n",
       "      <th>10</th>\n",
       "      <td>mnth_mar</td>\n",
       "      <td>1.32</td>\n",
       "    </tr>\n",
       "    <tr>\n",
       "      <th>15</th>\n",
       "      <td>weathersit_light_rain_or_snow</td>\n",
       "      <td>1.20</td>\n",
       "    </tr>\n",
       "  </tbody>\n",
       "</table>\n",
       "</div>"
      ],
      "text/plain": [
       "                         features   VIF\n",
       "1                             hum  7.09\n",
       "2                       windspeed  5.32\n",
       "0                      workingday  4.35\n",
       "4                   season_summer  3.52\n",
       "5                   season_winter  3.48\n",
       "3                   season_spring  2.94\n",
       "16       weathersit_partly_cloudy  2.71\n",
       "6                         yr_2019  2.00\n",
       "11                       mnth_may  1.81\n",
       "14               weekday_saturday  1.71\n",
       "7                        mnth_aug  1.68\n",
       "12                       mnth_nov  1.67\n",
       "13                      mnth_sept  1.43\n",
       "9                       mnth_june  1.39\n",
       "8                        mnth_dec  1.37\n",
       "10                       mnth_mar  1.32\n",
       "15  weathersit_light_rain_or_snow  1.20"
      ]
     },
     "execution_count": 65,
     "metadata": {},
     "output_type": "execute_result"
    }
   ],
   "source": [
    "check_vif(X_train)"
   ]
  },
  {
   "cell_type": "code",
   "execution_count": 66,
   "id": "7914d415",
   "metadata": {},
   "outputs": [
    {
     "data": {
      "text/html": [
       "<table class=\"simpletable\">\n",
       "<caption>OLS Regression Results</caption>\n",
       "<tr>\n",
       "  <th>Dep. Variable:</th>           <td>cnt</td>       <th>  R-squared:         </th> <td>   0.806</td> \n",
       "</tr>\n",
       "<tr>\n",
       "  <th>Model:</th>                   <td>OLS</td>       <th>  Adj. R-squared:    </th> <td>   0.801</td> \n",
       "</tr>\n",
       "<tr>\n",
       "  <th>Method:</th>             <td>Least Squares</td>  <th>  F-statistic:       </th> <td>   146.8</td> \n",
       "</tr>\n",
       "<tr>\n",
       "  <th>Date:</th>             <td>Wed, 13 Jul 2022</td> <th>  Prob (F-statistic):</th> <td>4.05e-189</td>\n",
       "</tr>\n",
       "<tr>\n",
       "  <th>Time:</th>                 <td>21:44:07</td>     <th>  Log-Likelihood:    </th> <td> -4755.1</td> \n",
       "</tr>\n",
       "<tr>\n",
       "  <th>No. Observations:</th>      <td>   582</td>      <th>  AIC:               </th> <td>   9544.</td> \n",
       "</tr>\n",
       "<tr>\n",
       "  <th>Df Residuals:</th>          <td>   565</td>      <th>  BIC:               </th> <td>   9618.</td> \n",
       "</tr>\n",
       "<tr>\n",
       "  <th>Df Model:</th>              <td>    16</td>      <th>                     </th>     <td> </td>    \n",
       "</tr>\n",
       "<tr>\n",
       "  <th>Covariance Type:</th>      <td>nonrobust</td>    <th>                     </th>     <td> </td>    \n",
       "</tr>\n",
       "</table>\n",
       "<table class=\"simpletable\">\n",
       "<tr>\n",
       "                <td></td>                   <th>coef</th>     <th>std err</th>      <th>t</th>      <th>P>|t|</th>  <th>[0.025</th>    <th>0.975]</th>  \n",
       "</tr>\n",
       "<tr>\n",
       "  <th>const</th>                         <td> 3794.2419</td> <td>  168.165</td> <td>   22.563</td> <td> 0.000</td> <td> 3463.937</td> <td> 4124.547</td>\n",
       "</tr>\n",
       "<tr>\n",
       "  <th>workingday</th>                    <td>  397.4068</td> <td>   96.418</td> <td>    4.122</td> <td> 0.000</td> <td>  208.026</td> <td>  586.788</td>\n",
       "</tr>\n",
       "<tr>\n",
       "  <th>windspeed</th>                     <td>-1019.0458</td> <td>  180.937</td> <td>   -5.632</td> <td> 0.000</td> <td>-1374.437</td> <td> -663.655</td>\n",
       "</tr>\n",
       "<tr>\n",
       "  <th>season_spring</th>                 <td>-2469.9488</td> <td>  133.243</td> <td>  -18.537</td> <td> 0.000</td> <td>-2731.661</td> <td>-2208.237</td>\n",
       "</tr>\n",
       "<tr>\n",
       "  <th>season_summer</th>                 <td> -620.4530</td> <td>  139.232</td> <td>   -4.456</td> <td> 0.000</td> <td> -893.929</td> <td> -346.977</td>\n",
       "</tr>\n",
       "<tr>\n",
       "  <th>season_winter</th>                 <td>  144.0756</td> <td>  137.840</td> <td>    1.045</td> <td> 0.296</td> <td> -126.666</td> <td>  414.817</td>\n",
       "</tr>\n",
       "<tr>\n",
       "  <th>yr_2019</th>                       <td> 2136.7651</td> <td>   72.628</td> <td>   29.421</td> <td> 0.000</td> <td> 1994.112</td> <td> 2279.419</td>\n",
       "</tr>\n",
       "<tr>\n",
       "  <th>mnth_aug</th>                      <td>  319.4301</td> <td>  162.067</td> <td>    1.971</td> <td> 0.049</td> <td>    1.103</td> <td>  637.757</td>\n",
       "</tr>\n",
       "<tr>\n",
       "  <th>mnth_dec</th>                      <td> -837.7570</td> <td>  143.502</td> <td>   -5.838</td> <td> 0.000</td> <td>-1119.620</td> <td> -555.894</td>\n",
       "</tr>\n",
       "<tr>\n",
       "  <th>mnth_june</th>                     <td>  825.2690</td> <td>  155.210</td> <td>    5.317</td> <td> 0.000</td> <td>  520.409</td> <td> 1130.129</td>\n",
       "</tr>\n",
       "<tr>\n",
       "  <th>mnth_mar</th>                      <td>  478.3055</td> <td>  141.173</td> <td>    3.388</td> <td> 0.001</td> <td>  201.018</td> <td>  755.593</td>\n",
       "</tr>\n",
       "<tr>\n",
       "  <th>mnth_may</th>                      <td>  808.3297</td> <td>  161.438</td> <td>    5.007</td> <td> 0.000</td> <td>  491.238</td> <td> 1125.421</td>\n",
       "</tr>\n",
       "<tr>\n",
       "  <th>mnth_nov</th>                      <td>-1025.2663</td> <td>  161.927</td> <td>   -6.332</td> <td> 0.000</td> <td>-1343.320</td> <td> -707.213</td>\n",
       "</tr>\n",
       "<tr>\n",
       "  <th>mnth_sept</th>                     <td>  660.9934</td> <td>  156.207</td> <td>    4.232</td> <td> 0.000</td> <td>  354.176</td> <td>  967.810</td>\n",
       "</tr>\n",
       "<tr>\n",
       "  <th>weekday_saturday</th>              <td>  473.4058</td> <td>  128.401</td> <td>    3.687</td> <td> 0.000</td> <td>  221.204</td> <td>  725.608</td>\n",
       "</tr>\n",
       "<tr>\n",
       "  <th>weathersit_light_rain_or_snow</th> <td>-1937.8964</td> <td>  239.354</td> <td>   -8.096</td> <td> 0.000</td> <td>-2408.028</td> <td>-1467.765</td>\n",
       "</tr>\n",
       "<tr>\n",
       "  <th>weathersit_partly_cloudy</th>      <td>  742.3435</td> <td>   77.896</td> <td>    9.530</td> <td> 0.000</td> <td>  589.342</td> <td>  895.345</td>\n",
       "</tr>\n",
       "</table>\n",
       "<table class=\"simpletable\">\n",
       "<tr>\n",
       "  <th>Omnibus:</th>       <td>74.431</td> <th>  Durbin-Watson:     </th> <td>   1.966</td>\n",
       "</tr>\n",
       "<tr>\n",
       "  <th>Prob(Omnibus):</th> <td> 0.000</td> <th>  Jarque-Bera (JB):  </th> <td> 244.913</td>\n",
       "</tr>\n",
       "<tr>\n",
       "  <th>Skew:</th>          <td>-0.577</td> <th>  Prob(JB):          </th> <td>6.57e-54</td>\n",
       "</tr>\n",
       "<tr>\n",
       "  <th>Kurtosis:</th>      <td> 5.961</td> <th>  Cond. No.          </th> <td>    12.3</td>\n",
       "</tr>\n",
       "</table><br/><br/>Notes:<br/>[1] Standard Errors assume that the covariance matrix of the errors is correctly specified."
      ],
      "text/plain": [
       "<class 'statsmodels.iolib.summary.Summary'>\n",
       "\"\"\"\n",
       "                            OLS Regression Results                            \n",
       "==============================================================================\n",
       "Dep. Variable:                    cnt   R-squared:                       0.806\n",
       "Model:                            OLS   Adj. R-squared:                  0.801\n",
       "Method:                 Least Squares   F-statistic:                     146.8\n",
       "Date:                Wed, 13 Jul 2022   Prob (F-statistic):          4.05e-189\n",
       "Time:                        21:44:07   Log-Likelihood:                -4755.1\n",
       "No. Observations:                 582   AIC:                             9544.\n",
       "Df Residuals:                     565   BIC:                             9618.\n",
       "Df Model:                          16                                         \n",
       "Covariance Type:            nonrobust                                         \n",
       "=================================================================================================\n",
       "                                    coef    std err          t      P>|t|      [0.025      0.975]\n",
       "-------------------------------------------------------------------------------------------------\n",
       "const                          3794.2419    168.165     22.563      0.000    3463.937    4124.547\n",
       "workingday                      397.4068     96.418      4.122      0.000     208.026     586.788\n",
       "windspeed                     -1019.0458    180.937     -5.632      0.000   -1374.437    -663.655\n",
       "season_spring                 -2469.9488    133.243    -18.537      0.000   -2731.661   -2208.237\n",
       "season_summer                  -620.4530    139.232     -4.456      0.000    -893.929    -346.977\n",
       "season_winter                   144.0756    137.840      1.045      0.296    -126.666     414.817\n",
       "yr_2019                        2136.7651     72.628     29.421      0.000    1994.112    2279.419\n",
       "mnth_aug                        319.4301    162.067      1.971      0.049       1.103     637.757\n",
       "mnth_dec                       -837.7570    143.502     -5.838      0.000   -1119.620    -555.894\n",
       "mnth_june                       825.2690    155.210      5.317      0.000     520.409    1130.129\n",
       "mnth_mar                        478.3055    141.173      3.388      0.001     201.018     755.593\n",
       "mnth_may                        808.3297    161.438      5.007      0.000     491.238    1125.421\n",
       "mnth_nov                      -1025.2663    161.927     -6.332      0.000   -1343.320    -707.213\n",
       "mnth_sept                       660.9934    156.207      4.232      0.000     354.176     967.810\n",
       "weekday_saturday                473.4058    128.401      3.687      0.000     221.204     725.608\n",
       "weathersit_light_rain_or_snow -1937.8964    239.354     -8.096      0.000   -2408.028   -1467.765\n",
       "weathersit_partly_cloudy        742.3435     77.896      9.530      0.000     589.342     895.345\n",
       "==============================================================================\n",
       "Omnibus:                       74.431   Durbin-Watson:                   1.966\n",
       "Prob(Omnibus):                  0.000   Jarque-Bera (JB):              244.913\n",
       "Skew:                          -0.577   Prob(JB):                     6.57e-54\n",
       "Kurtosis:                       5.961   Cond. No.                         12.3\n",
       "==============================================================================\n",
       "\n",
       "Notes:\n",
       "[1] Standard Errors assume that the covariance matrix of the errors is correctly specified.\n",
       "\"\"\""
      ]
     },
     "execution_count": 66,
     "metadata": {},
     "output_type": "execute_result"
    }
   ],
   "source": [
    "result, X_train, lm = drop_column_and_rebuild(X_train, ['hum'])\n",
    "result"
   ]
  },
  {
   "cell_type": "code",
   "execution_count": 67,
   "id": "2da19eea",
   "metadata": {},
   "outputs": [
    {
     "data": {
      "text/html": [
       "<div>\n",
       "<style scoped>\n",
       "    .dataframe tbody tr th:only-of-type {\n",
       "        vertical-align: middle;\n",
       "    }\n",
       "\n",
       "    .dataframe tbody tr th {\n",
       "        vertical-align: top;\n",
       "    }\n",
       "\n",
       "    .dataframe thead th {\n",
       "        text-align: right;\n",
       "    }\n",
       "</style>\n",
       "<table border=\"1\" class=\"dataframe\">\n",
       "  <thead>\n",
       "    <tr style=\"text-align: right;\">\n",
       "      <th></th>\n",
       "      <th>features</th>\n",
       "      <th>VIF</th>\n",
       "    </tr>\n",
       "  </thead>\n",
       "  <tbody>\n",
       "    <tr>\n",
       "      <th>1</th>\n",
       "      <td>windspeed</td>\n",
       "      <td>5.08</td>\n",
       "    </tr>\n",
       "    <tr>\n",
       "      <th>0</th>\n",
       "      <td>workingday</td>\n",
       "      <td>3.81</td>\n",
       "    </tr>\n",
       "    <tr>\n",
       "      <th>3</th>\n",
       "      <td>season_summer</td>\n",
       "      <td>3.26</td>\n",
       "    </tr>\n",
       "    <tr>\n",
       "      <th>4</th>\n",
       "      <td>season_winter</td>\n",
       "      <td>2.95</td>\n",
       "    </tr>\n",
       "    <tr>\n",
       "      <th>2</th>\n",
       "      <td>season_spring</td>\n",
       "      <td>2.65</td>\n",
       "    </tr>\n",
       "    <tr>\n",
       "      <th>15</th>\n",
       "      <td>weathersit_partly_cloudy</td>\n",
       "      <td>2.59</td>\n",
       "    </tr>\n",
       "    <tr>\n",
       "      <th>5</th>\n",
       "      <td>yr_2019</td>\n",
       "      <td>1.98</td>\n",
       "    </tr>\n",
       "    <tr>\n",
       "      <th>10</th>\n",
       "      <td>mnth_may</td>\n",
       "      <td>1.75</td>\n",
       "    </tr>\n",
       "    <tr>\n",
       "      <th>11</th>\n",
       "      <td>mnth_nov</td>\n",
       "      <td>1.67</td>\n",
       "    </tr>\n",
       "    <tr>\n",
       "      <th>13</th>\n",
       "      <td>weekday_saturday</td>\n",
       "      <td>1.60</td>\n",
       "    </tr>\n",
       "    <tr>\n",
       "      <th>6</th>\n",
       "      <td>mnth_aug</td>\n",
       "      <td>1.47</td>\n",
       "    </tr>\n",
       "    <tr>\n",
       "      <th>7</th>\n",
       "      <td>mnth_dec</td>\n",
       "      <td>1.36</td>\n",
       "    </tr>\n",
       "    <tr>\n",
       "      <th>8</th>\n",
       "      <td>mnth_june</td>\n",
       "      <td>1.36</td>\n",
       "    </tr>\n",
       "    <tr>\n",
       "      <th>9</th>\n",
       "      <td>mnth_mar</td>\n",
       "      <td>1.32</td>\n",
       "    </tr>\n",
       "    <tr>\n",
       "      <th>12</th>\n",
       "      <td>mnth_sept</td>\n",
       "      <td>1.24</td>\n",
       "    </tr>\n",
       "    <tr>\n",
       "      <th>14</th>\n",
       "      <td>weathersit_light_rain_or_snow</td>\n",
       "      <td>1.14</td>\n",
       "    </tr>\n",
       "  </tbody>\n",
       "</table>\n",
       "</div>"
      ],
      "text/plain": [
       "                         features   VIF\n",
       "1                       windspeed  5.08\n",
       "0                      workingday  3.81\n",
       "3                   season_summer  3.26\n",
       "4                   season_winter  2.95\n",
       "2                   season_spring  2.65\n",
       "15       weathersit_partly_cloudy  2.59\n",
       "5                         yr_2019  1.98\n",
       "10                       mnth_may  1.75\n",
       "11                       mnth_nov  1.67\n",
       "13               weekday_saturday  1.60\n",
       "6                        mnth_aug  1.47\n",
       "7                        mnth_dec  1.36\n",
       "8                       mnth_june  1.36\n",
       "9                        mnth_mar  1.32\n",
       "12                      mnth_sept  1.24\n",
       "14  weathersit_light_rain_or_snow  1.14"
      ]
     },
     "execution_count": 67,
     "metadata": {},
     "output_type": "execute_result"
    }
   ],
   "source": [
    "check_vif(X_train)"
   ]
  },
  {
   "cell_type": "code",
   "execution_count": 68,
   "id": "33d884bc",
   "metadata": {},
   "outputs": [
    {
     "data": {
      "text/html": [
       "<table class=\"simpletable\">\n",
       "<caption>OLS Regression Results</caption>\n",
       "<tr>\n",
       "  <th>Dep. Variable:</th>           <td>cnt</td>       <th>  R-squared:         </th> <td>   0.806</td> \n",
       "</tr>\n",
       "<tr>\n",
       "  <th>Model:</th>                   <td>OLS</td>       <th>  Adj. R-squared:    </th> <td>   0.801</td> \n",
       "</tr>\n",
       "<tr>\n",
       "  <th>Method:</th>             <td>Least Squares</td>  <th>  F-statistic:       </th> <td>   156.5</td> \n",
       "</tr>\n",
       "<tr>\n",
       "  <th>Date:</th>             <td>Wed, 13 Jul 2022</td> <th>  Prob (F-statistic):</th> <td>5.48e-190</td>\n",
       "</tr>\n",
       "<tr>\n",
       "  <th>Time:</th>                 <td>21:44:26</td>     <th>  Log-Likelihood:    </th> <td> -4755.6</td> \n",
       "</tr>\n",
       "<tr>\n",
       "  <th>No. Observations:</th>      <td>   582</td>      <th>  AIC:               </th> <td>   9543.</td> \n",
       "</tr>\n",
       "<tr>\n",
       "  <th>Df Residuals:</th>          <td>   566</td>      <th>  BIC:               </th> <td>   9613.</td> \n",
       "</tr>\n",
       "<tr>\n",
       "  <th>Df Model:</th>              <td>    15</td>      <th>                     </th>     <td> </td>    \n",
       "</tr>\n",
       "<tr>\n",
       "  <th>Covariance Type:</th>      <td>nonrobust</td>    <th>                     </th>     <td> </td>    \n",
       "</tr>\n",
       "</table>\n",
       "<table class=\"simpletable\">\n",
       "<tr>\n",
       "                <td></td>                   <th>coef</th>     <th>std err</th>      <th>t</th>      <th>P>|t|</th>  <th>[0.025</th>    <th>0.975]</th>  \n",
       "</tr>\n",
       "<tr>\n",
       "  <th>const</th>                         <td> 3870.2331</td> <td>  151.649</td> <td>   25.521</td> <td> 0.000</td> <td> 3572.369</td> <td> 4168.098</td>\n",
       "</tr>\n",
       "<tr>\n",
       "  <th>workingday</th>                    <td>  399.7249</td> <td>   96.400</td> <td>    4.147</td> <td> 0.000</td> <td>  210.379</td> <td>  589.070</td>\n",
       "</tr>\n",
       "<tr>\n",
       "  <th>windspeed</th>                     <td>-1021.6690</td> <td>  180.934</td> <td>   -5.647</td> <td> 0.000</td> <td>-1377.054</td> <td> -666.284</td>\n",
       "</tr>\n",
       "<tr>\n",
       "  <th>season_spring</th>                 <td>-2549.5405</td> <td>  109.349</td> <td>  -23.316</td> <td> 0.000</td> <td>-2764.320</td> <td>-2334.761</td>\n",
       "</tr>\n",
       "<tr>\n",
       "  <th>season_summer</th>                 <td> -685.1178</td> <td>  124.743</td> <td>   -5.492</td> <td> 0.000</td> <td> -930.133</td> <td> -440.102</td>\n",
       "</tr>\n",
       "<tr>\n",
       "  <th>yr_2019</th>                       <td> 2139.8480</td> <td>   72.574</td> <td>   29.485</td> <td> 0.000</td> <td> 1997.301</td> <td> 2282.395</td>\n",
       "</tr>\n",
       "<tr>\n",
       "  <th>mnth_aug</th>                      <td>  245.8310</td> <td>  145.983</td> <td>    1.684</td> <td> 0.093</td> <td>  -40.904</td> <td>  532.566</td>\n",
       "</tr>\n",
       "<tr>\n",
       "  <th>mnth_dec</th>                      <td> -794.2694</td> <td>  137.350</td> <td>   -5.783</td> <td> 0.000</td> <td>-1064.047</td> <td> -524.492</td>\n",
       "</tr>\n",
       "<tr>\n",
       "  <th>mnth_june</th>                     <td>  793.2723</td> <td>  152.174</td> <td>    5.213</td> <td> 0.000</td> <td>  494.377</td> <td> 1092.167</td>\n",
       "</tr>\n",
       "<tr>\n",
       "  <th>mnth_mar</th>                      <td>  478.0172</td> <td>  141.184</td> <td>    3.386</td> <td> 0.001</td> <td>  200.708</td> <td>  755.326</td>\n",
       "</tr>\n",
       "<tr>\n",
       "  <th>mnth_may</th>                      <td>  798.8343</td> <td>  161.195</td> <td>    4.956</td> <td> 0.000</td> <td>  482.221</td> <td> 1115.448</td>\n",
       "</tr>\n",
       "<tr>\n",
       "  <th>mnth_nov</th>                      <td> -955.2490</td> <td>  147.434</td> <td>   -6.479</td> <td> 0.000</td> <td>-1244.834</td> <td> -665.664</td>\n",
       "</tr>\n",
       "<tr>\n",
       "  <th>mnth_sept</th>                     <td>  625.2786</td> <td>  152.436</td> <td>    4.102</td> <td> 0.000</td> <td>  325.869</td> <td>  924.689</td>\n",
       "</tr>\n",
       "<tr>\n",
       "  <th>weekday_saturday</th>              <td>  472.3852</td> <td>  128.408</td> <td>    3.679</td> <td> 0.000</td> <td>  220.171</td> <td>  724.600</td>\n",
       "</tr>\n",
       "<tr>\n",
       "  <th>weathersit_light_rain_or_snow</th> <td>-1927.5321</td> <td>  239.168</td> <td>   -8.059</td> <td> 0.000</td> <td>-2397.297</td> <td>-1457.767</td>\n",
       "</tr>\n",
       "<tr>\n",
       "  <th>weathersit_partly_cloudy</th>      <td>  736.1042</td> <td>   77.673</td> <td>    9.477</td> <td> 0.000</td> <td>  583.541</td> <td>  888.668</td>\n",
       "</tr>\n",
       "</table>\n",
       "<table class=\"simpletable\">\n",
       "<tr>\n",
       "  <th>Omnibus:</th>       <td>72.000</td> <th>  Durbin-Watson:     </th> <td>   1.965</td>\n",
       "</tr>\n",
       "<tr>\n",
       "  <th>Prob(Omnibus):</th> <td> 0.000</td> <th>  Jarque-Bera (JB):  </th> <td> 225.116</td>\n",
       "</tr>\n",
       "<tr>\n",
       "  <th>Skew:</th>          <td>-0.573</td> <th>  Prob(JB):          </th> <td>1.31e-49</td>\n",
       "</tr>\n",
       "<tr>\n",
       "  <th>Kurtosis:</th>      <td> 5.823</td> <th>  Cond. No.          </th> <td>    11.1</td>\n",
       "</tr>\n",
       "</table><br/><br/>Notes:<br/>[1] Standard Errors assume that the covariance matrix of the errors is correctly specified."
      ],
      "text/plain": [
       "<class 'statsmodels.iolib.summary.Summary'>\n",
       "\"\"\"\n",
       "                            OLS Regression Results                            \n",
       "==============================================================================\n",
       "Dep. Variable:                    cnt   R-squared:                       0.806\n",
       "Model:                            OLS   Adj. R-squared:                  0.801\n",
       "Method:                 Least Squares   F-statistic:                     156.5\n",
       "Date:                Wed, 13 Jul 2022   Prob (F-statistic):          5.48e-190\n",
       "Time:                        21:44:26   Log-Likelihood:                -4755.6\n",
       "No. Observations:                 582   AIC:                             9543.\n",
       "Df Residuals:                     566   BIC:                             9613.\n",
       "Df Model:                          15                                         \n",
       "Covariance Type:            nonrobust                                         \n",
       "=================================================================================================\n",
       "                                    coef    std err          t      P>|t|      [0.025      0.975]\n",
       "-------------------------------------------------------------------------------------------------\n",
       "const                          3870.2331    151.649     25.521      0.000    3572.369    4168.098\n",
       "workingday                      399.7249     96.400      4.147      0.000     210.379     589.070\n",
       "windspeed                     -1021.6690    180.934     -5.647      0.000   -1377.054    -666.284\n",
       "season_spring                 -2549.5405    109.349    -23.316      0.000   -2764.320   -2334.761\n",
       "season_summer                  -685.1178    124.743     -5.492      0.000    -930.133    -440.102\n",
       "yr_2019                        2139.8480     72.574     29.485      0.000    1997.301    2282.395\n",
       "mnth_aug                        245.8310    145.983      1.684      0.093     -40.904     532.566\n",
       "mnth_dec                       -794.2694    137.350     -5.783      0.000   -1064.047    -524.492\n",
       "mnth_june                       793.2723    152.174      5.213      0.000     494.377    1092.167\n",
       "mnth_mar                        478.0172    141.184      3.386      0.001     200.708     755.326\n",
       "mnth_may                        798.8343    161.195      4.956      0.000     482.221    1115.448\n",
       "mnth_nov                       -955.2490    147.434     -6.479      0.000   -1244.834    -665.664\n",
       "mnth_sept                       625.2786    152.436      4.102      0.000     325.869     924.689\n",
       "weekday_saturday                472.3852    128.408      3.679      0.000     220.171     724.600\n",
       "weathersit_light_rain_or_snow -1927.5321    239.168     -8.059      0.000   -2397.297   -1457.767\n",
       "weathersit_partly_cloudy        736.1042     77.673      9.477      0.000     583.541     888.668\n",
       "==============================================================================\n",
       "Omnibus:                       72.000   Durbin-Watson:                   1.965\n",
       "Prob(Omnibus):                  0.000   Jarque-Bera (JB):              225.116\n",
       "Skew:                          -0.573   Prob(JB):                     1.31e-49\n",
       "Kurtosis:                       5.823   Cond. No.                         11.1\n",
       "==============================================================================\n",
       "\n",
       "Notes:\n",
       "[1] Standard Errors assume that the covariance matrix of the errors is correctly specified.\n",
       "\"\"\""
      ]
     },
     "execution_count": 68,
     "metadata": {},
     "output_type": "execute_result"
    }
   ],
   "source": [
    "result, X_train,lm = drop_column_and_rebuild(X_train, 'season_winter')\n",
    "result"
   ]
  },
  {
   "cell_type": "code",
   "execution_count": 69,
   "id": "5d1fb2e5",
   "metadata": {},
   "outputs": [
    {
     "data": {
      "text/html": [
       "<div>\n",
       "<style scoped>\n",
       "    .dataframe tbody tr th:only-of-type {\n",
       "        vertical-align: middle;\n",
       "    }\n",
       "\n",
       "    .dataframe tbody tr th {\n",
       "        vertical-align: top;\n",
       "    }\n",
       "\n",
       "    .dataframe thead th {\n",
       "        text-align: right;\n",
       "    }\n",
       "</style>\n",
       "<table border=\"1\" class=\"dataframe\">\n",
       "  <thead>\n",
       "    <tr style=\"text-align: right;\">\n",
       "      <th></th>\n",
       "      <th>features</th>\n",
       "      <th>VIF</th>\n",
       "    </tr>\n",
       "  </thead>\n",
       "  <tbody>\n",
       "    <tr>\n",
       "      <th>1</th>\n",
       "      <td>windspeed</td>\n",
       "      <td>4.79</td>\n",
       "    </tr>\n",
       "    <tr>\n",
       "      <th>0</th>\n",
       "      <td>workingday</td>\n",
       "      <td>3.51</td>\n",
       "    </tr>\n",
       "    <tr>\n",
       "      <th>3</th>\n",
       "      <td>season_summer</td>\n",
       "      <td>2.89</td>\n",
       "    </tr>\n",
       "    <tr>\n",
       "      <th>14</th>\n",
       "      <td>weathersit_partly_cloudy</td>\n",
       "      <td>2.57</td>\n",
       "    </tr>\n",
       "    <tr>\n",
       "      <th>2</th>\n",
       "      <td>season_spring</td>\n",
       "      <td>2.07</td>\n",
       "    </tr>\n",
       "    <tr>\n",
       "      <th>4</th>\n",
       "      <td>yr_2019</td>\n",
       "      <td>1.93</td>\n",
       "    </tr>\n",
       "    <tr>\n",
       "      <th>9</th>\n",
       "      <td>mnth_may</td>\n",
       "      <td>1.75</td>\n",
       "    </tr>\n",
       "    <tr>\n",
       "      <th>12</th>\n",
       "      <td>weekday_saturday</td>\n",
       "      <td>1.55</td>\n",
       "    </tr>\n",
       "    <tr>\n",
       "      <th>7</th>\n",
       "      <td>mnth_june</td>\n",
       "      <td>1.34</td>\n",
       "    </tr>\n",
       "    <tr>\n",
       "      <th>5</th>\n",
       "      <td>mnth_aug</td>\n",
       "      <td>1.32</td>\n",
       "    </tr>\n",
       "    <tr>\n",
       "      <th>8</th>\n",
       "      <td>mnth_mar</td>\n",
       "      <td>1.32</td>\n",
       "    </tr>\n",
       "    <tr>\n",
       "      <th>10</th>\n",
       "      <td>mnth_nov</td>\n",
       "      <td>1.29</td>\n",
       "    </tr>\n",
       "    <tr>\n",
       "      <th>11</th>\n",
       "      <td>mnth_sept</td>\n",
       "      <td>1.23</td>\n",
       "    </tr>\n",
       "    <tr>\n",
       "      <th>6</th>\n",
       "      <td>mnth_dec</td>\n",
       "      <td>1.18</td>\n",
       "    </tr>\n",
       "    <tr>\n",
       "      <th>13</th>\n",
       "      <td>weathersit_light_rain_or_snow</td>\n",
       "      <td>1.13</td>\n",
       "    </tr>\n",
       "  </tbody>\n",
       "</table>\n",
       "</div>"
      ],
      "text/plain": [
       "                         features   VIF\n",
       "1                       windspeed  4.79\n",
       "0                      workingday  3.51\n",
       "3                   season_summer  2.89\n",
       "14       weathersit_partly_cloudy  2.57\n",
       "2                   season_spring  2.07\n",
       "4                         yr_2019  1.93\n",
       "9                        mnth_may  1.75\n",
       "12               weekday_saturday  1.55\n",
       "7                       mnth_june  1.34\n",
       "5                        mnth_aug  1.32\n",
       "8                        mnth_mar  1.32\n",
       "10                       mnth_nov  1.29\n",
       "11                      mnth_sept  1.23\n",
       "6                        mnth_dec  1.18\n",
       "13  weathersit_light_rain_or_snow  1.13"
      ]
     },
     "execution_count": 69,
     "metadata": {},
     "output_type": "execute_result"
    }
   ],
   "source": [
    "check_vif(X_train)"
   ]
  },
  {
   "cell_type": "code",
   "execution_count": 70,
   "id": "9eb4b107",
   "metadata": {},
   "outputs": [
    {
     "data": {
      "text/html": [
       "<table class=\"simpletable\">\n",
       "<caption>OLS Regression Results</caption>\n",
       "<tr>\n",
       "  <th>Dep. Variable:</th>           <td>cnt</td>       <th>  R-squared:         </th> <td>   0.805</td> \n",
       "</tr>\n",
       "<tr>\n",
       "  <th>Model:</th>                   <td>OLS</td>       <th>  Adj. R-squared:    </th> <td>   0.800</td> \n",
       "</tr>\n",
       "<tr>\n",
       "  <th>Method:</th>             <td>Least Squares</td>  <th>  F-statistic:       </th> <td>   166.9</td> \n",
       "</tr>\n",
       "<tr>\n",
       "  <th>Date:</th>             <td>Wed, 13 Jul 2022</td> <th>  Prob (F-statistic):</th> <td>1.70e-190</td>\n",
       "</tr>\n",
       "<tr>\n",
       "  <th>Time:</th>                 <td>21:44:46</td>     <th>  Log-Likelihood:    </th> <td> -4757.1</td> \n",
       "</tr>\n",
       "<tr>\n",
       "  <th>No. Observations:</th>      <td>   582</td>      <th>  AIC:               </th> <td>   9544.</td> \n",
       "</tr>\n",
       "<tr>\n",
       "  <th>Df Residuals:</th>          <td>   567</td>      <th>  BIC:               </th> <td>   9610.</td> \n",
       "</tr>\n",
       "<tr>\n",
       "  <th>Df Model:</th>              <td>    14</td>      <th>                     </th>     <td> </td>    \n",
       "</tr>\n",
       "<tr>\n",
       "  <th>Covariance Type:</th>      <td>nonrobust</td>    <th>                     </th>     <td> </td>    \n",
       "</tr>\n",
       "</table>\n",
       "<table class=\"simpletable\">\n",
       "<tr>\n",
       "                <td></td>                   <th>coef</th>     <th>std err</th>      <th>t</th>      <th>P>|t|</th>  <th>[0.025</th>    <th>0.975]</th>  \n",
       "</tr>\n",
       "<tr>\n",
       "  <th>const</th>                         <td> 3934.7412</td> <td>  146.969</td> <td>   26.773</td> <td> 0.000</td> <td> 3646.071</td> <td> 4223.411</td>\n",
       "</tr>\n",
       "<tr>\n",
       "  <th>workingday</th>                    <td>  405.0092</td> <td>   96.505</td> <td>    4.197</td> <td> 0.000</td> <td>  215.459</td> <td>  594.560</td>\n",
       "</tr>\n",
       "<tr>\n",
       "  <th>windspeed</th>                     <td>-1012.7778</td> <td>  181.150</td> <td>   -5.591</td> <td> 0.000</td> <td>-1368.584</td> <td> -656.971</td>\n",
       "</tr>\n",
       "<tr>\n",
       "  <th>season_spring</th>                 <td>-2613.3511</td> <td>  102.740</td> <td>  -25.437</td> <td> 0.000</td> <td>-2815.148</td> <td>-2411.554</td>\n",
       "</tr>\n",
       "<tr>\n",
       "  <th>season_summer</th>                 <td> -745.0907</td> <td>  119.744</td> <td>   -6.222</td> <td> 0.000</td> <td> -980.287</td> <td> -509.894</td>\n",
       "</tr>\n",
       "<tr>\n",
       "  <th>yr_2019</th>                       <td> 2137.8599</td> <td>   72.682</td> <td>   29.414</td> <td> 0.000</td> <td> 1995.102</td> <td> 2280.618</td>\n",
       "</tr>\n",
       "<tr>\n",
       "  <th>mnth_dec</th>                      <td> -838.5908</td> <td>  135.023</td> <td>   -6.211</td> <td> 0.000</td> <td>-1103.796</td> <td> -573.385</td>\n",
       "</tr>\n",
       "<tr>\n",
       "  <th>mnth_june</th>                     <td>  759.7351</td> <td>  151.109</td> <td>    5.028</td> <td> 0.000</td> <td>  462.933</td> <td> 1056.538</td>\n",
       "</tr>\n",
       "<tr>\n",
       "  <th>mnth_mar</th>                      <td>  468.7058</td> <td>  141.304</td> <td>    3.317</td> <td> 0.001</td> <td>  191.163</td> <td>  746.249</td>\n",
       "</tr>\n",
       "<tr>\n",
       "  <th>mnth_may</th>                      <td>  787.1163</td> <td>  161.305</td> <td>    4.880</td> <td> 0.000</td> <td>  470.287</td> <td> 1103.945</td>\n",
       "</tr>\n",
       "<tr>\n",
       "  <th>mnth_nov</th>                      <td>-1025.3291</td> <td>  141.667</td> <td>   -7.238</td> <td> 0.000</td> <td>-1303.586</td> <td> -747.072</td>\n",
       "</tr>\n",
       "<tr>\n",
       "  <th>mnth_sept</th>                     <td>  556.3704</td> <td>  147.079</td> <td>    3.783</td> <td> 0.000</td> <td>  267.484</td> <td>  845.256</td>\n",
       "</tr>\n",
       "<tr>\n",
       "  <th>weekday_saturday</th>              <td>  473.2037</td> <td>  128.615</td> <td>    3.679</td> <td> 0.000</td> <td>  220.584</td> <td>  725.823</td>\n",
       "</tr>\n",
       "<tr>\n",
       "  <th>weathersit_light_rain_or_snow</th> <td>-1963.5569</td> <td>  238.594</td> <td>   -8.230</td> <td> 0.000</td> <td>-2432.194</td> <td>-1494.920</td>\n",
       "</tr>\n",
       "<tr>\n",
       "  <th>weathersit_partly_cloudy</th>      <td>  736.8901</td> <td>   77.798</td> <td>    9.472</td> <td> 0.000</td> <td>  584.083</td> <td>  889.697</td>\n",
       "</tr>\n",
       "</table>\n",
       "<table class=\"simpletable\">\n",
       "<tr>\n",
       "  <th>Omnibus:</th>       <td>75.145</td> <th>  Durbin-Watson:     </th> <td>   1.971</td>\n",
       "</tr>\n",
       "<tr>\n",
       "  <th>Prob(Omnibus):</th> <td> 0.000</td> <th>  Jarque-Bera (JB):  </th> <td> 237.068</td>\n",
       "</tr>\n",
       "<tr>\n",
       "  <th>Skew:</th>          <td>-0.597</td> <th>  Prob(JB):          </th> <td>3.32e-52</td>\n",
       "</tr>\n",
       "<tr>\n",
       "  <th>Kurtosis:</th>      <td> 5.890</td> <th>  Cond. No.          </th> <td>    10.9</td>\n",
       "</tr>\n",
       "</table><br/><br/>Notes:<br/>[1] Standard Errors assume that the covariance matrix of the errors is correctly specified."
      ],
      "text/plain": [
       "<class 'statsmodels.iolib.summary.Summary'>\n",
       "\"\"\"\n",
       "                            OLS Regression Results                            \n",
       "==============================================================================\n",
       "Dep. Variable:                    cnt   R-squared:                       0.805\n",
       "Model:                            OLS   Adj. R-squared:                  0.800\n",
       "Method:                 Least Squares   F-statistic:                     166.9\n",
       "Date:                Wed, 13 Jul 2022   Prob (F-statistic):          1.70e-190\n",
       "Time:                        21:44:46   Log-Likelihood:                -4757.1\n",
       "No. Observations:                 582   AIC:                             9544.\n",
       "Df Residuals:                     567   BIC:                             9610.\n",
       "Df Model:                          14                                         \n",
       "Covariance Type:            nonrobust                                         \n",
       "=================================================================================================\n",
       "                                    coef    std err          t      P>|t|      [0.025      0.975]\n",
       "-------------------------------------------------------------------------------------------------\n",
       "const                          3934.7412    146.969     26.773      0.000    3646.071    4223.411\n",
       "workingday                      405.0092     96.505      4.197      0.000     215.459     594.560\n",
       "windspeed                     -1012.7778    181.150     -5.591      0.000   -1368.584    -656.971\n",
       "season_spring                 -2613.3511    102.740    -25.437      0.000   -2815.148   -2411.554\n",
       "season_summer                  -745.0907    119.744     -6.222      0.000    -980.287    -509.894\n",
       "yr_2019                        2137.8599     72.682     29.414      0.000    1995.102    2280.618\n",
       "mnth_dec                       -838.5908    135.023     -6.211      0.000   -1103.796    -573.385\n",
       "mnth_june                       759.7351    151.109      5.028      0.000     462.933    1056.538\n",
       "mnth_mar                        468.7058    141.304      3.317      0.001     191.163     746.249\n",
       "mnth_may                        787.1163    161.305      4.880      0.000     470.287    1103.945\n",
       "mnth_nov                      -1025.3291    141.667     -7.238      0.000   -1303.586    -747.072\n",
       "mnth_sept                       556.3704    147.079      3.783      0.000     267.484     845.256\n",
       "weekday_saturday                473.2037    128.615      3.679      0.000     220.584     725.823\n",
       "weathersit_light_rain_or_snow -1963.5569    238.594     -8.230      0.000   -2432.194   -1494.920\n",
       "weathersit_partly_cloudy        736.8901     77.798      9.472      0.000     584.083     889.697\n",
       "==============================================================================\n",
       "Omnibus:                       75.145   Durbin-Watson:                   1.971\n",
       "Prob(Omnibus):                  0.000   Jarque-Bera (JB):              237.068\n",
       "Skew:                          -0.597   Prob(JB):                     3.32e-52\n",
       "Kurtosis:                       5.890   Cond. No.                         10.9\n",
       "==============================================================================\n",
       "\n",
       "Notes:\n",
       "[1] Standard Errors assume that the covariance matrix of the errors is correctly specified.\n",
       "\"\"\""
      ]
     },
     "execution_count": 70,
     "metadata": {},
     "output_type": "execute_result"
    }
   ],
   "source": [
    "result, X_train,lm = drop_column_and_rebuild(X_train, ['mnth_aug'])\n",
    "result"
   ]
  },
  {
   "cell_type": "markdown",
   "id": "3c327962",
   "metadata": {},
   "source": [
    "## Residual Analysis"
   ]
  },
  {
   "cell_type": "code",
   "execution_count": 71,
   "id": "0e808b60",
   "metadata": {},
   "outputs": [
    {
     "data": {
      "text/plain": [
       "Index(['const', 'workingday', 'windspeed', 'season_spring', 'season_summer',\n",
       "       'yr_2019', 'mnth_dec', 'mnth_june', 'mnth_mar', 'mnth_may', 'mnth_nov',\n",
       "       'mnth_sept', 'weekday_saturday', 'weathersit_light_rain_or_snow',\n",
       "       'weathersit_partly_cloudy'],\n",
       "      dtype='object')"
      ]
     },
     "execution_count": 71,
     "metadata": {},
     "output_type": "execute_result"
    }
   ],
   "source": [
    "X_train.columns"
   ]
  },
  {
   "cell_type": "code",
   "execution_count": 72,
   "id": "adee68b6",
   "metadata": {},
   "outputs": [
    {
     "data": {
      "text/plain": [
       "(582, 15)"
      ]
     },
     "execution_count": 72,
     "metadata": {},
     "output_type": "execute_result"
    }
   ],
   "source": [
    "X_train.shape"
   ]
  },
  {
   "cell_type": "code",
   "execution_count": 73,
   "id": "909dfff5",
   "metadata": {},
   "outputs": [],
   "source": [
    "y_train_pred = lm.predict(X_train)"
   ]
  },
  {
   "cell_type": "code",
   "execution_count": 74,
   "id": "a364e5b6",
   "metadata": {},
   "outputs": [],
   "source": [
    "residuals = y_train['cnt']-y_train_pred"
   ]
  },
  {
   "cell_type": "code",
   "execution_count": 75,
   "id": "eb4d1e78",
   "metadata": {},
   "outputs": [
    {
     "name": "stderr",
     "output_type": "stream",
     "text": [
      "C:\\Users\\sagar.ambalam\\Anaconda3\\lib\\site-packages\\seaborn\\distributions.py:2619: FutureWarning: `distplot` is a deprecated function and will be removed in a future version. Please adapt your code to use either `displot` (a figure-level function with similar flexibility) or `histplot` (an axes-level function for histograms).\n",
      "  warnings.warn(msg, FutureWarning)\n"
     ]
    },
    {
     "data": {
      "text/plain": [
       "Text(0.5, 0, 'Errors')"
      ]
     },
     "execution_count": 75,
     "metadata": {},
     "output_type": "execute_result"
    },
    {
     "data": {
      "image/png": "[encoded data removed]",
      "text/plain": [
       "<Figure size 432x288 with 1 Axes>"
      ]
     },
     "metadata": {
      "needs_background": "light"
     },
     "output_type": "display_data"
    }
   ],
   "source": [
    "fig = plt.figure()\n",
    "sns.distplot((residuals), bins = 12)\n",
    "fig.suptitle('Error Terms', fontsize = 20)  # Plot heading \n",
    "plt.xlabel('Errors', fontsize = 18)  # X-label"
   ]
  },
  {
   "cell_type": "markdown",
   "id": "0b068e13",
   "metadata": {},
   "source": [
    "- As the error terms are normally distributed, our assumption has been validated."
   ]
  },
  {
   "cell_type": "markdown",
   "id": "b1ec8e3a",
   "metadata": {},
   "source": [
    "### Predicting on test set"
   ]
  },
  {
   "cell_type": "code",
   "execution_count": 76,
   "id": "237129bc",
   "metadata": {},
   "outputs": [
    {
     "name": "stderr",
     "output_type": "stream",
     "text": [
      "C:\\Users\\sagar.ambalam\\Anaconda3\\lib\\site-packages\\pandas\\core\\frame.py:3678: SettingWithCopyWarning: \n",
      "A value is trying to be set on a copy of a slice from a DataFrame.\n",
      "Try using .loc[row_indexer,col_indexer] = value instead\n",
      "\n",
      "See the caveats in the documentation: https://pandas.pydata.org/pandas-docs/stable/user_guide/indexing.html#returning-a-view-versus-a-copy\n",
      "  self[col] = igetitem(value, i)\n"
     ]
    }
   ],
   "source": [
    "var_list = ['atemp', 'hum', 'windspeed']\n",
    "\n",
    "X_test[var_list] = scaler.transform(X_test[var_list])"
   ]
  },
  {
   "cell_type": "code",
   "execution_count": 77,
   "id": "d19e4c9c",
   "metadata": {},
   "outputs": [
    {
     "data": {
      "text/plain": [
       "Index(['const', 'workingday', 'windspeed', 'season_spring', 'season_summer',\n",
       "       'yr_2019', 'mnth_dec', 'mnth_june', 'mnth_mar', 'mnth_may', 'mnth_nov',\n",
       "       'mnth_sept', 'weekday_saturday', 'weathersit_light_rain_or_snow',\n",
       "       'weathersit_partly_cloudy'],\n",
       "      dtype='object')"
      ]
     },
     "execution_count": 77,
     "metadata": {},
     "output_type": "execute_result"
    }
   ],
   "source": [
    "X_train.columns"
   ]
  },
  {
   "cell_type": "code",
   "execution_count": 78,
   "id": "c865e99d",
   "metadata": {},
   "outputs": [],
   "source": [
    "X_test_new = X_test.loc[:,['workingday', 'windspeed', 'season_spring', 'season_summer',\n",
    "       'yr_2019', 'mnth_dec', 'mnth_june', 'mnth_mar', 'mnth_may', 'mnth_nov',\n",
    "       'mnth_sept', 'weekday_saturday', 'weathersit_light_rain_or_snow',\n",
    "       'weathersit_partly_cloudy']]"
   ]
  },
  {
   "cell_type": "code",
   "execution_count": 79,
   "id": "0b4d420d",
   "metadata": {},
   "outputs": [
    {
     "name": "stderr",
     "output_type": "stream",
     "text": [
      "C:\\Users\\sagar.ambalam\\Anaconda3\\lib\\site-packages\\statsmodels\\tsa\\tsatools.py:142: FutureWarning: In a future version of pandas all arguments of concat except for the argument 'objs' will be keyword-only\n",
      "  x = pd.concat(x[::order], 1)\n"
     ]
    }
   ],
   "source": [
    "X_test_new = sm.add_constant(X_test_new)"
   ]
  },
  {
   "cell_type": "code",
   "execution_count": 80,
   "id": "25704138",
   "metadata": {},
   "outputs": [],
   "source": [
    "y_pred = lm.predict(X_test_new)"
   ]
  },
  {
   "cell_type": "code",
   "execution_count": 81,
   "id": "8b017e5e",
   "metadata": {},
   "outputs": [
    {
     "data": {
      "text/plain": [
       "0.7765771554327958"
      ]
     },
     "execution_count": 81,
     "metadata": {},
     "output_type": "execute_result"
    }
   ],
   "source": [
    "r2_score(y_test,y_pred)"
   ]
  },
  {
   "cell_type": "markdown",
   "id": "547abffd",
   "metadata": {},
   "source": [
    "---------------"
   ]
  },
  {
   "cell_type": "markdown",
   "id": "6a40c36f",
   "metadata": {},
   "source": [
    "### Final Model Summary"
   ]
  },
  {
   "cell_type": "code",
   "execution_count": 82,
   "id": "53cfc61c",
   "metadata": {},
   "outputs": [
    {
     "data": {
      "text/html": [
       "<table class=\"simpletable\">\n",
       "<caption>OLS Regression Results</caption>\n",
       "<tr>\n",
       "  <th>Dep. Variable:</th>           <td>cnt</td>       <th>  R-squared:         </th> <td>   0.805</td> \n",
       "</tr>\n",
       "<tr>\n",
       "  <th>Model:</th>                   <td>OLS</td>       <th>  Adj. R-squared:    </th> <td>   0.800</td> \n",
       "</tr>\n",
       "<tr>\n",
       "  <th>Method:</th>             <td>Least Squares</td>  <th>  F-statistic:       </th> <td>   166.9</td> \n",
       "</tr>\n",
       "<tr>\n",
       "  <th>Date:</th>             <td>Wed, 13 Jul 2022</td> <th>  Prob (F-statistic):</th> <td>1.70e-190</td>\n",
       "</tr>\n",
       "<tr>\n",
       "  <th>Time:</th>                 <td>21:48:45</td>     <th>  Log-Likelihood:    </th> <td> -4757.1</td> \n",
       "</tr>\n",
       "<tr>\n",
       "  <th>No. Observations:</th>      <td>   582</td>      <th>  AIC:               </th> <td>   9544.</td> \n",
       "</tr>\n",
       "<tr>\n",
       "  <th>Df Residuals:</th>          <td>   567</td>      <th>  BIC:               </th> <td>   9610.</td> \n",
       "</tr>\n",
       "<tr>\n",
       "  <th>Df Model:</th>              <td>    14</td>      <th>                     </th>     <td> </td>    \n",
       "</tr>\n",
       "<tr>\n",
       "  <th>Covariance Type:</th>      <td>nonrobust</td>    <th>                     </th>     <td> </td>    \n",
       "</tr>\n",
       "</table>\n",
       "<table class=\"simpletable\">\n",
       "<tr>\n",
       "                <td></td>                   <th>coef</th>     <th>std err</th>      <th>t</th>      <th>P>|t|</th>  <th>[0.025</th>    <th>0.975]</th>  \n",
       "</tr>\n",
       "<tr>\n",
       "  <th>const</th>                         <td> 3934.7412</td> <td>  146.969</td> <td>   26.773</td> <td> 0.000</td> <td> 3646.071</td> <td> 4223.411</td>\n",
       "</tr>\n",
       "<tr>\n",
       "  <th>workingday</th>                    <td>  405.0092</td> <td>   96.505</td> <td>    4.197</td> <td> 0.000</td> <td>  215.459</td> <td>  594.560</td>\n",
       "</tr>\n",
       "<tr>\n",
       "  <th>windspeed</th>                     <td>-1012.7778</td> <td>  181.150</td> <td>   -5.591</td> <td> 0.000</td> <td>-1368.584</td> <td> -656.971</td>\n",
       "</tr>\n",
       "<tr>\n",
       "  <th>season_spring</th>                 <td>-2613.3511</td> <td>  102.740</td> <td>  -25.437</td> <td> 0.000</td> <td>-2815.148</td> <td>-2411.554</td>\n",
       "</tr>\n",
       "<tr>\n",
       "  <th>season_summer</th>                 <td> -745.0907</td> <td>  119.744</td> <td>   -6.222</td> <td> 0.000</td> <td> -980.287</td> <td> -509.894</td>\n",
       "</tr>\n",
       "<tr>\n",
       "  <th>yr_2019</th>                       <td> 2137.8599</td> <td>   72.682</td> <td>   29.414</td> <td> 0.000</td> <td> 1995.102</td> <td> 2280.618</td>\n",
       "</tr>\n",
       "<tr>\n",
       "  <th>mnth_dec</th>                      <td> -838.5908</td> <td>  135.023</td> <td>   -6.211</td> <td> 0.000</td> <td>-1103.796</td> <td> -573.385</td>\n",
       "</tr>\n",
       "<tr>\n",
       "  <th>mnth_june</th>                     <td>  759.7351</td> <td>  151.109</td> <td>    5.028</td> <td> 0.000</td> <td>  462.933</td> <td> 1056.538</td>\n",
       "</tr>\n",
       "<tr>\n",
       "  <th>mnth_mar</th>                      <td>  468.7058</td> <td>  141.304</td> <td>    3.317</td> <td> 0.001</td> <td>  191.163</td> <td>  746.249</td>\n",
       "</tr>\n",
       "<tr>\n",
       "  <th>mnth_may</th>                      <td>  787.1163</td> <td>  161.305</td> <td>    4.880</td> <td> 0.000</td> <td>  470.287</td> <td> 1103.945</td>\n",
       "</tr>\n",
       "<tr>\n",
       "  <th>mnth_nov</th>                      <td>-1025.3291</td> <td>  141.667</td> <td>   -7.238</td> <td> 0.000</td> <td>-1303.586</td> <td> -747.072</td>\n",
       "</tr>\n",
       "<tr>\n",
       "  <th>mnth_sept</th>                     <td>  556.3704</td> <td>  147.079</td> <td>    3.783</td> <td> 0.000</td> <td>  267.484</td> <td>  845.256</td>\n",
       "</tr>\n",
       "<tr>\n",
       "  <th>weekday_saturday</th>              <td>  473.2037</td> <td>  128.615</td> <td>    3.679</td> <td> 0.000</td> <td>  220.584</td> <td>  725.823</td>\n",
       "</tr>\n",
       "<tr>\n",
       "  <th>weathersit_light_rain_or_snow</th> <td>-1963.5569</td> <td>  238.594</td> <td>   -8.230</td> <td> 0.000</td> <td>-2432.194</td> <td>-1494.920</td>\n",
       "</tr>\n",
       "<tr>\n",
       "  <th>weathersit_partly_cloudy</th>      <td>  736.8901</td> <td>   77.798</td> <td>    9.472</td> <td> 0.000</td> <td>  584.083</td> <td>  889.697</td>\n",
       "</tr>\n",
       "</table>\n",
       "<table class=\"simpletable\">\n",
       "<tr>\n",
       "  <th>Omnibus:</th>       <td>75.145</td> <th>  Durbin-Watson:     </th> <td>   1.971</td>\n",
       "</tr>\n",
       "<tr>\n",
       "  <th>Prob(Omnibus):</th> <td> 0.000</td> <th>  Jarque-Bera (JB):  </th> <td> 237.068</td>\n",
       "</tr>\n",
       "<tr>\n",
       "  <th>Skew:</th>          <td>-0.597</td> <th>  Prob(JB):          </th> <td>3.32e-52</td>\n",
       "</tr>\n",
       "<tr>\n",
       "  <th>Kurtosis:</th>      <td> 5.890</td> <th>  Cond. No.          </th> <td>    10.9</td>\n",
       "</tr>\n",
       "</table><br/><br/>Notes:<br/>[1] Standard Errors assume that the covariance matrix of the errors is correctly specified."
      ],
      "text/plain": [
       "<class 'statsmodels.iolib.summary.Summary'>\n",
       "\"\"\"\n",
       "                            OLS Regression Results                            \n",
       "==============================================================================\n",
       "Dep. Variable:                    cnt   R-squared:                       0.805\n",
       "Model:                            OLS   Adj. R-squared:                  0.800\n",
       "Method:                 Least Squares   F-statistic:                     166.9\n",
       "Date:                Wed, 13 Jul 2022   Prob (F-statistic):          1.70e-190\n",
       "Time:                        21:48:45   Log-Likelihood:                -4757.1\n",
       "No. Observations:                 582   AIC:                             9544.\n",
       "Df Residuals:                     567   BIC:                             9610.\n",
       "Df Model:                          14                                         \n",
       "Covariance Type:            nonrobust                                         \n",
       "=================================================================================================\n",
       "                                    coef    std err          t      P>|t|      [0.025      0.975]\n",
       "-------------------------------------------------------------------------------------------------\n",
       "const                          3934.7412    146.969     26.773      0.000    3646.071    4223.411\n",
       "workingday                      405.0092     96.505      4.197      0.000     215.459     594.560\n",
       "windspeed                     -1012.7778    181.150     -5.591      0.000   -1368.584    -656.971\n",
       "season_spring                 -2613.3511    102.740    -25.437      0.000   -2815.148   -2411.554\n",
       "season_summer                  -745.0907    119.744     -6.222      0.000    -980.287    -509.894\n",
       "yr_2019                        2137.8599     72.682     29.414      0.000    1995.102    2280.618\n",
       "mnth_dec                       -838.5908    135.023     -6.211      0.000   -1103.796    -573.385\n",
       "mnth_june                       759.7351    151.109      5.028      0.000     462.933    1056.538\n",
       "mnth_mar                        468.7058    141.304      3.317      0.001     191.163     746.249\n",
       "mnth_may                        787.1163    161.305      4.880      0.000     470.287    1103.945\n",
       "mnth_nov                      -1025.3291    141.667     -7.238      0.000   -1303.586    -747.072\n",
       "mnth_sept                       556.3704    147.079      3.783      0.000     267.484     845.256\n",
       "weekday_saturday                473.2037    128.615      3.679      0.000     220.584     725.823\n",
       "weathersit_light_rain_or_snow -1963.5569    238.594     -8.230      0.000   -2432.194   -1494.920\n",
       "weathersit_partly_cloudy        736.8901     77.798      9.472      0.000     584.083     889.697\n",
       "==============================================================================\n",
       "Omnibus:                       75.145   Durbin-Watson:                   1.971\n",
       "Prob(Omnibus):                  0.000   Jarque-Bera (JB):              237.068\n",
       "Skew:                          -0.597   Prob(JB):                     3.32e-52\n",
       "Kurtosis:                       5.890   Cond. No.                         10.9\n",
       "==============================================================================\n",
       "\n",
       "Notes:\n",
       "[1] Standard Errors assume that the covariance matrix of the errors is correctly specified.\n",
       "\"\"\""
      ]
     },
     "execution_count": 82,
     "metadata": {},
     "output_type": "execute_result"
    }
   ],
   "source": [
    "lm.summary()"
   ]
  },
  {
   "cell_type": "markdown",
   "id": "4f2f8daf",
   "metadata": {},
   "source": [
    "### Model Metrics\n",
    "- Training R-squared: 0.80\n",
    "<br>\n",
    "- Testing R-squared: 0.776"
   ]
  },
  {
   "cell_type": "markdown",
   "id": "c60ebc62",
   "metadata": {},
   "source": [
    "## Equation of best fit line\n",
    "Below is the mapping considered:\n",
    "<br>\n",
    "month = 1-Jan, 2-Feb, 3-Mar...\n",
    "<br></br>\n",
    "weekday = 0-Sunday, 1-Monday, 2-Tuesday.. \n",
    "<br></br>\n",
    "Based on the above mapping, below is the equation of the best fit line:<br>\n",
    "cnt(Counts) = 3934.7412 + 405.0092 * workingday + (-1012.7777) * windspeed + (-2613.3511) * season_spring + (-745.0907) * season_summer + 2137.8599 * yr + (-838.5908) * mnth_dec + 759.7351 * mnth_june + 468.7058 * mnth_mar + 787.1163 * mnth_may + (-1025.3291) * mnth_nov + 556.3704 * mnth_sept + 473.2037 * weekday_saturday + (-1963.5569) * weathersit_light_rain_or_snow + 736.8901 * weathersit_partly_cloudy"
   ]
  },
  {
   "cell_type": "markdown",
   "id": "0ab51c26",
   "metadata": {},
   "source": [
    "## Top Variables contributing to the demand\n",
    "<br>\n",
    "\n",
    "- Spring Season\n",
    "- Year\n",
    "- Weather being light rain or light snow\n",
    "- Windspeed\n",
    "- Month of December"
   ]
  },
  {
   "cell_type": "code",
   "execution_count": null,
   "id": "69fcd61c",
   "metadata": {},
   "outputs": [],
   "source": []
  }
 ],
 "metadata": {
  "kernelspec": {
   "display_name": "Python 3 (ipykernel)",
   "language": "python",
   "name": "python3"
  },
  "language_info": {
   "codemirror_mode": {
    "name": "ipython",
    "version": 3
   },
   "file_extension": ".py",
   "mimetype": "text/x-python",
   "name": "python",
   "nbconvert_exporter": "python",
   "pygments_lexer": "ipython3",
   "version": "3.9.7"
  }
 },
 "nbformat": 4,
 "nbformat_minor": 5
}
